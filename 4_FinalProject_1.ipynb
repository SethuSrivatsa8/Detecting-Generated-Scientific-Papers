{
  "cells": [
    {
      "cell_type": "code",
      "source": [
        "import numpy as np\n",
        "np.random.seed(42) # results are reproducible and comparable across different runs"
      ],
      "metadata": {
        "id": "WUmERbCIDih7"
      },
      "execution_count": null,
      "outputs": []
    },
    {
      "cell_type": "code",
      "source": [
        "import nltk\n",
        "from sklearn.pipeline import Pipeline\n",
        "from sklearn.feature_extraction.text import CountVectorizer, TfidfVectorizer\n",
        "from sklearn.tree import DecisionTreeClassifier\n",
        "from sklearn.linear_model import LogisticRegression\n",
        "from sklearn.model_selection import GridSearchCV\n",
        "from sklearn.metrics import accuracy_score\n",
        "\n",
        "from sklearn.model_selection import train_test_split\n",
        "from sklearn.pipeline import Pipeline\n",
        "from sklearn.preprocessing import StandardScaler\n",
        "from sklearn.linear_model import LogisticRegression\n",
        "from sklearn.tree import DecisionTreeClassifier\n",
        "from sklearn.ensemble import RandomForestClassifier"
      ],
      "metadata": {
        "id": "NhGzXxQHOK8u"
      },
      "execution_count": null,
      "outputs": []
    },
    {
      "cell_type": "code",
      "source": [
        "from sklearn.model_selection import train_test_split\n",
        "from sklearn.metrics import accuracy_score, confusion_matrix\n",
        "from sklearn.metrics import ConfusionMatrixDisplay\n",
        "CMD = ConfusionMatrixDisplay\n",
        "from sklearn.metrics import classification_report\n",
        "CR = classification_report\n",
        "from sklearn.model_selection import GridSearchCV\n",
        "\n",
        "from sklearn.feature_extraction.text import CountVectorizer\n",
        "from sklearn.decomposition import TruncatedSVD\n",
        "from sklearn.preprocessing import LabelEncoder\n",
        "from gensim.models import Word2Vec\n",
        "from sklearn.svm import SVC\n",
        "from sklearn.pipeline import Pipeline"
      ],
      "metadata": {
        "id": "rbCzQzevOS_s"
      },
      "execution_count": null,
      "outputs": []
    },
    {
      "cell_type": "code",
      "source": [
        "import gensim"
      ],
      "metadata": {
        "id": "JwtrgJHFTavz"
      },
      "execution_count": null,
      "outputs": []
    },
    {
      "cell_type": "code",
      "execution_count": null,
      "metadata": {
        "id": "asv0Fnr0-Cmp"
      },
      "outputs": [],
      "source": [
        "import spacy\n",
        "import pandas as pd\n",
        "from collections import Counter\n",
        "from sklearn.feature_extraction.text import TfidfVectorizer\n",
        "import re"
      ]
    },
    {
      "cell_type": "code",
      "source": [
        "from google.colab import drive\n",
        "drive.mount('/content/drive')"
      ],
      "metadata": {
        "colab": {
          "base_uri": "https://localhost:8080/"
        },
        "id": "sKBKbp4hBa3-",
        "outputId": "d710878d-6666-492e-aa54-da1525bc2d0f"
      },
      "execution_count": null,
      "outputs": [
        {
          "output_type": "stream",
          "name": "stdout",
          "text": [
            "Mounted at /content/drive\n"
          ]
        }
      ]
    },
    {
      "cell_type": "code",
      "execution_count": null,
      "metadata": {
        "colab": {
          "base_uri": "https://localhost:8080/",
          "height": 224
        },
        "id": "RYOzsCJj_Cdq",
        "outputId": "a7d52742-777e-4530-a91a-de287c9f7c78"
      },
      "outputs": [
        {
          "output_type": "stream",
          "name": "stdout",
          "text": [
            "(5350, 2)\n"
          ]
        },
        {
          "output_type": "execute_result",
          "data": {
            "text/plain": [
              "                                                text  fake\n",
              "0  Modern two-dimensional imaging is of such qual...     0\n",
              "1  Background: The optimal sequence of systemic p...     1\n",
              "2  This chapter opens with a discussion of the ef...     1\n",
              "3  The time scale of the ultra-short-term can str...     1\n",
              "4  Electronic nose or machine olfaction are syste...     1"
            ],
            "text/html": [
              "\n",
              "  <div id=\"df-2c7d8e8e-55c5-4e35-8011-730d239cbf12\">\n",
              "    <div class=\"colab-df-container\">\n",
              "      <div>\n",
              "<style scoped>\n",
              "    .dataframe tbody tr th:only-of-type {\n",
              "        vertical-align: middle;\n",
              "    }\n",
              "\n",
              "    .dataframe tbody tr th {\n",
              "        vertical-align: top;\n",
              "    }\n",
              "\n",
              "    .dataframe thead th {\n",
              "        text-align: right;\n",
              "    }\n",
              "</style>\n",
              "<table border=\"1\" class=\"dataframe\">\n",
              "  <thead>\n",
              "    <tr style=\"text-align: right;\">\n",
              "      <th></th>\n",
              "      <th>text</th>\n",
              "      <th>fake</th>\n",
              "    </tr>\n",
              "  </thead>\n",
              "  <tbody>\n",
              "    <tr>\n",
              "      <th>0</th>\n",
              "      <td>Modern two-dimensional imaging is of such qual...</td>\n",
              "      <td>0</td>\n",
              "    </tr>\n",
              "    <tr>\n",
              "      <th>1</th>\n",
              "      <td>Background: The optimal sequence of systemic p...</td>\n",
              "      <td>1</td>\n",
              "    </tr>\n",
              "    <tr>\n",
              "      <th>2</th>\n",
              "      <td>This chapter opens with a discussion of the ef...</td>\n",
              "      <td>1</td>\n",
              "    </tr>\n",
              "    <tr>\n",
              "      <th>3</th>\n",
              "      <td>The time scale of the ultra-short-term can str...</td>\n",
              "      <td>1</td>\n",
              "    </tr>\n",
              "    <tr>\n",
              "      <th>4</th>\n",
              "      <td>Electronic nose or machine olfaction are syste...</td>\n",
              "      <td>1</td>\n",
              "    </tr>\n",
              "  </tbody>\n",
              "</table>\n",
              "</div>\n",
              "      <button class=\"colab-df-convert\" onclick=\"convertToInteractive('df-2c7d8e8e-55c5-4e35-8011-730d239cbf12')\"\n",
              "              title=\"Convert this dataframe to an interactive table.\"\n",
              "              style=\"display:none;\">\n",
              "        \n",
              "  <svg xmlns=\"http://www.w3.org/2000/svg\" height=\"24px\"viewBox=\"0 0 24 24\"\n",
              "       width=\"24px\">\n",
              "    <path d=\"M0 0h24v24H0V0z\" fill=\"none\"/>\n",
              "    <path d=\"M18.56 5.44l.94 2.06.94-2.06 2.06-.94-2.06-.94-.94-2.06-.94 2.06-2.06.94zm-11 1L8.5 8.5l.94-2.06 2.06-.94-2.06-.94L8.5 2.5l-.94 2.06-2.06.94zm10 10l.94 2.06.94-2.06 2.06-.94-2.06-.94-.94-2.06-.94 2.06-2.06.94z\"/><path d=\"M17.41 7.96l-1.37-1.37c-.4-.4-.92-.59-1.43-.59-.52 0-1.04.2-1.43.59L10.3 9.45l-7.72 7.72c-.78.78-.78 2.05 0 2.83L4 21.41c.39.39.9.59 1.41.59.51 0 1.02-.2 1.41-.59l7.78-7.78 2.81-2.81c.8-.78.8-2.07 0-2.86zM5.41 20L4 18.59l7.72-7.72 1.47 1.35L5.41 20z\"/>\n",
              "  </svg>\n",
              "      </button>\n",
              "      \n",
              "  <style>\n",
              "    .colab-df-container {\n",
              "      display:flex;\n",
              "      flex-wrap:wrap;\n",
              "      gap: 12px;\n",
              "    }\n",
              "\n",
              "    .colab-df-convert {\n",
              "      background-color: #E8F0FE;\n",
              "      border: none;\n",
              "      border-radius: 50%;\n",
              "      cursor: pointer;\n",
              "      display: none;\n",
              "      fill: #1967D2;\n",
              "      height: 32px;\n",
              "      padding: 0 0 0 0;\n",
              "      width: 32px;\n",
              "    }\n",
              "\n",
              "    .colab-df-convert:hover {\n",
              "      background-color: #E2EBFA;\n",
              "      box-shadow: 0px 1px 2px rgba(60, 64, 67, 0.3), 0px 1px 3px 1px rgba(60, 64, 67, 0.15);\n",
              "      fill: #174EA6;\n",
              "    }\n",
              "\n",
              "    [theme=dark] .colab-df-convert {\n",
              "      background-color: #3B4455;\n",
              "      fill: #D2E3FC;\n",
              "    }\n",
              "\n",
              "    [theme=dark] .colab-df-convert:hover {\n",
              "      background-color: #434B5C;\n",
              "      box-shadow: 0px 1px 3px 1px rgba(0, 0, 0, 0.15);\n",
              "      filter: drop-shadow(0px 1px 2px rgba(0, 0, 0, 0.3));\n",
              "      fill: #FFFFFF;\n",
              "    }\n",
              "  </style>\n",
              "\n",
              "      <script>\n",
              "        const buttonEl =\n",
              "          document.querySelector('#df-2c7d8e8e-55c5-4e35-8011-730d239cbf12 button.colab-df-convert');\n",
              "        buttonEl.style.display =\n",
              "          google.colab.kernel.accessAllowed ? 'block' : 'none';\n",
              "\n",
              "        async function convertToInteractive(key) {\n",
              "          const element = document.querySelector('#df-2c7d8e8e-55c5-4e35-8011-730d239cbf12');\n",
              "          const dataTable =\n",
              "            await google.colab.kernel.invokeFunction('convertToInteractive',\n",
              "                                                     [key], {});\n",
              "          if (!dataTable) return;\n",
              "\n",
              "          const docLinkHtml = 'Like what you see? Visit the ' +\n",
              "            '<a target=\"_blank\" href=https://colab.research.google.com/notebooks/data_table.ipynb>data table notebook</a>'\n",
              "            + ' to learn more about interactive tables.';\n",
              "          element.innerHTML = '';\n",
              "          dataTable['output_type'] = 'display_data';\n",
              "          await google.colab.output.renderOutput(dataTable, element);\n",
              "          const docLink = document.createElement('div');\n",
              "          docLink.innerHTML = docLinkHtml;\n",
              "          element.appendChild(docLink);\n",
              "        }\n",
              "      </script>\n",
              "    </div>\n",
              "  </div>\n",
              "  "
            ]
          },
          "metadata": {},
          "execution_count": 9
        }
      ],
      "source": [
        "df=pd.read_csv('/content/drive/MyDrive/fake_papers_train_part_public.csv')\n",
        "df = df.drop(columns = ['id'], axis = 1)\n",
        "print(df.shape)\n",
        "df.head()"
      ]
    },
    {
      "cell_type": "code",
      "source": [
        "count_0s = df['fake'].value_counts()[0]\n",
        "count_1s = df['fake'].value_counts()[1]\n",
        "\n",
        "print(\"Number of 0s:\", count_0s)\n",
        "print(\"Number of 1s:\", count_1s)\n"
      ],
      "metadata": {
        "colab": {
          "base_uri": "https://localhost:8080/"
        },
        "id": "ScQj1_BtJcaz",
        "outputId": "3f9e0df9-c1c2-4870-ef79-2ac7e40b9341"
      },
      "execution_count": null,
      "outputs": [
        {
          "output_type": "stream",
          "name": "stdout",
          "text": [
            "Number of 0s: 1686\n",
            "Number of 1s: 3664\n"
          ]
        }
      ]
    },
    {
      "cell_type": "markdown",
      "source": [
        "We are resampling to balance counts of 0s and 1s , and therefore ensure a uniform distribution of both 0s and 1s."
      ],
      "metadata": {
        "id": "LRoxhjY3OASn"
      }
    },
    {
      "cell_type": "markdown",
      "source": [
        "###Preprocessing and importing libraries"
      ],
      "metadata": {
        "id": "IbgH1bXSLuTV"
      }
    },
    {
      "cell_type": "markdown",
      "metadata": {
        "id": "VsB7dn9ieqZ0"
      },
      "source": [
        "1 stands for the generated content and 0 stands for human-written content."
      ]
    },
    {
      "cell_type": "code",
      "source": [
        "import spacy\n",
        "nlp = spacy.load(\"en_core_web_sm\")\n",
        "\n",
        "def clean_text(text):\n",
        "    text = ''.join(c for c in text if c.isalpha() or c.isspace())\n",
        "    doc = nlp(text)\n",
        "    text = [token.lemma_ for token in doc]\n",
        "    return ' '.join(text)\n",
        "\n",
        "# Apply the clean_text function to each row of the 'text' column in the dataframe\n",
        "df['cleanedtext'] = df['text'].apply(lambda x: clean_text(x.lower()))\n",
        "\n",
        "# Create a new column to store the lists of cleaned text for each document\n",
        "df['cleanedtext_list'] = None\n",
        "\n",
        "# Loop through each row in the dataframe and store the cleaned text for each document in a list\n",
        "for index, row in df.iterrows():\n",
        "    cleaned_text_list = row['cleanedtext'].split()\n",
        "    df.at[index, 'cleanedtext_list'] = cleaned_text_list\n",
        "df = df.drop('cleanedtext', axis=1)\n",
        "\n",
        "# Print the first 5 rows of the dataframe to check the new column\n",
        "df.head(5)"
      ],
      "metadata": {
        "colab": {
          "base_uri": "https://localhost:8080/",
          "height": 206
        },
        "id": "AwFI5l9jXZUD",
        "outputId": "90d94404-5b96-4c0d-e66f-8b4107675b56"
      },
      "execution_count": null,
      "outputs": [
        {
          "output_type": "execute_result",
          "data": {
            "text/plain": [
              "                                                text  fake  \\\n",
              "0  Modern two-dimensional imaging is of such qual...     0   \n",
              "1  Background: The optimal sequence of systemic p...     1   \n",
              "2  This chapter opens with a discussion of the ef...     1   \n",
              "3  The time scale of the ultra-short-term can str...     1   \n",
              "4  Electronic nose or machine olfaction are syste...     1   \n",
              "\n",
              "                                    cleanedtext_list  \n",
              "0  [modern, twodimensional, imaging, be, of, such...  \n",
              "1  [background, the, optimal, sequence, of, syste...  \n",
              "2  [this, chapter, open, with, a, discussion, of,...  \n",
              "3  [the, time, scale, of, the, ultrashortterm, ca...  \n",
              "4  [electronic, nose, or, machine, olfaction, be,...  "
            ],
            "text/html": [
              "\n",
              "  <div id=\"df-19ad63ee-fb6c-45f3-842a-f1a2db7505a5\">\n",
              "    <div class=\"colab-df-container\">\n",
              "      <div>\n",
              "<style scoped>\n",
              "    .dataframe tbody tr th:only-of-type {\n",
              "        vertical-align: middle;\n",
              "    }\n",
              "\n",
              "    .dataframe tbody tr th {\n",
              "        vertical-align: top;\n",
              "    }\n",
              "\n",
              "    .dataframe thead th {\n",
              "        text-align: right;\n",
              "    }\n",
              "</style>\n",
              "<table border=\"1\" class=\"dataframe\">\n",
              "  <thead>\n",
              "    <tr style=\"text-align: right;\">\n",
              "      <th></th>\n",
              "      <th>text</th>\n",
              "      <th>fake</th>\n",
              "      <th>cleanedtext_list</th>\n",
              "    </tr>\n",
              "  </thead>\n",
              "  <tbody>\n",
              "    <tr>\n",
              "      <th>0</th>\n",
              "      <td>Modern two-dimensional imaging is of such qual...</td>\n",
              "      <td>0</td>\n",
              "      <td>[modern, twodimensional, imaging, be, of, such...</td>\n",
              "    </tr>\n",
              "    <tr>\n",
              "      <th>1</th>\n",
              "      <td>Background: The optimal sequence of systemic p...</td>\n",
              "      <td>1</td>\n",
              "      <td>[background, the, optimal, sequence, of, syste...</td>\n",
              "    </tr>\n",
              "    <tr>\n",
              "      <th>2</th>\n",
              "      <td>This chapter opens with a discussion of the ef...</td>\n",
              "      <td>1</td>\n",
              "      <td>[this, chapter, open, with, a, discussion, of,...</td>\n",
              "    </tr>\n",
              "    <tr>\n",
              "      <th>3</th>\n",
              "      <td>The time scale of the ultra-short-term can str...</td>\n",
              "      <td>1</td>\n",
              "      <td>[the, time, scale, of, the, ultrashortterm, ca...</td>\n",
              "    </tr>\n",
              "    <tr>\n",
              "      <th>4</th>\n",
              "      <td>Electronic nose or machine olfaction are syste...</td>\n",
              "      <td>1</td>\n",
              "      <td>[electronic, nose, or, machine, olfaction, be,...</td>\n",
              "    </tr>\n",
              "  </tbody>\n",
              "</table>\n",
              "</div>\n",
              "      <button class=\"colab-df-convert\" onclick=\"convertToInteractive('df-19ad63ee-fb6c-45f3-842a-f1a2db7505a5')\"\n",
              "              title=\"Convert this dataframe to an interactive table.\"\n",
              "              style=\"display:none;\">\n",
              "        \n",
              "  <svg xmlns=\"http://www.w3.org/2000/svg\" height=\"24px\"viewBox=\"0 0 24 24\"\n",
              "       width=\"24px\">\n",
              "    <path d=\"M0 0h24v24H0V0z\" fill=\"none\"/>\n",
              "    <path d=\"M18.56 5.44l.94 2.06.94-2.06 2.06-.94-2.06-.94-.94-2.06-.94 2.06-2.06.94zm-11 1L8.5 8.5l.94-2.06 2.06-.94-2.06-.94L8.5 2.5l-.94 2.06-2.06.94zm10 10l.94 2.06.94-2.06 2.06-.94-2.06-.94-.94-2.06-.94 2.06-2.06.94z\"/><path d=\"M17.41 7.96l-1.37-1.37c-.4-.4-.92-.59-1.43-.59-.52 0-1.04.2-1.43.59L10.3 9.45l-7.72 7.72c-.78.78-.78 2.05 0 2.83L4 21.41c.39.39.9.59 1.41.59.51 0 1.02-.2 1.41-.59l7.78-7.78 2.81-2.81c.8-.78.8-2.07 0-2.86zM5.41 20L4 18.59l7.72-7.72 1.47 1.35L5.41 20z\"/>\n",
              "  </svg>\n",
              "      </button>\n",
              "      \n",
              "  <style>\n",
              "    .colab-df-container {\n",
              "      display:flex;\n",
              "      flex-wrap:wrap;\n",
              "      gap: 12px;\n",
              "    }\n",
              "\n",
              "    .colab-df-convert {\n",
              "      background-color: #E8F0FE;\n",
              "      border: none;\n",
              "      border-radius: 50%;\n",
              "      cursor: pointer;\n",
              "      display: none;\n",
              "      fill: #1967D2;\n",
              "      height: 32px;\n",
              "      padding: 0 0 0 0;\n",
              "      width: 32px;\n",
              "    }\n",
              "\n",
              "    .colab-df-convert:hover {\n",
              "      background-color: #E2EBFA;\n",
              "      box-shadow: 0px 1px 2px rgba(60, 64, 67, 0.3), 0px 1px 3px 1px rgba(60, 64, 67, 0.15);\n",
              "      fill: #174EA6;\n",
              "    }\n",
              "\n",
              "    [theme=dark] .colab-df-convert {\n",
              "      background-color: #3B4455;\n",
              "      fill: #D2E3FC;\n",
              "    }\n",
              "\n",
              "    [theme=dark] .colab-df-convert:hover {\n",
              "      background-color: #434B5C;\n",
              "      box-shadow: 0px 1px 3px 1px rgba(0, 0, 0, 0.15);\n",
              "      filter: drop-shadow(0px 1px 2px rgba(0, 0, 0, 0.3));\n",
              "      fill: #FFFFFF;\n",
              "    }\n",
              "  </style>\n",
              "\n",
              "      <script>\n",
              "        const buttonEl =\n",
              "          document.querySelector('#df-19ad63ee-fb6c-45f3-842a-f1a2db7505a5 button.colab-df-convert');\n",
              "        buttonEl.style.display =\n",
              "          google.colab.kernel.accessAllowed ? 'block' : 'none';\n",
              "\n",
              "        async function convertToInteractive(key) {\n",
              "          const element = document.querySelector('#df-19ad63ee-fb6c-45f3-842a-f1a2db7505a5');\n",
              "          const dataTable =\n",
              "            await google.colab.kernel.invokeFunction('convertToInteractive',\n",
              "                                                     [key], {});\n",
              "          if (!dataTable) return;\n",
              "\n",
              "          const docLinkHtml = 'Like what you see? Visit the ' +\n",
              "            '<a target=\"_blank\" href=https://colab.research.google.com/notebooks/data_table.ipynb>data table notebook</a>'\n",
              "            + ' to learn more about interactive tables.';\n",
              "          element.innerHTML = '';\n",
              "          dataTable['output_type'] = 'display_data';\n",
              "          await google.colab.output.renderOutput(dataTable, element);\n",
              "          const docLink = document.createElement('div');\n",
              "          docLink.innerHTML = docLinkHtml;\n",
              "          element.appendChild(docLink);\n",
              "        }\n",
              "      </script>\n",
              "    </div>\n",
              "  </div>\n",
              "  "
            ]
          },
          "metadata": {},
          "execution_count": 13
        }
      ]
    },
    {
      "cell_type": "code",
      "source": [
        "df['fake'].value_counts()"
      ],
      "metadata": {
        "colab": {
          "base_uri": "https://localhost:8080/"
        },
        "id": "HONnM1V_RGTk",
        "outputId": "ff15d841-3a49-4df1-9429-23eb6bb9d2d8"
      },
      "execution_count": null,
      "outputs": [
        {
          "output_type": "execute_result",
          "data": {
            "text/plain": [
              "1    3664\n",
              "0    1686\n",
              "Name: fake, dtype: int64"
            ]
          },
          "metadata": {},
          "execution_count": 14
        }
      ]
    },
    {
      "cell_type": "code",
      "execution_count": null,
      "metadata": {
        "id": "bmxPORq0c5oZ"
      },
      "outputs": [],
      "source": [
        "X = list(df['cleanedtext_list'])\n",
        "y = list(df['fake'])"
      ]
    },
    {
      "cell_type": "code",
      "source": [
        "# Split the data into training and test sets for normal df\n",
        "X_val_train, X_test, y_val_train, y_test = train_test_split(df['cleanedtext_list'], df['fake'], test_size=0.2,random_state=42)"
      ],
      "metadata": {
        "id": "amg46GgrTR-Z"
      },
      "execution_count": null,
      "outputs": []
    },
    {
      "cell_type": "code",
      "source": [
        "from sklearn.pipeline import Pipeline, FeatureUnion\n",
        "from sklearn.feature_extraction.text import CountVectorizer, TfidfVectorizer\n",
        "from sklearn.linear_model import LogisticRegression\n",
        "from sklearn.metrics import accuracy_score, precision_score, recall_score, f1_score"
      ],
      "metadata": {
        "id": "63ouS_d_Mavo"
      },
      "execution_count": null,
      "outputs": []
    },
    {
      "cell_type": "markdown",
      "source": [
        "##Word2vec Continuous Bag Of Words"
      ],
      "metadata": {
        "id": "weZHHAIIVLM8"
      }
    },
    {
      "cell_type": "code",
      "source": [
        "# Train a C bow Word2Vec model on the training data\n",
        "w2v_model = gensim.models.Word2Vec(X_val_train,\n",
        "                                   vector_size=100,\n",
        "                                   window=5,\n",
        "                                   min_count=2,\n",
        "                                   workers=4,\n",
        "                                   sg=0)  # set sg=0 to use Continuous Bag of Words"
      ],
      "metadata": {
        "id": "pV6e5C1CjWjj"
      },
      "execution_count": null,
      "outputs": []
    },
    {
      "cell_type": "code",
      "source": [
        "words = set(w2v_model.wv.index_to_key)"
      ],
      "metadata": {
        "id": "l3jPNZzTjksz"
      },
      "execution_count": null,
      "outputs": []
    },
    {
      "cell_type": "code",
      "source": [
        "# Vectorize the training and test data using the trained Skip Gram Word2Vec model\n",
        "X_train_vect = np.array([np.array([w2v_model.wv[i] for i in ls if i in words])\n",
        "                         for ls in X_val_train])\n",
        "X_test_vect = np.array([np.array([w2v_model.wv[i] for i in ls if i in words])\n",
        "                        for ls in X_test])"
      ],
      "metadata": {
        "colab": {
          "base_uri": "https://localhost:8080/"
        },
        "id": "s5Gb-YLPjosa",
        "outputId": "67b3c0ec-8fb1-4c63-a05c-9dbe7eb23908"
      },
      "execution_count": null,
      "outputs": [
        {
          "output_type": "stream",
          "name": "stderr",
          "text": [
            "<ipython-input-41-89338a9c01c2>:2: VisibleDeprecationWarning: Creating an ndarray from ragged nested sequences (which is a list-or-tuple of lists-or-tuples-or ndarrays with different lengths or shapes) is deprecated. If you meant to do this, you must specify 'dtype=object' when creating the ndarray.\n",
            "  X_train_vect = np.array([np.array([w2v_model.wv[i] for i in ls if i in words])\n",
            "<ipython-input-41-89338a9c01c2>:4: VisibleDeprecationWarning: Creating an ndarray from ragged nested sequences (which is a list-or-tuple of lists-or-tuples-or ndarrays with different lengths or shapes) is deprecated. If you meant to do this, you must specify 'dtype=object' when creating the ndarray.\n",
            "  X_test_vect = np.array([np.array([w2v_model.wv[i] for i in ls if i in words])\n"
          ]
        }
      ]
    },
    {
      "cell_type": "code",
      "source": [
        "# Average the word vectors for each sentence (and assign a vector of zeros if the model\n",
        "# did not learn any of the words in the text message during training)\n",
        "X_train_vect_avg = []\n",
        "for v in X_train_vect:\n",
        "    if v.size:\n",
        "        X_train_vect_avg.append(v.mean(axis=0))\n",
        "    else:\n",
        "        X_train_vect_avg.append(np.zeros(100, dtype=float))\n",
        "\n",
        "X_test_vect_avg = []\n",
        "for v in X_test_vect:\n",
        "    if v.size:\n",
        "        X_test_vect_avg.append(v.mean(axis=0))\n",
        "    else:\n",
        "        X_test_vect_avg.append(np.zeros(100, dtype=float))"
      ],
      "metadata": {
        "id": "vv1F2NnKjqJ8"
      },
      "execution_count": null,
      "outputs": []
    },
    {
      "cell_type": "code",
      "source": [
        "from sklearn.ensemble import RandomForestClassifier\n",
        "\n",
        "#pipeline for feature extraction using Tfidf and random forest model\n",
        "pipeline = Pipeline([\n",
        "    ('clf', RandomForestClassifier(random_state=42))\n",
        "])\n",
        "\n",
        "#hyperparameters to tune\n",
        "params = {\n",
        "    'clf__max_depth': [2, 4, 6],\n",
        "    'clf__min_samples_split': [2, 4, 10],\n",
        "    'clf__min_samples_leaf': [4, 6, 8]\n",
        "}\n",
        "# Use GridSearchCV to tune hyperparameters and select the best model\n",
        "grid_search = GridSearchCV(pipeline, params, cv=4)\n",
        "grid_search.fit(X_train_vect_avg, y_val_train.values.ravel())\n",
        "\n",
        "#results of the grid search\n",
        "results = grid_search.cv_results_\n",
        "\n",
        "# Print the performance for each set of hyperparameters\n",
        "for i in range(len(results['params'])):\n",
        "    print(\"Parameters: \", results['params'][i])\n",
        "    print(\"Mean accuracy on validation set: \", results['mean_test_score'][i])\n",
        "\n",
        "best_model = grid_search.best_estimator_\n",
        "best_params = grid_search.best_params_\n",
        "\n",
        "# Evaluate the final model on the test set\n",
        "y_pred = best_model.predict(X_test_vect_avg)\n",
        "accuracy = accuracy_score(y_test, y_pred)\n",
        "\n",
        "print(f'Best Parameters: {best_params}')\n",
        "print(f'Test Accuracy: {accuracy:.4f}')\n",
        "CMD.from_predictions(y_test,y_pred)\n",
        "print(CR(y_test,y_pred))"
      ],
      "metadata": {
        "colab": {
          "base_uri": "https://localhost:8080/",
          "height": 1000
        },
        "id": "7VsmYNVem3ds",
        "outputId": "2547036d-e12c-4969-b3dc-4a0adb8a9cc7"
      },
      "execution_count": null,
      "outputs": [
        {
          "output_type": "stream",
          "name": "stdout",
          "text": [
            "Parameters:  {'clf__max_depth': 2, 'clf__min_samples_leaf': 4, 'clf__min_samples_split': 2}\n",
            "Mean accuracy on validation set:  0.6871495327102803\n",
            "Parameters:  {'clf__max_depth': 2, 'clf__min_samples_leaf': 4, 'clf__min_samples_split': 4}\n",
            "Mean accuracy on validation set:  0.6871495327102803\n",
            "Parameters:  {'clf__max_depth': 2, 'clf__min_samples_leaf': 4, 'clf__min_samples_split': 10}\n",
            "Mean accuracy on validation set:  0.6871495327102803\n",
            "Parameters:  {'clf__max_depth': 2, 'clf__min_samples_leaf': 6, 'clf__min_samples_split': 2}\n",
            "Mean accuracy on validation set:  0.6871495327102803\n",
            "Parameters:  {'clf__max_depth': 2, 'clf__min_samples_leaf': 6, 'clf__min_samples_split': 4}\n",
            "Mean accuracy on validation set:  0.6871495327102803\n",
            "Parameters:  {'clf__max_depth': 2, 'clf__min_samples_leaf': 6, 'clf__min_samples_split': 10}\n",
            "Mean accuracy on validation set:  0.6871495327102803\n",
            "Parameters:  {'clf__max_depth': 2, 'clf__min_samples_leaf': 8, 'clf__min_samples_split': 2}\n",
            "Mean accuracy on validation set:  0.6871495327102803\n",
            "Parameters:  {'clf__max_depth': 2, 'clf__min_samples_leaf': 8, 'clf__min_samples_split': 4}\n",
            "Mean accuracy on validation set:  0.6871495327102803\n",
            "Parameters:  {'clf__max_depth': 2, 'clf__min_samples_leaf': 8, 'clf__min_samples_split': 10}\n",
            "Mean accuracy on validation set:  0.6871495327102803\n",
            "Parameters:  {'clf__max_depth': 4, 'clf__min_samples_leaf': 4, 'clf__min_samples_split': 2}\n",
            "Mean accuracy on validation set:  0.7584112149532709\n",
            "Parameters:  {'clf__max_depth': 4, 'clf__min_samples_leaf': 4, 'clf__min_samples_split': 4}\n",
            "Mean accuracy on validation set:  0.7584112149532709\n",
            "Parameters:  {'clf__max_depth': 4, 'clf__min_samples_leaf': 4, 'clf__min_samples_split': 10}\n",
            "Mean accuracy on validation set:  0.7579439252336447\n",
            "Parameters:  {'clf__max_depth': 4, 'clf__min_samples_leaf': 6, 'clf__min_samples_split': 2}\n",
            "Mean accuracy on validation set:  0.7577102803738317\n",
            "Parameters:  {'clf__max_depth': 4, 'clf__min_samples_leaf': 6, 'clf__min_samples_split': 4}\n",
            "Mean accuracy on validation set:  0.7577102803738317\n",
            "Parameters:  {'clf__max_depth': 4, 'clf__min_samples_leaf': 6, 'clf__min_samples_split': 10}\n",
            "Mean accuracy on validation set:  0.7577102803738317\n",
            "Parameters:  {'clf__max_depth': 4, 'clf__min_samples_leaf': 8, 'clf__min_samples_split': 2}\n",
            "Mean accuracy on validation set:  0.7574766355140187\n",
            "Parameters:  {'clf__max_depth': 4, 'clf__min_samples_leaf': 8, 'clf__min_samples_split': 4}\n",
            "Mean accuracy on validation set:  0.7574766355140187\n",
            "Parameters:  {'clf__max_depth': 4, 'clf__min_samples_leaf': 8, 'clf__min_samples_split': 10}\n",
            "Mean accuracy on validation set:  0.7574766355140187\n",
            "Parameters:  {'clf__max_depth': 6, 'clf__min_samples_leaf': 4, 'clf__min_samples_split': 2}\n",
            "Mean accuracy on validation set:  0.777803738317757\n",
            "Parameters:  {'clf__max_depth': 6, 'clf__min_samples_leaf': 4, 'clf__min_samples_split': 4}\n",
            "Mean accuracy on validation set:  0.777803738317757\n",
            "Parameters:  {'clf__max_depth': 6, 'clf__min_samples_leaf': 4, 'clf__min_samples_split': 10}\n",
            "Mean accuracy on validation set:  0.7787383177570094\n",
            "Parameters:  {'clf__max_depth': 6, 'clf__min_samples_leaf': 6, 'clf__min_samples_split': 2}\n",
            "Mean accuracy on validation set:  0.7822429906542057\n",
            "Parameters:  {'clf__max_depth': 6, 'clf__min_samples_leaf': 6, 'clf__min_samples_split': 4}\n",
            "Mean accuracy on validation set:  0.7822429906542057\n",
            "Parameters:  {'clf__max_depth': 6, 'clf__min_samples_leaf': 6, 'clf__min_samples_split': 10}\n",
            "Mean accuracy on validation set:  0.7822429906542057\n",
            "Parameters:  {'clf__max_depth': 6, 'clf__min_samples_leaf': 8, 'clf__min_samples_split': 2}\n",
            "Mean accuracy on validation set:  0.7775700934579439\n",
            "Parameters:  {'clf__max_depth': 6, 'clf__min_samples_leaf': 8, 'clf__min_samples_split': 4}\n",
            "Mean accuracy on validation set:  0.7775700934579439\n",
            "Parameters:  {'clf__max_depth': 6, 'clf__min_samples_leaf': 8, 'clf__min_samples_split': 10}\n",
            "Mean accuracy on validation set:  0.7775700934579439\n",
            "Best Parameters: {'clf__max_depth': 6, 'clf__min_samples_leaf': 6, 'clf__min_samples_split': 2}\n",
            "Test Accuracy: 0.7701\n",
            "              precision    recall  f1-score   support\n",
            "\n",
            "           0       0.70      0.49      0.58       342\n",
            "           1       0.79      0.90      0.84       728\n",
            "\n",
            "    accuracy                           0.77      1070\n",
            "   macro avg       0.75      0.70      0.71      1070\n",
            "weighted avg       0.76      0.77      0.76      1070\n",
            "\n"
          ]
        },
        {
          "output_type": "display_data",
          "data": {
            "text/plain": [
              "<Figure size 640x480 with 2 Axes>"
            ],
            "image/png": "[encoded data removed]"
          },
          "metadata": {}
        }
      ]
    },
    {
      "cell_type": "code",
      "source": [
        "from sklearn.linear_model import LogisticRegression\n",
        "\n",
        "#pipeline for feature extraction using Tfidf and logistic regression model\n",
        "pipeline = Pipeline([\n",
        "    ('clf', LogisticRegression(max_iter=1000,random_state=42))\n",
        "])\n",
        "\n",
        "#hyperparameters to tune\n",
        "params = {\n",
        "    'clf__C': [ 0.01, 0.1, 1, 5, 8, 10],\n",
        "    'clf__penalty': ['l1', 'l2'],\n",
        "    'clf__solver': ['liblinear', 'saga']\n",
        "}\n",
        "\n",
        "# Use GridSearchCV to tune hyperparameters and select the best model\n",
        "grid_search = GridSearchCV(pipeline, params, cv=4,error_score=0)\n",
        "grid_search.fit(X_train_vect_avg, y_val_train.values.ravel())"
      ],
      "metadata": {
        "colab": {
          "base_uri": "https://localhost:8080/",
          "height": 643
        },
        "id": "cpYkScYjkH55",
        "outputId": "e729e769-df61-42fd-910f-ca3916796c22"
      },
      "execution_count": null,
      "outputs": [
        {
          "output_type": "stream",
          "name": "stderr",
          "text": [
            "/usr/local/lib/python3.10/dist-packages/sklearn/linear_model/_sag.py:350: ConvergenceWarning: The max_iter was reached which means the coef_ did not converge\n",
            "  warnings.warn(\n",
            "/usr/local/lib/python3.10/dist-packages/sklearn/linear_model/_sag.py:350: ConvergenceWarning: The max_iter was reached which means the coef_ did not converge\n",
            "  warnings.warn(\n",
            "/usr/local/lib/python3.10/dist-packages/sklearn/linear_model/_sag.py:350: ConvergenceWarning: The max_iter was reached which means the coef_ did not converge\n",
            "  warnings.warn(\n",
            "/usr/local/lib/python3.10/dist-packages/sklearn/linear_model/_sag.py:350: ConvergenceWarning: The max_iter was reached which means the coef_ did not converge\n",
            "  warnings.warn(\n",
            "/usr/local/lib/python3.10/dist-packages/sklearn/linear_model/_sag.py:350: ConvergenceWarning: The max_iter was reached which means the coef_ did not converge\n",
            "  warnings.warn(\n",
            "/usr/local/lib/python3.10/dist-packages/sklearn/linear_model/_sag.py:350: ConvergenceWarning: The max_iter was reached which means the coef_ did not converge\n",
            "  warnings.warn(\n",
            "/usr/local/lib/python3.10/dist-packages/sklearn/linear_model/_sag.py:350: ConvergenceWarning: The max_iter was reached which means the coef_ did not converge\n",
            "  warnings.warn(\n",
            "/usr/local/lib/python3.10/dist-packages/sklearn/linear_model/_sag.py:350: ConvergenceWarning: The max_iter was reached which means the coef_ did not converge\n",
            "  warnings.warn(\n",
            "/usr/local/lib/python3.10/dist-packages/sklearn/linear_model/_sag.py:350: ConvergenceWarning: The max_iter was reached which means the coef_ did not converge\n",
            "  warnings.warn(\n",
            "/usr/local/lib/python3.10/dist-packages/sklearn/linear_model/_sag.py:350: ConvergenceWarning: The max_iter was reached which means the coef_ did not converge\n",
            "  warnings.warn(\n",
            "/usr/local/lib/python3.10/dist-packages/sklearn/linear_model/_sag.py:350: ConvergenceWarning: The max_iter was reached which means the coef_ did not converge\n",
            "  warnings.warn(\n",
            "/usr/local/lib/python3.10/dist-packages/sklearn/linear_model/_sag.py:350: ConvergenceWarning: The max_iter was reached which means the coef_ did not converge\n",
            "  warnings.warn(\n",
            "/usr/local/lib/python3.10/dist-packages/sklearn/linear_model/_sag.py:350: ConvergenceWarning: The max_iter was reached which means the coef_ did not converge\n",
            "  warnings.warn(\n",
            "/usr/local/lib/python3.10/dist-packages/sklearn/linear_model/_sag.py:350: ConvergenceWarning: The max_iter was reached which means the coef_ did not converge\n",
            "  warnings.warn(\n"
          ]
        },
        {
          "output_type": "execute_result",
          "data": {
            "text/plain": [
              "GridSearchCV(cv=4, error_score=0,\n",
              "             estimator=Pipeline(steps=[('clf',\n",
              "                                        LogisticRegression(max_iter=1000,\n",
              "                                                           random_state=42))]),\n",
              "             param_grid={'clf__C': [0.01, 0.1, 1, 5, 8, 10],\n",
              "                         'clf__penalty': ['l1', 'l2'],\n",
              "                         'clf__solver': ['liblinear', 'saga']})"
            ],
            "text/html": [
              "<style>#sk-container-id-1 {color: black;background-color: white;}#sk-container-id-1 pre{padding: 0;}#sk-container-id-1 div.sk-toggleable {background-color: white;}#sk-container-id-1 label.sk-toggleable__label {cursor: pointer;display: block;width: 100%;margin-bottom: 0;padding: 0.3em;box-sizing: border-box;text-align: center;}#sk-container-id-1 label.sk-toggleable__label-arrow:before {content: \"▸\";float: left;margin-right: 0.25em;color: #696969;}#sk-container-id-1 label.sk-toggleable__label-arrow:hover:before {color: black;}#sk-container-id-1 div.sk-estimator:hover label.sk-toggleable__label-arrow:before {color: black;}#sk-container-id-1 div.sk-toggleable__content {max-height: 0;max-width: 0;overflow: hidden;text-align: left;background-color: #f0f8ff;}#sk-container-id-1 div.sk-toggleable__content pre {margin: 0.2em;color: black;border-radius: 0.25em;background-color: #f0f8ff;}#sk-container-id-1 input.sk-toggleable__control:checked~div.sk-toggleable__content {max-height: 200px;max-width: 100%;overflow: auto;}#sk-container-id-1 input.sk-toggleable__control:checked~label.sk-toggleable__label-arrow:before {content: \"▾\";}#sk-container-id-1 div.sk-estimator input.sk-toggleable__control:checked~label.sk-toggleable__label {background-color: #d4ebff;}#sk-container-id-1 div.sk-label input.sk-toggleable__control:checked~label.sk-toggleable__label {background-color: #d4ebff;}#sk-container-id-1 input.sk-hidden--visually {border: 0;clip: rect(1px 1px 1px 1px);clip: rect(1px, 1px, 1px, 1px);height: 1px;margin: -1px;overflow: hidden;padding: 0;position: absolute;width: 1px;}#sk-container-id-1 div.sk-estimator {font-family: monospace;background-color: #f0f8ff;border: 1px dotted black;border-radius: 0.25em;box-sizing: border-box;margin-bottom: 0.5em;}#sk-container-id-1 div.sk-estimator:hover {background-color: #d4ebff;}#sk-container-id-1 div.sk-parallel-item::after {content: \"\";width: 100%;border-bottom: 1px solid gray;flex-grow: 1;}#sk-container-id-1 div.sk-label:hover label.sk-toggleable__label {background-color: #d4ebff;}#sk-container-id-1 div.sk-serial::before {content: \"\";position: absolute;border-left: 1px solid gray;box-sizing: border-box;top: 0;bottom: 0;left: 50%;z-index: 0;}#sk-container-id-1 div.sk-serial {display: flex;flex-direction: column;align-items: center;background-color: white;padding-right: 0.2em;padding-left: 0.2em;position: relative;}#sk-container-id-1 div.sk-item {position: relative;z-index: 1;}#sk-container-id-1 div.sk-parallel {display: flex;align-items: stretch;justify-content: center;background-color: white;position: relative;}#sk-container-id-1 div.sk-item::before, #sk-container-id-1 div.sk-parallel-item::before {content: \"\";position: absolute;border-left: 1px solid gray;box-sizing: border-box;top: 0;bottom: 0;left: 50%;z-index: -1;}#sk-container-id-1 div.sk-parallel-item {display: flex;flex-direction: column;z-index: 1;position: relative;background-color: white;}#sk-container-id-1 div.sk-parallel-item:first-child::after {align-self: flex-end;width: 50%;}#sk-container-id-1 div.sk-parallel-item:last-child::after {align-self: flex-start;width: 50%;}#sk-container-id-1 div.sk-parallel-item:only-child::after {width: 0;}#sk-container-id-1 div.sk-dashed-wrapped {border: 1px dashed gray;margin: 0 0.4em 0.5em 0.4em;box-sizing: border-box;padding-bottom: 0.4em;background-color: white;}#sk-container-id-1 div.sk-label label {font-family: monospace;font-weight: bold;display: inline-block;line-height: 1.2em;}#sk-container-id-1 div.sk-label-container {text-align: center;}#sk-container-id-1 div.sk-container {/* jupyter's `normalize.less` sets `[hidden] { display: none; }` but bootstrap.min.css set `[hidden] { display: none !important; }` so we also need the `!important` here to be able to override the default hidden behavior on the sphinx rendered scikit-learn.org. See: https://github.com/scikit-learn/scikit-learn/issues/21755 */display: inline-block !important;position: relative;}#sk-container-id-1 div.sk-text-repr-fallback {display: none;}</style><div id=\"sk-container-id-1\" class=\"sk-top-container\"><div class=\"sk-text-repr-fallback\"><pre>GridSearchCV(cv=4, error_score=0,\n",
              "             estimator=Pipeline(steps=[(&#x27;clf&#x27;,\n",
              "                                        LogisticRegression(max_iter=1000,\n",
              "                                                           random_state=42))]),\n",
              "             param_grid={&#x27;clf__C&#x27;: [0.01, 0.1, 1, 5, 8, 10],\n",
              "                         &#x27;clf__penalty&#x27;: [&#x27;l1&#x27;, &#x27;l2&#x27;],\n",
              "                         &#x27;clf__solver&#x27;: [&#x27;liblinear&#x27;, &#x27;saga&#x27;]})</pre><b>In a Jupyter environment, please rerun this cell to show the HTML representation or trust the notebook. <br />On GitHub, the HTML representation is unable to render, please try loading this page with nbviewer.org.</b></div><div class=\"sk-container\" hidden><div class=\"sk-item sk-dashed-wrapped\"><div class=\"sk-label-container\"><div class=\"sk-label sk-toggleable\"><input class=\"sk-toggleable__control sk-hidden--visually\" id=\"sk-estimator-id-1\" type=\"checkbox\" ><label for=\"sk-estimator-id-1\" class=\"sk-toggleable__label sk-toggleable__label-arrow\">GridSearchCV</label><div class=\"sk-toggleable__content\"><pre>GridSearchCV(cv=4, error_score=0,\n",
              "             estimator=Pipeline(steps=[(&#x27;clf&#x27;,\n",
              "                                        LogisticRegression(max_iter=1000,\n",
              "                                                           random_state=42))]),\n",
              "             param_grid={&#x27;clf__C&#x27;: [0.01, 0.1, 1, 5, 8, 10],\n",
              "                         &#x27;clf__penalty&#x27;: [&#x27;l1&#x27;, &#x27;l2&#x27;],\n",
              "                         &#x27;clf__solver&#x27;: [&#x27;liblinear&#x27;, &#x27;saga&#x27;]})</pre></div></div></div><div class=\"sk-parallel\"><div class=\"sk-parallel-item\"><div class=\"sk-item\"><div class=\"sk-label-container\"><div class=\"sk-label sk-toggleable\"><input class=\"sk-toggleable__control sk-hidden--visually\" id=\"sk-estimator-id-2\" type=\"checkbox\" ><label for=\"sk-estimator-id-2\" class=\"sk-toggleable__label sk-toggleable__label-arrow\">estimator: Pipeline</label><div class=\"sk-toggleable__content\"><pre>Pipeline(steps=[(&#x27;clf&#x27;, LogisticRegression(max_iter=1000, random_state=42))])</pre></div></div></div><div class=\"sk-serial\"><div class=\"sk-item\"><div class=\"sk-serial\"><div class=\"sk-item\"><div class=\"sk-estimator sk-toggleable\"><input class=\"sk-toggleable__control sk-hidden--visually\" id=\"sk-estimator-id-3\" type=\"checkbox\" ><label for=\"sk-estimator-id-3\" class=\"sk-toggleable__label sk-toggleable__label-arrow\">LogisticRegression</label><div class=\"sk-toggleable__content\"><pre>LogisticRegression(max_iter=1000, random_state=42)</pre></div></div></div></div></div></div></div></div></div></div></div></div>"
            ]
          },
          "metadata": {},
          "execution_count": 44
        }
      ]
    },
    {
      "cell_type": "code",
      "source": [
        "# Get the results of the grid search\n",
        "results = grid_search.cv_results_\n",
        "\n",
        "# Print the performance metrics for each set of hyperparameters on validation set\n",
        "for i in range(len(results['params'])):\n",
        "    print(\"Parameters: \", results['params'][i])\n",
        "    print(\"Mean accuracy on validation set: \", results['mean_test_score'][i])"
      ],
      "metadata": {
        "colab": {
          "base_uri": "https://localhost:8080/"
        },
        "id": "oXoDpjZkkMrd",
        "outputId": "9760895c-75b7-4838-8696-a0f30af13d2f"
      },
      "execution_count": null,
      "outputs": [
        {
          "output_type": "stream",
          "name": "stdout",
          "text": [
            "Parameters:  {'clf__C': 0.01, 'clf__penalty': 'l1', 'clf__solver': 'liblinear'}\n",
            "Mean accuracy on validation set:  0.685981308411215\n",
            "Parameters:  {'clf__C': 0.01, 'clf__penalty': 'l1', 'clf__solver': 'saga'}\n",
            "Mean accuracy on validation set:  0.685981308411215\n",
            "Parameters:  {'clf__C': 0.01, 'clf__penalty': 'l2', 'clf__solver': 'liblinear'}\n",
            "Mean accuracy on validation set:  0.702570093457944\n",
            "Parameters:  {'clf__C': 0.01, 'clf__penalty': 'l2', 'clf__solver': 'saga'}\n",
            "Mean accuracy on validation set:  0.7037383177570093\n",
            "Parameters:  {'clf__C': 0.1, 'clf__penalty': 'l1', 'clf__solver': 'liblinear'}\n",
            "Mean accuracy on validation set:  0.7042056074766355\n",
            "Parameters:  {'clf__C': 0.1, 'clf__penalty': 'l1', 'clf__solver': 'saga'}\n",
            "Mean accuracy on validation set:  0.7046728971962617\n",
            "Parameters:  {'clf__C': 0.1, 'clf__penalty': 'l2', 'clf__solver': 'liblinear'}\n",
            "Mean accuracy on validation set:  0.7212616822429907\n",
            "Parameters:  {'clf__C': 0.1, 'clf__penalty': 'l2', 'clf__solver': 'saga'}\n",
            "Mean accuracy on validation set:  0.7142523364485982\n",
            "Parameters:  {'clf__C': 1, 'clf__penalty': 'l1', 'clf__solver': 'liblinear'}\n",
            "Mean accuracy on validation set:  0.7446261682242991\n",
            "Parameters:  {'clf__C': 1, 'clf__penalty': 'l1', 'clf__solver': 'saga'}\n",
            "Mean accuracy on validation set:  0.744392523364486\n",
            "Parameters:  {'clf__C': 1, 'clf__penalty': 'l2', 'clf__solver': 'liblinear'}\n",
            "Mean accuracy on validation set:  0.7387850467289719\n",
            "Parameters:  {'clf__C': 1, 'clf__penalty': 'l2', 'clf__solver': 'saga'}\n",
            "Mean accuracy on validation set:  0.741822429906542\n",
            "Parameters:  {'clf__C': 5, 'clf__penalty': 'l1', 'clf__solver': 'liblinear'}\n",
            "Mean accuracy on validation set:  0.7514018691588785\n",
            "Parameters:  {'clf__C': 5, 'clf__penalty': 'l1', 'clf__solver': 'saga'}\n",
            "Mean accuracy on validation set:  0.7488317757009345\n",
            "Parameters:  {'clf__C': 5, 'clf__penalty': 'l2', 'clf__solver': 'liblinear'}\n",
            "Mean accuracy on validation set:  0.7434579439252337\n",
            "Parameters:  {'clf__C': 5, 'clf__penalty': 'l2', 'clf__solver': 'saga'}\n",
            "Mean accuracy on validation set:  0.7436915887850467\n",
            "Parameters:  {'clf__C': 8, 'clf__penalty': 'l1', 'clf__solver': 'liblinear'}\n",
            "Mean accuracy on validation set:  0.7574766355140188\n",
            "Parameters:  {'clf__C': 8, 'clf__penalty': 'l1', 'clf__solver': 'saga'}\n",
            "Mean accuracy on validation set:  0.7539719626168224\n",
            "Parameters:  {'clf__C': 8, 'clf__penalty': 'l2', 'clf__solver': 'liblinear'}\n",
            "Mean accuracy on validation set:  0.747429906542056\n",
            "Parameters:  {'clf__C': 8, 'clf__penalty': 'l2', 'clf__solver': 'saga'}\n",
            "Mean accuracy on validation set:  0.7455607476635514\n",
            "Parameters:  {'clf__C': 10, 'clf__penalty': 'l1', 'clf__solver': 'liblinear'}\n",
            "Mean accuracy on validation set:  0.7602803738317757\n",
            "Parameters:  {'clf__C': 10, 'clf__penalty': 'l1', 'clf__solver': 'saga'}\n",
            "Mean accuracy on validation set:  0.7556074766355141\n",
            "Parameters:  {'clf__C': 10, 'clf__penalty': 'l2', 'clf__solver': 'liblinear'}\n",
            "Mean accuracy on validation set:  0.7474299065420561\n",
            "Parameters:  {'clf__C': 10, 'clf__penalty': 'l2', 'clf__solver': 'saga'}\n",
            "Mean accuracy on validation set:  0.7481308411214953\n"
          ]
        }
      ]
    },
    {
      "cell_type": "code",
      "source": [
        "best_model = grid_search.best_estimator_\n",
        "best_params = grid_search.best_params_\n",
        "\n",
        "# Evaluate the final model on the test set\n",
        "y_pred = best_model.predict(X_test_vect_avg)\n",
        "accuracy = accuracy_score(y_test, y_pred)\n",
        "\n",
        "print(f'Best Parameters: {best_params}')\n",
        "print(f'Test Accuracy: {accuracy:.4f}')\n",
        "CMD.from_predictions(y_test,y_pred)\n",
        "print(CR(y_test,y_pred))"
      ],
      "metadata": {
        "colab": {
          "base_uri": "https://localhost:8080/",
          "height": 648
        },
        "id": "GzfMEOpwlV0Q",
        "outputId": "222c813e-735a-4e78-f94a-b34795b3f966"
      },
      "execution_count": null,
      "outputs": [
        {
          "output_type": "stream",
          "name": "stdout",
          "text": [
            "Best Parameters: {'clf__C': 10, 'clf__penalty': 'l1', 'clf__solver': 'liblinear'}\n",
            "Test Accuracy: 0.7607\n",
            "              precision    recall  f1-score   support\n",
            "\n",
            "           0       0.66      0.52      0.58       342\n",
            "           1       0.80      0.87      0.83       728\n",
            "\n",
            "    accuracy                           0.76      1070\n",
            "   macro avg       0.73      0.70      0.71      1070\n",
            "weighted avg       0.75      0.76      0.75      1070\n",
            "\n"
          ]
        },
        {
          "output_type": "display_data",
          "data": {
            "text/plain": [
              "<Figure size 640x480 with 2 Axes>"
            ],
            "image/png": "[encoded data removed]"
          },
          "metadata": {}
        }
      ]
    },
    {
      "cell_type": "code",
      "source": [
        "from sklearn.pipeline import Pipeline\n",
        "from sklearn.feature_extraction.text import TfidfVectorizer\n",
        "from sklearn.linear_model import LogisticRegression\n",
        "from sklearn.tree import DecisionTreeClassifier\n",
        "from sklearn.model_selection import GridSearchCV"
      ],
      "metadata": {
        "id": "piFx_jjGkcGB"
      },
      "execution_count": null,
      "outputs": []
    },
    {
      "cell_type": "code",
      "source": [
        "from sklearn.svm import SVC\n",
        "from sklearn.model_selection import GridSearchCV\n",
        "from sklearn.metrics import classification_report\n",
        "\n",
        "# Define the SVM model\n",
        "svc = SVC()\n",
        "\n",
        "# Define the hyperparameter search space\n",
        "param_grid = {\n",
        "    'C': [0.1, 1, 10],\n",
        "    'kernel': ['linear', 'rbf'],\n",
        "    'gamma': ['scale', 'auto']\n",
        "}\n",
        "\n",
        "# Perform grid search with cross-validation\n",
        "grid_search = GridSearchCV(estimator=svc, param_grid=param_grid, cv=5, n_jobs=-1)\n",
        "grid_search.fit(X_train_vect_avg, y_val_train.values.ravel())\n",
        "\n",
        "# Print the best hyperparameters and the corresponding mean cross-validation score\n",
        "print(f'Best hyperparameters: {grid_search.best_params_}')\n",
        "print(f'Mean cross-validation score: {grid_search.best_score_:.4f}')\n",
        "\n",
        "# Use the best model to make predictions on the test data\n",
        "y_pred = grid_search.predict(X_test_vect_avg)\n",
        "\n",
        "best_model = grid_search.best_estimator_\n",
        "best_params = grid_search.best_params_\n",
        "\n",
        "# Evaluate the final model on the test set\n",
        "y_pred = best_model.predict(X_test_vect_avg)\n",
        "accuracy = accuracy_score(y_test, y_pred)\n",
        "\n",
        "print(f'Best Parameters: {best_params}')\n",
        "print(f'Test Accuracy: {accuracy:.4f}')\n",
        "CMD.from_predictions(y_test,y_pred)\n",
        "print(CR(y_test,y_pred))"
      ],
      "metadata": {
        "colab": {
          "base_uri": "https://localhost:8080/",
          "height": 684
        },
        "id": "3O9SZEPsojUh",
        "outputId": "5bf2fb5c-c8bd-4958-874e-3cd17a0635e2"
      },
      "execution_count": null,
      "outputs": [
        {
          "output_type": "stream",
          "name": "stdout",
          "text": [
            "Best hyperparameters: {'C': 10, 'gamma': 'scale', 'kernel': 'rbf'}\n",
            "Mean cross-validation score: 0.8084\n",
            "Best Parameters: {'C': 10, 'gamma': 'scale', 'kernel': 'rbf'}\n",
            "Test Accuracy: 0.7963\n",
            "              precision    recall  f1-score   support\n",
            "\n",
            "           0       0.70      0.64      0.67       342\n",
            "           1       0.84      0.87      0.85       728\n",
            "\n",
            "    accuracy                           0.80      1070\n",
            "   macro avg       0.77      0.76      0.76      1070\n",
            "weighted avg       0.79      0.80      0.79      1070\n",
            "\n"
          ]
        },
        {
          "output_type": "display_data",
          "data": {
            "text/plain": [
              "<Figure size 640x480 with 2 Axes>"
            ],
            "image/png": "[encoded data removed]"
          },
          "metadata": {}
        }
      ]
    },
    {
      "cell_type": "code",
      "source": [
        "from sklearn.neural_network import MLPClassifier\n",
        "mlp = MLPClassifier()\n",
        "mlp_model = mlp.fit(X_train_vect_avg, y_val_train.values.ravel())\n",
        "\n",
        "# Use the trained model to make predictions on the test data\n",
        "y_pred = mlp_model.predict(X_test_vect_avg)\n",
        "\n",
        "accuracy = accuracy_score(y_test, y_pred)\n",
        "\n",
        "print(f'Test Accuracy: {accuracy:.4f}')\n",
        "CMD.from_predictions(y_test,y_pred)\n",
        "print(CR(y_test,y_pred))"
      ],
      "metadata": {
        "colab": {
          "base_uri": "https://localhost:8080/",
          "height": 686
        },
        "id": "8ElUE9YEkxwB",
        "outputId": "0d3084b4-c5f3-4756-c21e-be639b8e6839"
      },
      "execution_count": null,
      "outputs": [
        {
          "output_type": "stream",
          "name": "stderr",
          "text": [
            "/usr/local/lib/python3.10/dist-packages/sklearn/neural_network/_multilayer_perceptron.py:686: ConvergenceWarning: Stochastic Optimizer: Maximum iterations (200) reached and the optimization hasn't converged yet.\n",
            "  warnings.warn(\n"
          ]
        },
        {
          "output_type": "stream",
          "name": "stdout",
          "text": [
            "Test Accuracy: 0.7925\n",
            "              precision    recall  f1-score   support\n",
            "\n",
            "           0       0.69      0.64      0.66       342\n",
            "           1       0.84      0.87      0.85       728\n",
            "\n",
            "    accuracy                           0.79      1070\n",
            "   macro avg       0.76      0.75      0.76      1070\n",
            "weighted avg       0.79      0.79      0.79      1070\n",
            "\n"
          ]
        },
        {
          "output_type": "display_data",
          "data": {
            "text/plain": [
              "<Figure size 640x480 with 2 Axes>"
            ],
            "image/png": "[encoded data removed]"
          },
          "metadata": {}
        }
      ]
    },
    {
      "cell_type": "code",
      "source": [
        "from sklearn.ensemble import GradientBoostingClassifier\n",
        "\n",
        "gb = GradientBoostingClassifier()\n",
        "gb_model = gb.fit(X_train_vect_avg, y_val_train.values.ravel())\n",
        "\n",
        "# Use the trained model to make predictions on the test data\n",
        "y_pred = gb_model.predict(X_test_vect_avg)\n",
        "\n",
        "accuracy = accuracy_score(y_test, y_pred)\n",
        "\n",
        "print(f'Test Accuracy: {accuracy:.4f}')\n",
        "CMD.from_predictions(y_test,y_pred)\n",
        "print(CR(y_test,y_pred))"
      ],
      "metadata": {
        "colab": {
          "base_uri": "https://localhost:8080/",
          "height": 630
        },
        "id": "AzoTw2eDkxix",
        "outputId": "3af5bbed-2c04-474d-dfe1-85a0fc42c1f5"
      },
      "execution_count": null,
      "outputs": [
        {
          "output_type": "stream",
          "name": "stdout",
          "text": [
            "Test Accuracy: 0.7804\n",
            "              precision    recall  f1-score   support\n",
            "\n",
            "           0       0.68      0.60      0.64       342\n",
            "           1       0.82      0.87      0.84       728\n",
            "\n",
            "    accuracy                           0.78      1070\n",
            "   macro avg       0.75      0.73      0.74      1070\n",
            "weighted avg       0.78      0.78      0.78      1070\n",
            "\n"
          ]
        },
        {
          "output_type": "display_data",
          "data": {
            "text/plain": [
              "<Figure size 640x480 with 2 Axes>"
            ],
            "image/png": "[encoded data removed]"
          },
          "metadata": {}
        }
      ]
    },
    {
      "cell_type": "markdown",
      "source": [
        "## Word2Vec(Skip Gram)"
      ],
      "metadata": {
        "id": "7nYfwEbV-Awb"
      }
    },
    {
      "cell_type": "code",
      "source": [
        "import gensim\n",
        "import numpy as np\n",
        "import pandas as pd"
      ],
      "metadata": {
        "id": "xbu6R4Yw9Hee"
      },
      "execution_count": null,
      "outputs": []
    },
    {
      "cell_type": "code",
      "source": [
        "# Train a Skip Gram Word2Vec model on the training data\n",
        "w2v_model = gensim.models.Word2Vec(X_val_train,\n",
        "                                   vector_size=100,\n",
        "                                   window=5,\n",
        "                                   min_count=2,\n",
        "                                   workers=4,\n",
        "                                   sg=1)  # set sg=1 to use the Skip Gram algorithm"
      ],
      "metadata": {
        "id": "Apoh3Erb9Jy8"
      },
      "execution_count": null,
      "outputs": []
    },
    {
      "cell_type": "code",
      "source": [
        "words = set(w2v_model.wv.index_to_key)"
      ],
      "metadata": {
        "id": "N0b2aqrB9sFU"
      },
      "execution_count": null,
      "outputs": []
    },
    {
      "cell_type": "code",
      "source": [
        "# Vectorize the training and test data using the trained Skip Gram Word2Vec model\n",
        "X_train_vect = np.array([np.array([w2v_model.wv[i] for i in ls if i in words])\n",
        "                         for ls in X_val_train])\n",
        "X_test_vect = np.array([np.array([w2v_model.wv[i] for i in ls if i in words])\n",
        "                        for ls in X_test])"
      ],
      "metadata": {
        "colab": {
          "base_uri": "https://localhost:8080/"
        },
        "id": "1bHFVYA19v3e",
        "outputId": "c365b12c-64a0-4c99-b76b-9d9cbe3672b6"
      },
      "execution_count": null,
      "outputs": [
        {
          "output_type": "stream",
          "name": "stderr",
          "text": [
            "<ipython-input-56-89338a9c01c2>:2: VisibleDeprecationWarning: Creating an ndarray from ragged nested sequences (which is a list-or-tuple of lists-or-tuples-or ndarrays with different lengths or shapes) is deprecated. If you meant to do this, you must specify 'dtype=object' when creating the ndarray.\n",
            "  X_train_vect = np.array([np.array([w2v_model.wv[i] for i in ls if i in words])\n",
            "<ipython-input-56-89338a9c01c2>:4: VisibleDeprecationWarning: Creating an ndarray from ragged nested sequences (which is a list-or-tuple of lists-or-tuples-or ndarrays with different lengths or shapes) is deprecated. If you meant to do this, you must specify 'dtype=object' when creating the ndarray.\n",
            "  X_test_vect = np.array([np.array([w2v_model.wv[i] for i in ls if i in words])\n"
          ]
        }
      ]
    },
    {
      "cell_type": "code",
      "source": [
        "# Average the word vectors for each sentence (and assign a vector of zeros if the model\n",
        "# did not learn any of the words in the text message during training)\n",
        "X_train_vect_avg = []\n",
        "for v in X_train_vect:\n",
        "    if v.size:\n",
        "        X_train_vect_avg.append(v.mean(axis=0))\n",
        "    else:\n",
        "        X_train_vect_avg.append(np.zeros(100, dtype=float))\n",
        "\n",
        "X_test_vect_avg = []\n",
        "for v in X_test_vect:\n",
        "    if v.size:\n",
        "        X_test_vect_avg.append(v.mean(axis=0))\n",
        "    else:\n",
        "        X_test_vect_avg.append(np.zeros(100, dtype=float))"
      ],
      "metadata": {
        "id": "4JorcM3f96BP"
      },
      "execution_count": null,
      "outputs": []
    },
    {
      "cell_type": "code",
      "source": [
        "from sklearn.ensemble import RandomForestClassifier\n",
        "\n",
        "#pipeline for feature extraction using Tfidf and random forest model\n",
        "pipeline = Pipeline([\n",
        "    ('clf', RandomForestClassifier(random_state=42))\n",
        "])\n",
        "\n",
        "#hyperparameters to tune\n",
        "params = {\n",
        "    'clf__max_depth': [2, 4, 6],\n",
        "    'clf__min_samples_split': [2, 4, 10],\n",
        "    'clf__min_samples_leaf': [4, 6, 8]\n",
        "}\n",
        "# Use GridSearchCV to tune hyperparameters and select the best model\n",
        "grid_search = GridSearchCV(pipeline, params, cv=4)\n",
        "grid_search.fit(X_train_vect_avg, y_val_train.values.ravel())\n",
        "\n",
        "#results of the grid search\n",
        "results = grid_search.cv_results_\n",
        "\n",
        "# Print the performance for each set of hyperparameters\n",
        "for i in range(len(results['params'])):\n",
        "    print(\"Parameters: \", results['params'][i])\n",
        "    print(\"Mean accuracy on validation set: \", results['mean_test_score'][i])\n",
        "\n",
        "best_model = grid_search.best_estimator_\n",
        "best_params = grid_search.best_params_\n",
        "\n",
        "# Evaluate the final model on the test set\n",
        "y_pred = best_model.predict(X_test_vect_avg)\n",
        "accuracy = accuracy_score(y_test, y_pred)\n",
        "\n",
        "print(f'Best Parameters: {best_params}')\n",
        "print(f'Test Accuracy: {accuracy:.4f}')\n",
        "CMD.from_predictions(y_test,y_pred)\n",
        "print(CR(y_test,y_pred))"
      ],
      "metadata": {
        "colab": {
          "base_uri": "https://localhost:8080/",
          "height": 1000
        },
        "id": "NQKp1quLpdos",
        "outputId": "c3c3c6c8-c1a3-4382-db0d-ad4c30e60251"
      },
      "execution_count": null,
      "outputs": [
        {
          "output_type": "stream",
          "name": "stdout",
          "text": [
            "Parameters:  {'clf__max_depth': 2, 'clf__min_samples_leaf': 4, 'clf__min_samples_split': 2}\n",
            "Mean accuracy on validation set:  0.6913551401869159\n",
            "Parameters:  {'clf__max_depth': 2, 'clf__min_samples_leaf': 4, 'clf__min_samples_split': 4}\n",
            "Mean accuracy on validation set:  0.6913551401869159\n",
            "Parameters:  {'clf__max_depth': 2, 'clf__min_samples_leaf': 4, 'clf__min_samples_split': 10}\n",
            "Mean accuracy on validation set:  0.6913551401869159\n",
            "Parameters:  {'clf__max_depth': 2, 'clf__min_samples_leaf': 6, 'clf__min_samples_split': 2}\n",
            "Mean accuracy on validation set:  0.6913551401869159\n",
            "Parameters:  {'clf__max_depth': 2, 'clf__min_samples_leaf': 6, 'clf__min_samples_split': 4}\n",
            "Mean accuracy on validation set:  0.6913551401869159\n",
            "Parameters:  {'clf__max_depth': 2, 'clf__min_samples_leaf': 6, 'clf__min_samples_split': 10}\n",
            "Mean accuracy on validation set:  0.6913551401869159\n",
            "Parameters:  {'clf__max_depth': 2, 'clf__min_samples_leaf': 8, 'clf__min_samples_split': 2}\n",
            "Mean accuracy on validation set:  0.6913551401869159\n",
            "Parameters:  {'clf__max_depth': 2, 'clf__min_samples_leaf': 8, 'clf__min_samples_split': 4}\n",
            "Mean accuracy on validation set:  0.6913551401869159\n",
            "Parameters:  {'clf__max_depth': 2, 'clf__min_samples_leaf': 8, 'clf__min_samples_split': 10}\n",
            "Mean accuracy on validation set:  0.6913551401869159\n",
            "Parameters:  {'clf__max_depth': 4, 'clf__min_samples_leaf': 4, 'clf__min_samples_split': 2}\n",
            "Mean accuracy on validation set:  0.7810747663551401\n",
            "Parameters:  {'clf__max_depth': 4, 'clf__min_samples_leaf': 4, 'clf__min_samples_split': 4}\n",
            "Mean accuracy on validation set:  0.7810747663551401\n",
            "Parameters:  {'clf__max_depth': 4, 'clf__min_samples_leaf': 4, 'clf__min_samples_split': 10}\n",
            "Mean accuracy on validation set:  0.7827102803738317\n",
            "Parameters:  {'clf__max_depth': 4, 'clf__min_samples_leaf': 6, 'clf__min_samples_split': 2}\n",
            "Mean accuracy on validation set:  0.7836448598130842\n",
            "Parameters:  {'clf__max_depth': 4, 'clf__min_samples_leaf': 6, 'clf__min_samples_split': 4}\n",
            "Mean accuracy on validation set:  0.7836448598130842\n",
            "Parameters:  {'clf__max_depth': 4, 'clf__min_samples_leaf': 6, 'clf__min_samples_split': 10}\n",
            "Mean accuracy on validation set:  0.7836448598130842\n",
            "Parameters:  {'clf__max_depth': 4, 'clf__min_samples_leaf': 8, 'clf__min_samples_split': 2}\n",
            "Mean accuracy on validation set:  0.7815420560747663\n",
            "Parameters:  {'clf__max_depth': 4, 'clf__min_samples_leaf': 8, 'clf__min_samples_split': 4}\n",
            "Mean accuracy on validation set:  0.7815420560747663\n",
            "Parameters:  {'clf__max_depth': 4, 'clf__min_samples_leaf': 8, 'clf__min_samples_split': 10}\n",
            "Mean accuracy on validation set:  0.7815420560747663\n",
            "Parameters:  {'clf__max_depth': 6, 'clf__min_samples_leaf': 4, 'clf__min_samples_split': 2}\n",
            "Mean accuracy on validation set:  0.808411214953271\n",
            "Parameters:  {'clf__max_depth': 6, 'clf__min_samples_leaf': 4, 'clf__min_samples_split': 4}\n",
            "Mean accuracy on validation set:  0.808411214953271\n",
            "Parameters:  {'clf__max_depth': 6, 'clf__min_samples_leaf': 4, 'clf__min_samples_split': 10}\n",
            "Mean accuracy on validation set:  0.8084112149532711\n",
            "Parameters:  {'clf__max_depth': 6, 'clf__min_samples_leaf': 6, 'clf__min_samples_split': 2}\n",
            "Mean accuracy on validation set:  0.8102803738317756\n",
            "Parameters:  {'clf__max_depth': 6, 'clf__min_samples_leaf': 6, 'clf__min_samples_split': 4}\n",
            "Mean accuracy on validation set:  0.8102803738317756\n",
            "Parameters:  {'clf__max_depth': 6, 'clf__min_samples_leaf': 6, 'clf__min_samples_split': 10}\n",
            "Mean accuracy on validation set:  0.8102803738317756\n",
            "Parameters:  {'clf__max_depth': 6, 'clf__min_samples_leaf': 8, 'clf__min_samples_split': 2}\n",
            "Mean accuracy on validation set:  0.8079439252336449\n",
            "Parameters:  {'clf__max_depth': 6, 'clf__min_samples_leaf': 8, 'clf__min_samples_split': 4}\n",
            "Mean accuracy on validation set:  0.8079439252336449\n",
            "Parameters:  {'clf__max_depth': 6, 'clf__min_samples_leaf': 8, 'clf__min_samples_split': 10}\n",
            "Mean accuracy on validation set:  0.8079439252336449\n",
            "Best Parameters: {'clf__max_depth': 6, 'clf__min_samples_leaf': 6, 'clf__min_samples_split': 2}\n",
            "Test Accuracy: 0.8075\n",
            "              precision    recall  f1-score   support\n",
            "\n",
            "           0       0.79      0.54      0.64       342\n",
            "           1       0.81      0.93      0.87       728\n",
            "\n",
            "    accuracy                           0.81      1070\n",
            "   macro avg       0.80      0.74      0.76      1070\n",
            "weighted avg       0.81      0.81      0.80      1070\n",
            "\n"
          ]
        },
        {
          "output_type": "display_data",
          "data": {
            "text/plain": [
              "<Figure size 640x480 with 2 Axes>"
            ],
            "image/png": "[encoded data removed]"
          },
          "metadata": {}
        }
      ]
    },
    {
      "cell_type": "code",
      "source": [
        "from sklearn.linear_model import LogisticRegression\n",
        "\n",
        "#pipeline for feature extraction using Tfidf and logistic regression model\n",
        "pipeline = Pipeline([\n",
        "    ('clf', LogisticRegression(max_iter=1000,random_state=42))\n",
        "])\n",
        "\n",
        "#hyperparameters to tune\n",
        "params = {\n",
        "    'clf__C': [ 0.01, 0.1, 1, 5, 8, 10],\n",
        "    'clf__penalty': ['l1', 'l2'],\n",
        "    'clf__solver': ['liblinear', 'saga']\n",
        "}\n",
        "\n",
        "# Use GridSearchCV to tune hyperparameters and select the best model\n",
        "grid_search = GridSearchCV(pipeline, params, cv=4,error_score=0)\n",
        "grid_search.fit(X_train_vect_avg, y_val_train.values.ravel())"
      ],
      "metadata": {
        "colab": {
          "base_uri": "https://localhost:8080/",
          "height": 116
        },
        "id": "KIESKu9y-2Ha",
        "outputId": "a8148966-a766-41c2-eef2-dc9e84ee715f"
      },
      "execution_count": null,
      "outputs": [
        {
          "output_type": "execute_result",
          "data": {
            "text/plain": [
              "GridSearchCV(cv=4, error_score=0,\n",
              "             estimator=Pipeline(steps=[('clf',\n",
              "                                        LogisticRegression(max_iter=1000,\n",
              "                                                           random_state=42))]),\n",
              "             param_grid={'clf__C': [0.01, 0.1, 1, 5, 8, 10],\n",
              "                         'clf__penalty': ['l1', 'l2'],\n",
              "                         'clf__solver': ['liblinear', 'saga']})"
            ],
            "text/html": [
              "<style>#sk-container-id-1 {color: black;background-color: white;}#sk-container-id-1 pre{padding: 0;}#sk-container-id-1 div.sk-toggleable {background-color: white;}#sk-container-id-1 label.sk-toggleable__label {cursor: pointer;display: block;width: 100%;margin-bottom: 0;padding: 0.3em;box-sizing: border-box;text-align: center;}#sk-container-id-1 label.sk-toggleable__label-arrow:before {content: \"▸\";float: left;margin-right: 0.25em;color: #696969;}#sk-container-id-1 label.sk-toggleable__label-arrow:hover:before {color: black;}#sk-container-id-1 div.sk-estimator:hover label.sk-toggleable__label-arrow:before {color: black;}#sk-container-id-1 div.sk-toggleable__content {max-height: 0;max-width: 0;overflow: hidden;text-align: left;background-color: #f0f8ff;}#sk-container-id-1 div.sk-toggleable__content pre {margin: 0.2em;color: black;border-radius: 0.25em;background-color: #f0f8ff;}#sk-container-id-1 input.sk-toggleable__control:checked~div.sk-toggleable__content {max-height: 200px;max-width: 100%;overflow: auto;}#sk-container-id-1 input.sk-toggleable__control:checked~label.sk-toggleable__label-arrow:before {content: \"▾\";}#sk-container-id-1 div.sk-estimator input.sk-toggleable__control:checked~label.sk-toggleable__label {background-color: #d4ebff;}#sk-container-id-1 div.sk-label input.sk-toggleable__control:checked~label.sk-toggleable__label {background-color: #d4ebff;}#sk-container-id-1 input.sk-hidden--visually {border: 0;clip: rect(1px 1px 1px 1px);clip: rect(1px, 1px, 1px, 1px);height: 1px;margin: -1px;overflow: hidden;padding: 0;position: absolute;width: 1px;}#sk-container-id-1 div.sk-estimator {font-family: monospace;background-color: #f0f8ff;border: 1px dotted black;border-radius: 0.25em;box-sizing: border-box;margin-bottom: 0.5em;}#sk-container-id-1 div.sk-estimator:hover {background-color: #d4ebff;}#sk-container-id-1 div.sk-parallel-item::after {content: \"\";width: 100%;border-bottom: 1px solid gray;flex-grow: 1;}#sk-container-id-1 div.sk-label:hover label.sk-toggleable__label {background-color: #d4ebff;}#sk-container-id-1 div.sk-serial::before {content: \"\";position: absolute;border-left: 1px solid gray;box-sizing: border-box;top: 0;bottom: 0;left: 50%;z-index: 0;}#sk-container-id-1 div.sk-serial {display: flex;flex-direction: column;align-items: center;background-color: white;padding-right: 0.2em;padding-left: 0.2em;position: relative;}#sk-container-id-1 div.sk-item {position: relative;z-index: 1;}#sk-container-id-1 div.sk-parallel {display: flex;align-items: stretch;justify-content: center;background-color: white;position: relative;}#sk-container-id-1 div.sk-item::before, #sk-container-id-1 div.sk-parallel-item::before {content: \"\";position: absolute;border-left: 1px solid gray;box-sizing: border-box;top: 0;bottom: 0;left: 50%;z-index: -1;}#sk-container-id-1 div.sk-parallel-item {display: flex;flex-direction: column;z-index: 1;position: relative;background-color: white;}#sk-container-id-1 div.sk-parallel-item:first-child::after {align-self: flex-end;width: 50%;}#sk-container-id-1 div.sk-parallel-item:last-child::after {align-self: flex-start;width: 50%;}#sk-container-id-1 div.sk-parallel-item:only-child::after {width: 0;}#sk-container-id-1 div.sk-dashed-wrapped {border: 1px dashed gray;margin: 0 0.4em 0.5em 0.4em;box-sizing: border-box;padding-bottom: 0.4em;background-color: white;}#sk-container-id-1 div.sk-label label {font-family: monospace;font-weight: bold;display: inline-block;line-height: 1.2em;}#sk-container-id-1 div.sk-label-container {text-align: center;}#sk-container-id-1 div.sk-container {/* jupyter's `normalize.less` sets `[hidden] { display: none; }` but bootstrap.min.css set `[hidden] { display: none !important; }` so we also need the `!important` here to be able to override the default hidden behavior on the sphinx rendered scikit-learn.org. See: https://github.com/scikit-learn/scikit-learn/issues/21755 */display: inline-block !important;position: relative;}#sk-container-id-1 div.sk-text-repr-fallback {display: none;}</style><div id=\"sk-container-id-1\" class=\"sk-top-container\"><div class=\"sk-text-repr-fallback\"><pre>GridSearchCV(cv=4, error_score=0,\n",
              "             estimator=Pipeline(steps=[(&#x27;clf&#x27;,\n",
              "                                        LogisticRegression(max_iter=1000,\n",
              "                                                           random_state=42))]),\n",
              "             param_grid={&#x27;clf__C&#x27;: [0.01, 0.1, 1, 5, 8, 10],\n",
              "                         &#x27;clf__penalty&#x27;: [&#x27;l1&#x27;, &#x27;l2&#x27;],\n",
              "                         &#x27;clf__solver&#x27;: [&#x27;liblinear&#x27;, &#x27;saga&#x27;]})</pre><b>In a Jupyter environment, please rerun this cell to show the HTML representation or trust the notebook. <br />On GitHub, the HTML representation is unable to render, please try loading this page with nbviewer.org.</b></div><div class=\"sk-container\" hidden><div class=\"sk-item sk-dashed-wrapped\"><div class=\"sk-label-container\"><div class=\"sk-label sk-toggleable\"><input class=\"sk-toggleable__control sk-hidden--visually\" id=\"sk-estimator-id-1\" type=\"checkbox\" ><label for=\"sk-estimator-id-1\" class=\"sk-toggleable__label sk-toggleable__label-arrow\">GridSearchCV</label><div class=\"sk-toggleable__content\"><pre>GridSearchCV(cv=4, error_score=0,\n",
              "             estimator=Pipeline(steps=[(&#x27;clf&#x27;,\n",
              "                                        LogisticRegression(max_iter=1000,\n",
              "                                                           random_state=42))]),\n",
              "             param_grid={&#x27;clf__C&#x27;: [0.01, 0.1, 1, 5, 8, 10],\n",
              "                         &#x27;clf__penalty&#x27;: [&#x27;l1&#x27;, &#x27;l2&#x27;],\n",
              "                         &#x27;clf__solver&#x27;: [&#x27;liblinear&#x27;, &#x27;saga&#x27;]})</pre></div></div></div><div class=\"sk-parallel\"><div class=\"sk-parallel-item\"><div class=\"sk-item\"><div class=\"sk-label-container\"><div class=\"sk-label sk-toggleable\"><input class=\"sk-toggleable__control sk-hidden--visually\" id=\"sk-estimator-id-2\" type=\"checkbox\" ><label for=\"sk-estimator-id-2\" class=\"sk-toggleable__label sk-toggleable__label-arrow\">estimator: Pipeline</label><div class=\"sk-toggleable__content\"><pre>Pipeline(steps=[(&#x27;clf&#x27;, LogisticRegression(max_iter=1000, random_state=42))])</pre></div></div></div><div class=\"sk-serial\"><div class=\"sk-item\"><div class=\"sk-serial\"><div class=\"sk-item\"><div class=\"sk-estimator sk-toggleable\"><input class=\"sk-toggleable__control sk-hidden--visually\" id=\"sk-estimator-id-3\" type=\"checkbox\" ><label for=\"sk-estimator-id-3\" class=\"sk-toggleable__label sk-toggleable__label-arrow\">LogisticRegression</label><div class=\"sk-toggleable__content\"><pre>LogisticRegression(max_iter=1000, random_state=42)</pre></div></div></div></div></div></div></div></div></div></div></div></div>"
            ]
          },
          "metadata": {},
          "execution_count": 28
        }
      ]
    },
    {
      "cell_type": "code",
      "source": [
        "# Get the results of the grid search\n",
        "results = grid_search.cv_results_\n",
        "\n",
        "# Print the performance metrics for each set of hyperparameters on validation set\n",
        "for i in range(len(results['params'])):\n",
        "    print(\"Parameters: \", results['params'][i])\n",
        "    print(\"Mean accuracy on validation set: \", results['mean_test_score'][i])"
      ],
      "metadata": {
        "colab": {
          "base_uri": "https://localhost:8080/"
        },
        "id": "RAXnQtn_AKOS",
        "outputId": "115c1b0d-0a48-4518-d1cb-003b8c8874c7"
      },
      "execution_count": null,
      "outputs": [
        {
          "output_type": "stream",
          "name": "stdout",
          "text": [
            "Parameters:  {'clf__C': 0.01, 'clf__penalty': 'l1', 'clf__solver': 'liblinear'}\n",
            "Mean accuracy on validation set:  0.685981308411215\n",
            "Parameters:  {'clf__C': 0.01, 'clf__penalty': 'l1', 'clf__solver': 'saga'}\n",
            "Mean accuracy on validation set:  0.685981308411215\n",
            "Parameters:  {'clf__C': 0.01, 'clf__penalty': 'l2', 'clf__solver': 'liblinear'}\n",
            "Mean accuracy on validation set:  0.685981308411215\n",
            "Parameters:  {'clf__C': 0.01, 'clf__penalty': 'l2', 'clf__solver': 'saga'}\n",
            "Mean accuracy on validation set:  0.685981308411215\n",
            "Parameters:  {'clf__C': 0.1, 'clf__penalty': 'l1', 'clf__solver': 'liblinear'}\n",
            "Mean accuracy on validation set:  0.705607476635514\n",
            "Parameters:  {'clf__C': 0.1, 'clf__penalty': 'l1', 'clf__solver': 'saga'}\n",
            "Mean accuracy on validation set:  0.7067757009345794\n",
            "Parameters:  {'clf__C': 0.1, 'clf__penalty': 'l2', 'clf__solver': 'liblinear'}\n",
            "Mean accuracy on validation set:  0.7149532710280374\n",
            "Parameters:  {'clf__C': 0.1, 'clf__penalty': 'l2', 'clf__solver': 'saga'}\n",
            "Mean accuracy on validation set:  0.7147196261682243\n",
            "Parameters:  {'clf__C': 1, 'clf__penalty': 'l1', 'clf__solver': 'liblinear'}\n",
            "Mean accuracy on validation set:  0.7759345794392524\n",
            "Parameters:  {'clf__C': 1, 'clf__penalty': 'l1', 'clf__solver': 'saga'}\n",
            "Mean accuracy on validation set:  0.7754672897196262\n",
            "Parameters:  {'clf__C': 1, 'clf__penalty': 'l2', 'clf__solver': 'liblinear'}\n",
            "Mean accuracy on validation set:  0.763785046728972\n",
            "Parameters:  {'clf__C': 1, 'clf__penalty': 'l2', 'clf__solver': 'saga'}\n",
            "Mean accuracy on validation set:  0.7635514018691588\n",
            "Parameters:  {'clf__C': 5, 'clf__penalty': 'l1', 'clf__solver': 'liblinear'}\n",
            "Mean accuracy on validation set:  0.789018691588785\n",
            "Parameters:  {'clf__C': 5, 'clf__penalty': 'l1', 'clf__solver': 'saga'}\n",
            "Mean accuracy on validation set:  0.7908878504672896\n",
            "Parameters:  {'clf__C': 5, 'clf__penalty': 'l2', 'clf__solver': 'liblinear'}\n",
            "Mean accuracy on validation set:  0.7794392523364486\n",
            "Parameters:  {'clf__C': 5, 'clf__penalty': 'l2', 'clf__solver': 'saga'}\n",
            "Mean accuracy on validation set:  0.7808411214953271\n",
            "Parameters:  {'clf__C': 8, 'clf__penalty': 'l1', 'clf__solver': 'liblinear'}\n",
            "Mean accuracy on validation set:  0.7906542056074766\n",
            "Parameters:  {'clf__C': 8, 'clf__penalty': 'l1', 'clf__solver': 'saga'}\n",
            "Mean accuracy on validation set:  0.7925233644859813\n",
            "Parameters:  {'clf__C': 8, 'clf__penalty': 'l2', 'clf__solver': 'liblinear'}\n",
            "Mean accuracy on validation set:  0.7859813084112149\n",
            "Parameters:  {'clf__C': 8, 'clf__penalty': 'l2', 'clf__solver': 'saga'}\n",
            "Mean accuracy on validation set:  0.7855140186915888\n",
            "Parameters:  {'clf__C': 10, 'clf__penalty': 'l1', 'clf__solver': 'liblinear'}\n",
            "Mean accuracy on validation set:  0.7925233644859813\n",
            "Parameters:  {'clf__C': 10, 'clf__penalty': 'l1', 'clf__solver': 'saga'}\n",
            "Mean accuracy on validation set:  0.7922897196261682\n",
            "Parameters:  {'clf__C': 10, 'clf__penalty': 'l2', 'clf__solver': 'liblinear'}\n",
            "Mean accuracy on validation set:  0.7871495327102803\n",
            "Parameters:  {'clf__C': 10, 'clf__penalty': 'l2', 'clf__solver': 'saga'}\n",
            "Mean accuracy on validation set:  0.7857476635514019\n"
          ]
        }
      ]
    },
    {
      "cell_type": "code",
      "source": [
        "best_model = grid_search.best_estimator_\n",
        "best_params = grid_search.best_params_\n",
        "\n",
        "# Evaluate the final model on the test set\n",
        "y_pred = best_model.predict(X_test_vect_avg)\n",
        "accuracy = accuracy_score(y_test, y_pred)\n",
        "\n",
        "print(f'Best Parameters: {best_params}')\n",
        "print(f'Test Accuracy: {accuracy:.4f}')\n",
        "CMD.from_predictions(y_test,y_pred)\n",
        "print(CR(y_test,y_pred))"
      ],
      "metadata": {
        "colab": {
          "base_uri": "https://localhost:8080/",
          "height": 648
        },
        "id": "CYFqftIQAcdt",
        "outputId": "3c56a9b0-198f-4f1e-bbd2-e3fbbc743a89"
      },
      "execution_count": null,
      "outputs": [
        {
          "output_type": "stream",
          "name": "stdout",
          "text": [
            "Best Parameters: {'clf__C': 8, 'clf__penalty': 'l1', 'clf__solver': 'saga'}\n",
            "Test Accuracy: 0.8019\n",
            "              precision    recall  f1-score   support\n",
            "\n",
            "           0       0.72      0.63      0.67       342\n",
            "           1       0.84      0.88      0.86       728\n",
            "\n",
            "    accuracy                           0.80      1070\n",
            "   macro avg       0.78      0.76      0.76      1070\n",
            "weighted avg       0.80      0.80      0.80      1070\n",
            "\n"
          ]
        },
        {
          "output_type": "display_data",
          "data": {
            "text/plain": [
              "<Figure size 640x480 with 2 Axes>"
            ],
            "image/png": "[encoded data removed]"
          },
          "metadata": {}
        }
      ]
    },
    {
      "cell_type": "code",
      "source": [
        "from sklearn.pipeline import Pipeline\n",
        "from sklearn.feature_extraction.text import TfidfVectorizer\n",
        "from sklearn.linear_model import LogisticRegression\n",
        "from sklearn.tree import DecisionTreeClassifier\n",
        "from sklearn.model_selection import GridSearchCV"
      ],
      "metadata": {
        "id": "eQDECOSKBYLE"
      },
      "execution_count": null,
      "outputs": []
    },
    {
      "cell_type": "code",
      "source": [
        "from sklearn.svm import SVC\n",
        "svc = SVC()\n",
        "svc_model = svc.fit(X_train_vect_avg, y_val_train.values.ravel())\n",
        "\n",
        "# Use the trained model to make predictions on the test data\n",
        "y_pred = svc_model.predict(X_test_vect_avg)\n",
        "\n",
        "accuracy = accuracy_score(y_test, y_pred)\n",
        "\n",
        "print(f'Test Accuracy: {accuracy:.4f}')\n",
        "CMD.from_predictions(y_test,y_pred)\n",
        "print(CR(y_test,y_pred))"
      ],
      "metadata": {
        "colab": {
          "base_uri": "https://localhost:8080/",
          "height": 630
        },
        "outputId": "ce316644-09f3-46f4-a821-5de242da8e54",
        "id": "j4tsh0SgUFXl"
      },
      "execution_count": null,
      "outputs": [
        {
          "output_type": "stream",
          "name": "stdout",
          "text": [
            "Test Accuracy: 0.7991\n",
            "              precision    recall  f1-score   support\n",
            "\n",
            "           0       0.73      0.60      0.65       342\n",
            "           1       0.83      0.89      0.86       728\n",
            "\n",
            "    accuracy                           0.80      1070\n",
            "   macro avg       0.78      0.75      0.76      1070\n",
            "weighted avg       0.79      0.80      0.79      1070\n",
            "\n"
          ]
        },
        {
          "output_type": "display_data",
          "data": {
            "text/plain": [
              "<Figure size 640x480 with 2 Axes>"
            ],
            "image/png": "[encoded data removed]"
          },
          "metadata": {}
        }
      ]
    },
    {
      "cell_type": "code",
      "source": [
        "from sklearn.neural_network import MLPClassifier\n",
        "mlp = MLPClassifier()\n",
        "mlp_model = mlp.fit(X_train_vect_avg, y_val_train.values.ravel())\n",
        "\n",
        "# Use the trained model to make predictions on the test data\n",
        "y_pred = mlp_model.predict(X_test_vect_avg)\n",
        "\n",
        "accuracy = accuracy_score(y_test, y_pred)\n",
        "\n",
        "print(f'Test Accuracy: {accuracy:.4f}')\n",
        "CMD.from_predictions(y_test,y_pred)\n",
        "print(CR(y_test,y_pred))"
      ],
      "metadata": {
        "colab": {
          "base_uri": "https://localhost:8080/",
          "height": 686
        },
        "outputId": "9f6c6552-7a68-4aed-d284-aadfad6d163a",
        "id": "2hhgHhqOUFXm"
      },
      "execution_count": null,
      "outputs": [
        {
          "output_type": "stream",
          "name": "stderr",
          "text": [
            "/usr/local/lib/python3.10/dist-packages/sklearn/neural_network/_multilayer_perceptron.py:686: ConvergenceWarning: Stochastic Optimizer: Maximum iterations (200) reached and the optimization hasn't converged yet.\n",
            "  warnings.warn(\n"
          ]
        },
        {
          "output_type": "stream",
          "name": "stdout",
          "text": [
            "Test Accuracy: 0.8579\n",
            "              precision    recall  f1-score   support\n",
            "\n",
            "           0       0.75      0.84      0.79       342\n",
            "           1       0.92      0.87      0.89       728\n",
            "\n",
            "    accuracy                           0.86      1070\n",
            "   macro avg       0.83      0.85      0.84      1070\n",
            "weighted avg       0.86      0.86      0.86      1070\n",
            "\n"
          ]
        },
        {
          "output_type": "display_data",
          "data": {
            "text/plain": [
              "<Figure size 640x480 with 2 Axes>"
            ],
            "image/png": "[encoded data removed]"
          },
          "metadata": {}
        }
      ]
    },
    {
      "cell_type": "code",
      "source": [
        "from sklearn.ensemble import GradientBoostingClassifier\n",
        "\n",
        "gb = GradientBoostingClassifier()\n",
        "gb_model = gb.fit(X_train_vect_avg, y_val_train.values.ravel())\n",
        "\n",
        "# Use the trained model to make predictions on the test data\n",
        "y_pred = gb_model.predict(X_test_vect_avg)\n",
        "\n",
        "accuracy = accuracy_score(y_test, y_pred)\n",
        "\n",
        "print(f'Test Accuracy: {accuracy:.4f}')\n",
        "CMD.from_predictions(y_test,y_pred)\n",
        "print(CR(y_test,y_pred))"
      ],
      "metadata": {
        "colab": {
          "base_uri": "https://localhost:8080/",
          "height": 630
        },
        "outputId": "d58a05a1-1139-4c44-d434-00d0ffdcf8f5",
        "id": "DvuVwiM8UFXm"
      },
      "execution_count": null,
      "outputs": [
        {
          "output_type": "stream",
          "name": "stdout",
          "text": [
            "Test Accuracy: 0.8187\n",
            "              precision    recall  f1-score   support\n",
            "\n",
            "           0       0.72      0.72      0.72       342\n",
            "           1       0.87      0.87      0.87       728\n",
            "\n",
            "    accuracy                           0.82      1070\n",
            "   macro avg       0.79      0.79      0.79      1070\n",
            "weighted avg       0.82      0.82      0.82      1070\n",
            "\n"
          ]
        },
        {
          "output_type": "display_data",
          "data": {
            "text/plain": [
              "<Figure size 640x480 with 2 Axes>"
            ],
            "image/png": "[encoded data removed]"
          },
          "metadata": {}
        }
      ]
    },
    {
      "cell_type": "markdown",
      "source": [
        "##Glove"
      ],
      "metadata": {
        "id": "bOVUM481L8i7"
      }
    },
    {
      "cell_type": "code",
      "source": [
        "import gensim.downloader as api\n",
        "\n",
        "# Load the pre-trained GloVe model\n",
        "model = api.load(\"glove-wiki-gigaword-300\")"
      ],
      "metadata": {
        "id": "l18iaQHfLrsF"
      },
      "execution_count": null,
      "outputs": []
    },
    {
      "cell_type": "code",
      "source": [
        "!wget http://nlp.stanford.edu/data/glove.6B.zip\n",
        "!unzip glove.6B.zip -d glove\n",
        "\n",
        "import numpy as np\n",
        "from tqdm import tqdm\n",
        "\n",
        "# Load GloVe model\n",
        "glove_file = 'glove/glove.6B.300d.txt'\n",
        "glove_model = {}\n",
        "with open(glove_file, 'r') as f:\n",
        "    for line in tqdm(f):\n",
        "        values = line.split()\n",
        "        word = values[0]\n",
        "        vector = np.asarray(values[1:], dtype='float32')\n",
        "        glove_model[word] = vector"
      ],
      "metadata": {
        "colab": {
          "base_uri": "https://localhost:8080/",
          "height": 393
        },
        "id": "x60YrzgXMGF0",
        "outputId": "32ccad10-ea59-488d-ce55-3965e68ea46c"
      },
      "execution_count": null,
      "outputs": [
        {
          "output_type": "error",
          "ename": "NotImplementedError",
          "evalue": "ignored",
          "traceback": [
            "\u001b[0;31m---------------------------------------------------------------------------\u001b[0m",
            "\u001b[0;31mNotImplementedError\u001b[0m                       Traceback (most recent call last)",
            "\u001b[0;32m<ipython-input-38-2c43a7e6bd0f>\u001b[0m in \u001b[0;36m<cell line: 1>\u001b[0;34m()\u001b[0m\n\u001b[0;32m----> 1\u001b[0;31m \u001b[0mget_ipython\u001b[0m\u001b[0;34m(\u001b[0m\u001b[0;34m)\u001b[0m\u001b[0;34m.\u001b[0m\u001b[0msystem\u001b[0m\u001b[0;34m(\u001b[0m\u001b[0;34m'wget http://nlp.stanford.edu/data/glove.6B.zip'\u001b[0m\u001b[0;34m)\u001b[0m\u001b[0;34m\u001b[0m\u001b[0;34m\u001b[0m\u001b[0m\n\u001b[0m\u001b[1;32m      2\u001b[0m \u001b[0mget_ipython\u001b[0m\u001b[0;34m(\u001b[0m\u001b[0;34m)\u001b[0m\u001b[0;34m.\u001b[0m\u001b[0msystem\u001b[0m\u001b[0;34m(\u001b[0m\u001b[0;34m'unzip glove.6B.zip -d glove'\u001b[0m\u001b[0;34m)\u001b[0m\u001b[0;34m\u001b[0m\u001b[0;34m\u001b[0m\u001b[0m\n\u001b[1;32m      3\u001b[0m \u001b[0;34m\u001b[0m\u001b[0m\n\u001b[1;32m      4\u001b[0m \u001b[0;32mimport\u001b[0m \u001b[0mnumpy\u001b[0m \u001b[0;32mas\u001b[0m \u001b[0mnp\u001b[0m\u001b[0;34m\u001b[0m\u001b[0;34m\u001b[0m\u001b[0m\n\u001b[1;32m      5\u001b[0m \u001b[0;32mfrom\u001b[0m \u001b[0mtqdm\u001b[0m \u001b[0;32mimport\u001b[0m \u001b[0mtqdm\u001b[0m\u001b[0;34m\u001b[0m\u001b[0;34m\u001b[0m\u001b[0m\n",
            "\u001b[0;32m/usr/local/lib/python3.10/dist-packages/google/colab/_shell.py\u001b[0m in \u001b[0;36msystem\u001b[0;34m(self, *args, **kwargs)\u001b[0m\n\u001b[1;32m     97\u001b[0m       \u001b[0mkwargs\u001b[0m\u001b[0;34m.\u001b[0m\u001b[0mupdate\u001b[0m\u001b[0;34m(\u001b[0m\u001b[0;34m{\u001b[0m\u001b[0;34m'also_return_output'\u001b[0m\u001b[0;34m:\u001b[0m \u001b[0;32mTrue\u001b[0m\u001b[0;34m}\u001b[0m\u001b[0;34m)\u001b[0m\u001b[0;34m\u001b[0m\u001b[0;34m\u001b[0m\u001b[0m\n\u001b[1;32m     98\u001b[0m \u001b[0;34m\u001b[0m\u001b[0m\n\u001b[0;32m---> 99\u001b[0;31m     \u001b[0moutput\u001b[0m \u001b[0;34m=\u001b[0m \u001b[0m_system_commands\u001b[0m\u001b[0;34m.\u001b[0m\u001b[0m_system_compat\u001b[0m\u001b[0;34m(\u001b[0m\u001b[0mself\u001b[0m\u001b[0;34m,\u001b[0m \u001b[0;34m*\u001b[0m\u001b[0margs\u001b[0m\u001b[0;34m,\u001b[0m \u001b[0;34m**\u001b[0m\u001b[0mkwargs\u001b[0m\u001b[0;34m)\u001b[0m  \u001b[0;31m# pylint:disable=protected-access\u001b[0m\u001b[0;34m\u001b[0m\u001b[0;34m\u001b[0m\u001b[0m\n\u001b[0m\u001b[1;32m    100\u001b[0m \u001b[0;34m\u001b[0m\u001b[0m\n\u001b[1;32m    101\u001b[0m     \u001b[0;32mif\u001b[0m \u001b[0mpip_warn\u001b[0m\u001b[0;34m:\u001b[0m\u001b[0;34m\u001b[0m\u001b[0;34m\u001b[0m\u001b[0m\n",
            "\u001b[0;32m/usr/local/lib/python3.10/dist-packages/google/colab/_system_commands.py\u001b[0m in \u001b[0;36m_system_compat\u001b[0;34m(shell, cmd, also_return_output)\u001b[0m\n\u001b[1;32m    451\u001b[0m   \u001b[0;31m# is expected to call this function, thus adding one level of nesting to the\u001b[0m\u001b[0;34m\u001b[0m\u001b[0;34m\u001b[0m\u001b[0m\n\u001b[1;32m    452\u001b[0m   \u001b[0;31m# stack.\u001b[0m\u001b[0;34m\u001b[0m\u001b[0;34m\u001b[0m\u001b[0m\n\u001b[0;32m--> 453\u001b[0;31m   result = _run_command(\n\u001b[0m\u001b[1;32m    454\u001b[0m       \u001b[0mshell\u001b[0m\u001b[0;34m.\u001b[0m\u001b[0mvar_expand\u001b[0m\u001b[0;34m(\u001b[0m\u001b[0mcmd\u001b[0m\u001b[0;34m,\u001b[0m \u001b[0mdepth\u001b[0m\u001b[0;34m=\u001b[0m\u001b[0;36m2\u001b[0m\u001b[0;34m)\u001b[0m\u001b[0;34m,\u001b[0m \u001b[0mclear_streamed_output\u001b[0m\u001b[0;34m=\u001b[0m\u001b[0;32mFalse\u001b[0m\u001b[0;34m\u001b[0m\u001b[0;34m\u001b[0m\u001b[0m\n\u001b[1;32m    455\u001b[0m   )\n",
            "\u001b[0;32m/usr/local/lib/python3.10/dist-packages/google/colab/_system_commands.py\u001b[0m in \u001b[0;36m_run_command\u001b[0;34m(cmd, clear_streamed_output)\u001b[0m\n\u001b[1;32m    165\u001b[0m   \u001b[0mlocale_encoding\u001b[0m \u001b[0;34m=\u001b[0m \u001b[0mlocale\u001b[0m\u001b[0;34m.\u001b[0m\u001b[0mgetpreferredencoding\u001b[0m\u001b[0;34m(\u001b[0m\u001b[0;34m)\u001b[0m\u001b[0;34m\u001b[0m\u001b[0;34m\u001b[0m\u001b[0m\n\u001b[1;32m    166\u001b[0m   \u001b[0;32mif\u001b[0m \u001b[0mlocale_encoding\u001b[0m \u001b[0;34m!=\u001b[0m \u001b[0m_ENCODING\u001b[0m\u001b[0;34m:\u001b[0m\u001b[0;34m\u001b[0m\u001b[0;34m\u001b[0m\u001b[0m\n\u001b[0;32m--> 167\u001b[0;31m     raise NotImplementedError(\n\u001b[0m\u001b[1;32m    168\u001b[0m         \u001b[0;34m'A UTF-8 locale is required. Got {}'\u001b[0m\u001b[0;34m.\u001b[0m\u001b[0mformat\u001b[0m\u001b[0;34m(\u001b[0m\u001b[0mlocale_encoding\u001b[0m\u001b[0;34m)\u001b[0m\u001b[0;34m\u001b[0m\u001b[0;34m\u001b[0m\u001b[0m\n\u001b[1;32m    169\u001b[0m     )\n",
            "\u001b[0;31mNotImplementedError\u001b[0m: A UTF-8 locale is required. Got ANSI_X3.4-1968"
          ]
        }
      ]
    },
    {
      "cell_type": "code",
      "source": [
        "# Function to convert text to GloVe features\n",
        "def text_to_vector(text):\n",
        "    # Join the list of words into a single string\n",
        "    text_str = ' '.join(text)\n",
        "\n",
        "    # Split the text into individual words\n",
        "    words = text_str.split()\n",
        "\n",
        "    # Initialize an empty vector of zeros\n",
        "    vector = np.zeros(300)\n",
        "\n",
        "    # Iterate over each word in the text\n",
        "    for word in words:\n",
        "        # If the word is in the GloVe embeddings vocabulary, add its vector to the text vector\n",
        "        if word in glove_model:\n",
        "            vector += glove_model[word]\n",
        "\n",
        "    return vector"
      ],
      "metadata": {
        "id": "Ge4zNd1eQo8D"
      },
      "execution_count": null,
      "outputs": []
    },
    {
      "cell_type": "code",
      "source": [
        "from sklearn.model_selection import train_test_split\n",
        "from sklearn.ensemble import RandomForestClassifier\n",
        "from sklearn.metrics import precision_score, recall_score\n",
        "\n",
        "# Convert the text to GloVe features for the training and test sets\n",
        "train_vectors = np.stack(X_val_train.apply(text_to_vector))\n",
        "test_vectors = np.stack(X_test.apply(text_to_vector))"
      ],
      "metadata": {
        "id": "cegQy2rzQeqd"
      },
      "execution_count": null,
      "outputs": []
    },
    {
      "cell_type": "code",
      "source": [
        "from sklearn.tree import DecisionTreeClassifier\n",
        "from sklearn.metrics import accuracy_score, classification_report\n",
        "\n",
        "#pipeline for feature extraction using Tfidf and decision tree model\n",
        "pipeline = Pipeline([\n",
        "    ('clf', DecisionTreeClassifier(random_state=42))\n",
        "])\n",
        "\n",
        "#important hyperparameters\n",
        "params = {\n",
        "    'clf__max_depth': [1,3,5,7],\n",
        "    'clf__min_samples_split': [2,5,10],\n",
        "    'clf__min_samples_leaf': [1,3,7,10]\n",
        "}\n",
        "\n",
        "# Usng GridSearchCV to tune hyperparameters and select the best model\n",
        "grid_search = GridSearchCV(pipeline, params, cv=4)\n",
        "grid_search.fit(train_vectors, y_val_train)\n",
        "\n",
        "#results of the grid search\n",
        "results = grid_search.cv_results_\n",
        "\n",
        "#performance for each set of hyperparameters\n",
        "for i in range(len(results['params'])):\n",
        "    print(\"Parameters: \", results['params'][i])\n",
        "    print(\"Mean accuracy on validation set: \", results['mean_test_score'][i])\n",
        "\n",
        "best_model = grid_search.best_estimator_\n",
        "best_params = grid_search.best_params_\n",
        "\n",
        "# Evaluate the final model on the test set\n",
        "y_pred = best_model.predict(test_vectors)\n",
        "accuracy = accuracy_score(y_test, y_pred)\n",
        "\n",
        "print(f'Best Parameters: {best_params}')\n",
        "print(f'Test Accuracy: {accuracy:.4f}')\n",
        "CMD.from_predictions(y_test,y_pred)\n",
        "print(CR(y_test,y_pred))"
      ],
      "metadata": {
        "id": "DZ1j3FuUg3Ph"
      },
      "execution_count": null,
      "outputs": []
    },
    {
      "cell_type": "code",
      "source": [
        "# Instantiate and fit a basic Random Forest model on top of the vectors\n",
        "from sklearn.ensemble import RandomForestClassifier\n",
        "\n",
        "rf = RandomForestClassifier()\n",
        "rf_model = rf.fit(train_vectors, y_val_train)\n",
        "\n",
        "# Use the trained model to make predictions on the test data\n",
        "y_pred = rf_model.predict(test_vectors)\n",
        "\n",
        "# Evaluate the predictions of the model on the holdout test set\n",
        "from sklearn.metrics import precision_score, recall_score, accuracy_score\n",
        "\n",
        "precision = precision_score(y_test, y_pred)\n",
        "recall = recall_score(y_test, y_pred)\n",
        "accuracy = accuracy_score(y_test, y_pred)\n",
        "\n",
        "print('Precision: {} / Recall: {} / Accuracy: {}'.format(\n",
        "    round(precision, 3), round(recall, 3), round(accuracy, 3)))"
      ],
      "metadata": {
        "colab": {
          "base_uri": "https://localhost:8080/"
        },
        "id": "0mqZrw7PRC-x",
        "outputId": "625aba88-e735-4f03-987f-4edbc30d9b91"
      },
      "execution_count": null,
      "outputs": [
        {
          "output_type": "stream",
          "name": "stdout",
          "text": [
            "Precision: 0.808 / Recall: 0.902 / Accuracy: 0.788\n"
          ]
        }
      ]
    },
    {
      "cell_type": "markdown",
      "source": [
        "##Doc2Vec"
      ],
      "metadata": {
        "id": "yVgkdEy4SF-o"
      }
    },
    {
      "cell_type": "code",
      "source": [
        "import gensim\n",
        "from gensim.models import doc2vec"
      ],
      "metadata": {
        "id": "ei4QW3lMe0gw"
      },
      "execution_count": null,
      "outputs": []
    },
    {
      "cell_type": "code",
      "source": [
        "# Created TaggedDocument vectors for each text message in the training and test sets\n",
        "tagged_docs_train = [gensim.models.doc2vec.TaggedDocument(v, [i])\n",
        "                     for i, v in enumerate(X_val_train)]\n",
        "tagged_docs_test = [gensim.models.doc2vec.TaggedDocument(v, [i])\n",
        "                    for i, v in enumerate(X_test)]\n",
        "# Train a basic doc2vec model\n",
        "d2v_model = gensim.models.Doc2Vec(tagged_docs_train,\n",
        "                                  vector_size=100,\n",
        "                                  window=5,\n",
        "                                  min_count=2)\n",
        "# Infer the vectors to be used in training and testing\n",
        "train_vectors = [d2v_model.infer_vector(v.words) for v in tagged_docs_train]\n",
        "test_vectors = [d2v_model.infer_vector(v.words) for v in tagged_docs_test]"
      ],
      "metadata": {
        "id": "4KBByqzATGeM"
      },
      "execution_count": null,
      "outputs": []
    },
    {
      "cell_type": "code",
      "source": [
        "rf = RandomForestClassifier()\n",
        "rf_model = rf.fit(train_vectors,y_val_train)\n",
        "\n",
        "# Use the trained model to make predictions on the test data\n",
        "y_pred = rf_model.predict(test_vectors)\n",
        "\n",
        "accuracy = accuracy_score(y_test, y_pred)\n",
        "\n",
        "print(f'Test Accuracy: {accuracy:.4f}')\n",
        "CMD.from_predictions(y_test,y_pred)\n",
        "print(CR(y_test,y_pred))"
      ],
      "metadata": {
        "colab": {
          "base_uri": "https://localhost:8080/",
          "height": 630
        },
        "id": "rzmLRseAfzfg",
        "outputId": "4d6ac887-1c68-4761-9318-9e3c0dbd0906"
      },
      "execution_count": null,
      "outputs": [
        {
          "output_type": "stream",
          "name": "stdout",
          "text": [
            "Test Accuracy: 0.7804\n",
            "              precision    recall  f1-score   support\n",
            "\n",
            "           0       0.71      0.52      0.60       342\n",
            "           1       0.80      0.90      0.85       728\n",
            "\n",
            "    accuracy                           0.78      1070\n",
            "   macro avg       0.76      0.71      0.73      1070\n",
            "weighted avg       0.77      0.78      0.77      1070\n",
            "\n"
          ]
        },
        {
          "output_type": "display_data",
          "data": {
            "text/plain": [
              "<Figure size 640x480 with 2 Axes>"
            ],
            "image/png": "[encoded data removed]"
          },
          "metadata": {}
        }
      ]
    },
    {
      "cell_type": "code",
      "source": [
        "svc =SVC()\n",
        "svc_model = svc.fit(train_vectors,y_val_train)\n",
        "\n",
        "# Use the trained model to make predictions on the test data\n",
        "y_pred = svc_model.predict(test_vectors)\n",
        "\n",
        "accuracy = accuracy_score(y_test, y_pred)\n",
        "\n",
        "print(f'Test Accuracy: {accuracy:.4f}')\n",
        "CMD.from_predictions(y_test,y_pred)\n",
        "print(CR(y_test,y_pred))\n",
        "precision = precision_score(y_test, y_pred)\n",
        "recall = recall_score(y_test, y_pred)\n",
        "accuracy = (y_pred==y_test).sum()/len(y_pred)\n",
        "\n",
        "print('Precision: {} / Recall: {} / Accuracy: {}'.format(\n",
        "    round(precision, 3), round(recall, 3), round(accuracy, 3)))"
      ],
      "metadata": {
        "colab": {
          "base_uri": "https://localhost:8080/",
          "height": 648
        },
        "id": "eRvHubpagcZJ",
        "outputId": "c35d31eb-b067-48fc-c3fe-43443406bfc3"
      },
      "execution_count": null,
      "outputs": [
        {
          "output_type": "stream",
          "name": "stdout",
          "text": [
            "Test Accuracy: 0.8131\n",
            "              precision    recall  f1-score   support\n",
            "\n",
            "           0       0.76      0.61      0.68       342\n",
            "           1       0.83      0.91      0.87       728\n",
            "\n",
            "    accuracy                           0.81      1070\n",
            "   macro avg       0.80      0.76      0.77      1070\n",
            "weighted avg       0.81      0.81      0.81      1070\n",
            "\n",
            "Precision: 0.832 / Recall: 0.909 / Accuracy: 0.813\n"
          ]
        },
        {
          "output_type": "display_data",
          "data": {
            "text/plain": [
              "<Figure size 640x480 with 2 Axes>"
            ],
            "image/png": "[encoded data removed]"
          },
          "metadata": {}
        }
      ]
    },
    {
      "cell_type": "code",
      "source": [
        "mlp = MLPClassifier()\n",
        "mlp_model = mlp.fit(train_vectors,y_val_train)\n",
        "\n",
        "# Use the trained model to make predictions on the test data\n",
        "y_pred = mlp_model.predict(test_vectors)\n",
        "\n",
        "accuracy = accuracy_score(y_test, y_pred)\n",
        "\n",
        "print(f'Test Accuracy: {accuracy:.4f}')\n",
        "CMD.from_predictions(y_test,y_pred)\n",
        "print(CR(y_test,y_pred))\n",
        "precision = precision_score(y_test, y_pred)\n",
        "recall = recall_score(y_test, y_pred)\n",
        "accuracy = (y_pred==y_test).sum()/len(y_pred)\n",
        "\n",
        "print('Precision: {} / Recall: {} / Accuracy: {}'.format(\n",
        "    round(precision, 3), round(recall, 3), round(accuracy, 3)))"
      ],
      "metadata": {
        "colab": {
          "base_uri": "https://localhost:8080/",
          "height": 704
        },
        "id": "KkfUCxBFiFr1",
        "outputId": "e5a75f5d-08e7-405e-a56b-39a30f9a5d4d"
      },
      "execution_count": null,
      "outputs": [
        {
          "output_type": "stream",
          "name": "stderr",
          "text": [
            "/usr/local/lib/python3.10/dist-packages/sklearn/neural_network/_multilayer_perceptron.py:686: ConvergenceWarning: Stochastic Optimizer: Maximum iterations (200) reached and the optimization hasn't converged yet.\n",
            "  warnings.warn(\n"
          ]
        },
        {
          "output_type": "stream",
          "name": "stdout",
          "text": [
            "Test Accuracy: 0.8093\n",
            "              precision    recall  f1-score   support\n",
            "\n",
            "           0       0.71      0.68      0.69       342\n",
            "           1       0.85      0.87      0.86       728\n",
            "\n",
            "    accuracy                           0.81      1070\n",
            "   macro avg       0.78      0.77      0.78      1070\n",
            "weighted avg       0.81      0.81      0.81      1070\n",
            "\n",
            "Precision: 0.852 / Recall: 0.871 / Accuracy: 0.809\n"
          ]
        },
        {
          "output_type": "display_data",
          "data": {
            "text/plain": [
              "<Figure size 640x480 with 2 Axes>"
            ],
            "image/png": "[encoded data removed]"
          },
          "metadata": {}
        }
      ]
    },
    {
      "cell_type": "code",
      "source": [
        "print(\"Training:\"+str(mlp.score(train_vectors,y_val_train)))\n",
        "print(\"Test:\"+str(mlp.score(test_vectors,y_test)))"
      ],
      "metadata": {
        "colab": {
          "base_uri": "https://localhost:8080/"
        },
        "id": "9a2TUPs8iTTg",
        "outputId": "5d3d7a7d-fb22-4576-8e2a-65506864fc7e"
      },
      "execution_count": null,
      "outputs": [
        {
          "output_type": "stream",
          "name": "stdout",
          "text": [
            "Training:0.9806074766355141\n",
            "Test:0.8093457943925234\n"
          ]
        }
      ]
    },
    {
      "cell_type": "code",
      "source": [
        "gb = GradientBoostingClassifier()\n",
        "gb_model = gb.fit(train_vectors,y_val_train)\n",
        "\n",
        "# Use the trained model to make predictions on the test data\n",
        "y_pred = gb_model.predict(test_vectors)\n",
        "\n",
        "accuracy = accuracy_score(y_test, y_pred)\n",
        "\n",
        "print(f'Test Accuracy: {accuracy:.4f}')\n",
        "CMD.from_predictions(y_test,y_pred)\n",
        "print(CR(y_test,y_pred))\n",
        "precision = precision_score(y_test, y_pred)\n",
        "recall = recall_score(y_test, y_pred)\n",
        "accuracy = (y_pred==y_test).sum()/len(y_pred)\n",
        "\n",
        "print('Precision: {} / Recall: {} / Accuracy: {}'.format(\n",
        "    round(precision, 3), round(recall, 3), round(accuracy, 3)))"
      ],
      "metadata": {
        "colab": {
          "base_uri": "https://localhost:8080/",
          "height": 648
        },
        "id": "U73tNIT0kgPB",
        "outputId": "481f2069-be6e-461f-b0b4-c93fac3462b8"
      },
      "execution_count": null,
      "outputs": [
        {
          "output_type": "stream",
          "name": "stdout",
          "text": [
            "Test Accuracy: 0.7850\n",
            "              precision    recall  f1-score   support\n",
            "\n",
            "           0       0.76      0.48      0.59       342\n",
            "           1       0.79      0.93      0.85       728\n",
            "\n",
            "    accuracy                           0.79      1070\n",
            "   macro avg       0.77      0.70      0.72      1070\n",
            "weighted avg       0.78      0.79      0.77      1070\n",
            "\n",
            "Precision: 0.792 / Recall: 0.927 / Accuracy: 0.785\n"
          ]
        },
        {
          "output_type": "display_data",
          "data": {
            "text/plain": [
              "<Figure size 640x480 with 2 Axes>"
            ],
            "image/png": "[encoded data removed]"
          },
          "metadata": {}
        }
      ]
    },
    {
      "cell_type": "code",
      "source": [
        "from sklearn.linear_model import LogisticRegression\n",
        "\n",
        "# Instantiate and fit a Logistic Regression model on top of the vectors\n",
        "lr = LogisticRegression(max_iter=2500)\n",
        "lr_model = lr.fit(train_vectors, y_val_train)\n",
        "\n",
        "# Use the trained model to make predictions on the test data\n",
        "y_pred = lr_model.predict(test_vectors)\n",
        "\n",
        "# Evaluate the predictions of the model on the holdout test set\n",
        "precision = precision_score(y_test, y_pred)\n",
        "recall = recall_score(y_test, y_pred)\n",
        "accuracy = accuracy_score(y_test, y_pred)\n",
        "\n",
        "print('Precision: {} / Recall: {} / Accuracy: {}'.format(\n",
        "    round(precision, 3), round(recall, 3), round(accuracy, 3)))"
      ],
      "metadata": {
        "colab": {
          "base_uri": "https://localhost:8080/"
        },
        "id": "Gr7lPrRIfnjQ",
        "outputId": "dbfefd7d-21d2-4d7d-bc95-d65e8c421ea4"
      },
      "execution_count": null,
      "outputs": [
        {
          "output_type": "stream",
          "name": "stdout",
          "text": [
            "Precision: 0.795 / Recall: 0.913 / Accuracy: 0.78\n"
          ]
        }
      ]
    },
    {
      "cell_type": "markdown",
      "source": [
        "##Bert"
      ],
      "metadata": {
        "id": "3WvNwAH6QMGJ"
      }
    },
    {
      "cell_type": "code",
      "source": [
        "pip install tensorflow_text"
      ],
      "metadata": {
        "id": "HGryCuQwQtXx"
      },
      "execution_count": null,
      "outputs": []
    },
    {
      "cell_type": "code",
      "source": [
        "import tensorflow as tf\n",
        "import tensorflow_hub as hub\n",
        "import tensorflow_text as text"
      ],
      "metadata": {
        "id": "M2HrD5o_QPuS"
      },
      "execution_count": null,
      "outputs": []
    },
    {
      "cell_type": "code",
      "source": [
        "#Now lets import BERT model and get embeding vectors for few sample statements\n",
        "bert_preprocess = hub.KerasLayer(\"https://tfhub.dev/tensorflow/bert_en_uncased_preprocess/3\")\n",
        "bert_encoder = hub.KerasLayer(\"https://tfhub.dev/tensorflow/bert_en_uncased_L-12_H-768_A-12/4\")"
      ],
      "metadata": {
        "id": "0QI6KLrpS2rh"
      },
      "execution_count": null,
      "outputs": []
    },
    {
      "cell_type": "code",
      "source": [
        "def get_sentence_embeding(sentences):\n",
        "    preprocessed_text = bert_preprocess(sentences)\n",
        "    return bert_encoder(preprocessed_text)['pooled_output']"
      ],
      "metadata": {
        "id": "jPmLv3pDTAl2"
      },
      "execution_count": null,
      "outputs": []
    },
    {
      "cell_type": "code",
      "source": [
        "# Bert layers\n",
        "text_input = tf.keras.layers.Input(shape=(), dtype=tf.string, name='text')\n",
        "preprocessed_text = bert_preprocess(text_input)\n",
        "outputs = bert_encoder(preprocessed_text)\n",
        "\n",
        "# Neural network layers\n",
        "l = tf.keras.layers.Dropout(0.1, name=\"dropout\")(outputs['pooled_output'])\n",
        "l = tf.keras.layers.Dense(1, activation='sigmoid', name=\"output\")(l)\n",
        "\n",
        "# Use inputs and outputs to construct a final model\n",
        "model = tf.keras.Model(inputs=[text_input], outputs = [l])"
      ],
      "metadata": {
        "id": "bDg_sXMXVNoN"
      },
      "execution_count": null,
      "outputs": []
    },
    {
      "cell_type": "code",
      "source": [
        "model.summary()"
      ],
      "metadata": {
        "colab": {
          "base_uri": "https://localhost:8080/"
        },
        "id": "k-3pmdmOVT5g",
        "outputId": "c4fba67e-75a9-4a80-c68f-1a80711a5df6"
      },
      "execution_count": null,
      "outputs": [
        {
          "output_type": "stream",
          "name": "stdout",
          "text": [
            "Model: \"model\"\n",
            "__________________________________________________________________________________________________\n",
            " Layer (type)                   Output Shape         Param #     Connected to                     \n",
            "==================================================================================================\n",
            " text (InputLayer)              [(None,)]            0           []                               \n",
            "                                                                                                  \n",
            " keras_layer (KerasLayer)       {'input_mask': (Non  0           ['text[0][0]']                   \n",
            "                                e, 128),                                                          \n",
            "                                 'input_type_ids':                                                \n",
            "                                (None, 128),                                                      \n",
            "                                 'input_word_ids':                                                \n",
            "                                (None, 128)}                                                      \n",
            "                                                                                                  \n",
            " keras_layer_1 (KerasLayer)     {'encoder_outputs':  109482241   ['keras_layer[0][0]',            \n",
            "                                 [(None, 128, 768),               'keras_layer[0][1]',            \n",
            "                                 (None, 128, 768),                'keras_layer[0][2]']            \n",
            "                                 (None, 128, 768),                                                \n",
            "                                 (None, 128, 768),                                                \n",
            "                                 (None, 128, 768),                                                \n",
            "                                 (None, 128, 768),                                                \n",
            "                                 (None, 128, 768),                                                \n",
            "                                 (None, 128, 768),                                                \n",
            "                                 (None, 128, 768),                                                \n",
            "                                 (None, 128, 768),                                                \n",
            "                                 (None, 128, 768),                                                \n",
            "                                 (None, 128, 768)],                                               \n",
            "                                 'pooled_output': (                                               \n",
            "                                None, 768),                                                       \n",
            "                                 'default': (None,                                                \n",
            "                                768),                                                             \n",
            "                                 'sequence_output':                                               \n",
            "                                 (None, 128, 768)}                                                \n",
            "                                                                                                  \n",
            " dropout (Dropout)              (None, 768)          0           ['keras_layer_1[0][13]']         \n",
            "                                                                                                  \n",
            " output (Dense)                 (None, 1)            769         ['dropout[0][0]']                \n",
            "                                                                                                  \n",
            "==================================================================================================\n",
            "Total params: 109,483,010\n",
            "Trainable params: 769\n",
            "Non-trainable params: 109,482,241\n",
            "__________________________________________________________________________________________________\n"
          ]
        }
      ]
    },
    {
      "cell_type": "code",
      "source": [
        "METRICS = [\n",
        "      tf.keras.metrics.BinaryAccuracy(name='accuracy'),\n",
        "      tf.keras.metrics.Precision(name='precision'),\n",
        "      tf.keras.metrics.Recall(name='recall')\n",
        "]\n",
        "\n",
        "model.compile(optimizer='adam',\n",
        "              loss='binary_crossentropy',\n",
        "              metrics=METRICS)"
      ],
      "metadata": {
        "id": "JB-_2TmLVZdz"
      },
      "execution_count": null,
      "outputs": []
    },
    {
      "cell_type": "code",
      "source": [
        "#Train the model\n",
        "model.fit(X_val_train, y_val_train, epochs=5)"
      ],
      "metadata": {
        "colab": {
          "base_uri": "https://localhost:8080/"
        },
        "id": "ngP0MRIpVdFm",
        "outputId": "106be133-cd38-4370-8942-8b52ce719c62"
      },
      "execution_count": null,
      "outputs": [
        {
          "output_type": "stream",
          "name": "stdout",
          "text": [
            "Epoch 1/5\n",
            "134/134 [==============================] - 48s 355ms/step - loss: 0.5483 - accuracy: 0.7152 - precision: 0.7303 - recall: 0.9271\n",
            "Epoch 2/5\n",
            "134/134 [==============================] - 48s 359ms/step - loss: 0.5258 - accuracy: 0.7322 - precision: 0.7402 - recall: 0.9394\n",
            "Epoch 3/5\n",
            "134/134 [==============================] - 49s 362ms/step - loss: 0.5134 - accuracy: 0.7458 - precision: 0.7567 - recall: 0.9278\n",
            "Epoch 4/5\n",
            "134/134 [==============================] - 49s 366ms/step - loss: 0.5035 - accuracy: 0.7460 - precision: 0.7583 - recall: 0.9244\n",
            "Epoch 5/5\n",
            "134/134 [==============================] - 50s 370ms/step - loss: 0.4875 - accuracy: 0.7619 - precision: 0.7724 - recall: 0.9257\n"
          ]
        },
        {
          "output_type": "execute_result",
          "data": {
            "text/plain": [
              "<keras.callbacks.History at 0x7fa25371cd60>"
            ]
          },
          "metadata": {},
          "execution_count": 48
        }
      ]
    },
    {
      "cell_type": "code",
      "source": [
        "model.evaluate(X_test, y_test)"
      ],
      "metadata": {
        "colab": {
          "base_uri": "https://localhost:8080/"
        },
        "id": "MpvBadhqVhFU",
        "outputId": "e35f6ab8-1de3-4fae-c24c-63f3fea20713"
      },
      "execution_count": null,
      "outputs": [
        {
          "output_type": "stream",
          "name": "stdout",
          "text": [
            "34/34 [==============================] - 13s 347ms/step - loss: 0.4911 - accuracy: 0.7393 - precision: 0.7336 - recall: 0.9684\n"
          ]
        },
        {
          "output_type": "execute_result",
          "data": {
            "text/plain": [
              "[0.49111732840538025,\n",
              " 0.7392523288726807,\n",
              " 0.7336108088493347,\n",
              " 0.968406617641449]"
            ]
          },
          "metadata": {},
          "execution_count": 49
        }
      ]
    },
    {
      "cell_type": "code",
      "source": [
        "y_predicted = model.predict(X_test)\n",
        "y_predicted = y_predicted.flatten()\n",
        "import numpy as np\n",
        "\n",
        "y_predicted = np.where(y_predicted > 0.5, 1, 0)\n",
        "y_predicted"
      ],
      "metadata": {
        "colab": {
          "base_uri": "https://localhost:8080/"
        },
        "id": "EElw9gm8X8dN",
        "outputId": "17525c61-4f31-4818-f141-2f9ae130e25e"
      },
      "execution_count": null,
      "outputs": [
        {
          "output_type": "stream",
          "name": "stdout",
          "text": [
            "34/34 [==============================] - 13s 347ms/step\n"
          ]
        },
        {
          "output_type": "execute_result",
          "data": {
            "text/plain": [
              "array([1, 1, 1, ..., 1, 1, 1])"
            ]
          },
          "metadata": {},
          "execution_count": 50
        }
      ]
    },
    {
      "cell_type": "code",
      "source": [
        "from sklearn.metrics import confusion_matrix, classification_report\n",
        "\n",
        "cm = confusion_matrix(y_test, y_predicted)\n",
        "cm"
      ],
      "metadata": {
        "colab": {
          "base_uri": "https://localhost:8080/"
        },
        "id": "KjNb4EC2YByH",
        "outputId": "443efa6b-07af-41c6-ad35-03927b63a107"
      },
      "execution_count": null,
      "outputs": [
        {
          "output_type": "execute_result",
          "data": {
            "text/plain": [
              "array([[ 86, 256],\n",
              "       [ 23, 705]])"
            ]
          },
          "metadata": {},
          "execution_count": 51
        }
      ]
    },
    {
      "cell_type": "code",
      "source": [
        "from matplotlib import pyplot as plt\n",
        "import seaborn as sn\n",
        "sn.heatmap(cm, annot=True, fmt='d')\n",
        "plt.xlabel('Predicted')\n",
        "plt.ylabel('Truth')"
      ],
      "metadata": {
        "colab": {
          "base_uri": "https://localhost:8080/",
          "height": 470
        },
        "id": "yuMexPfiYFbf",
        "outputId": "915a78dc-c178-4040-f446-16a3dee40517"
      },
      "execution_count": null,
      "outputs": [
        {
          "output_type": "execute_result",
          "data": {
            "text/plain": [
              "Text(50.722222222222214, 0.5, 'Truth')"
            ]
          },
          "metadata": {},
          "execution_count": 52
        },
        {
          "output_type": "display_data",
          "data": {
            "text/plain": [
              "<Figure size 640x480 with 2 Axes>"
            ],
            "image/png": "[encoded data removed]"
          },
          "metadata": {}
        }
      ]
    },
    {
      "cell_type": "code",
      "source": [
        "print(classification_report(y_test, y_predicted))"
      ],
      "metadata": {
        "colab": {
          "base_uri": "https://localhost:8080/"
        },
        "id": "PkVIpbqJYFVE",
        "outputId": "31583030-7a25-4ce1-af89-bb23d98c90af"
      },
      "execution_count": null,
      "outputs": [
        {
          "output_type": "stream",
          "name": "stdout",
          "text": [
            "              precision    recall  f1-score   support\n",
            "\n",
            "           0       0.79      0.25      0.38       342\n",
            "           1       0.73      0.97      0.83       728\n",
            "\n",
            "    accuracy                           0.74      1070\n",
            "   macro avg       0.76      0.61      0.61      1070\n",
            "weighted avg       0.75      0.74      0.69      1070\n",
            "\n"
          ]
        }
      ]
    },
    {
      "cell_type": "markdown",
      "source": [
        "#RNN"
      ],
      "metadata": {
        "id": "NjZD4VUaeQbi"
      }
    },
    {
      "cell_type": "code",
      "source": [
        "df.head(5)"
      ],
      "metadata": {
        "colab": {
          "base_uri": "https://localhost:8080/",
          "height": 206
        },
        "id": "mwefPzumeRzK",
        "outputId": "52ee75c2-87d8-4697-bc8c-d317460b56c8"
      },
      "execution_count": null,
      "outputs": [
        {
          "output_type": "execute_result",
          "data": {
            "text/plain": [
              "                                                text                  source  \\\n",
              "0  Modern two-dimensional imaging is of such qual...  sdg_abstracts_original   \n",
              "1  Background: The optimal sequence of systemic p...           generated_sdg   \n",
              "2  This chapter opens with a discussion of the ef...          summarized_sdg   \n",
              "3  The time scale of the ultra-short-term can str...        micpro_retracted   \n",
              "4  Electronic nose or machine olfaction are syste...        generated_micpro   \n",
              "\n",
              "   fake  \n",
              "0     0  \n",
              "1     1  \n",
              "2     1  \n",
              "3     1  \n",
              "4     1  "
            ],
            "text/html": [
              "\n",
              "  <div id=\"df-df4fed5a-9d36-4209-b1d2-ec390129c158\">\n",
              "    <div class=\"colab-df-container\">\n",
              "      <div>\n",
              "<style scoped>\n",
              "    .dataframe tbody tr th:only-of-type {\n",
              "        vertical-align: middle;\n",
              "    }\n",
              "\n",
              "    .dataframe tbody tr th {\n",
              "        vertical-align: top;\n",
              "    }\n",
              "\n",
              "    .dataframe thead th {\n",
              "        text-align: right;\n",
              "    }\n",
              "</style>\n",
              "<table border=\"1\" class=\"dataframe\">\n",
              "  <thead>\n",
              "    <tr style=\"text-align: right;\">\n",
              "      <th></th>\n",
              "      <th>text</th>\n",
              "      <th>source</th>\n",
              "      <th>fake</th>\n",
              "    </tr>\n",
              "  </thead>\n",
              "  <tbody>\n",
              "    <tr>\n",
              "      <th>0</th>\n",
              "      <td>Modern two-dimensional imaging is of such qual...</td>\n",
              "      <td>sdg_abstracts_original</td>\n",
              "      <td>0</td>\n",
              "    </tr>\n",
              "    <tr>\n",
              "      <th>1</th>\n",
              "      <td>Background: The optimal sequence of systemic p...</td>\n",
              "      <td>generated_sdg</td>\n",
              "      <td>1</td>\n",
              "    </tr>\n",
              "    <tr>\n",
              "      <th>2</th>\n",
              "      <td>This chapter opens with a discussion of the ef...</td>\n",
              "      <td>summarized_sdg</td>\n",
              "      <td>1</td>\n",
              "    </tr>\n",
              "    <tr>\n",
              "      <th>3</th>\n",
              "      <td>The time scale of the ultra-short-term can str...</td>\n",
              "      <td>micpro_retracted</td>\n",
              "      <td>1</td>\n",
              "    </tr>\n",
              "    <tr>\n",
              "      <th>4</th>\n",
              "      <td>Electronic nose or machine olfaction are syste...</td>\n",
              "      <td>generated_micpro</td>\n",
              "      <td>1</td>\n",
              "    </tr>\n",
              "  </tbody>\n",
              "</table>\n",
              "</div>\n",
              "      <button class=\"colab-df-convert\" onclick=\"convertToInteractive('df-df4fed5a-9d36-4209-b1d2-ec390129c158')\"\n",
              "              title=\"Convert this dataframe to an interactive table.\"\n",
              "              style=\"display:none;\">\n",
              "        \n",
              "  <svg xmlns=\"http://www.w3.org/2000/svg\" height=\"24px\"viewBox=\"0 0 24 24\"\n",
              "       width=\"24px\">\n",
              "    <path d=\"M0 0h24v24H0V0z\" fill=\"none\"/>\n",
              "    <path d=\"M18.56 5.44l.94 2.06.94-2.06 2.06-.94-2.06-.94-.94-2.06-.94 2.06-2.06.94zm-11 1L8.5 8.5l.94-2.06 2.06-.94-2.06-.94L8.5 2.5l-.94 2.06-2.06.94zm10 10l.94 2.06.94-2.06 2.06-.94-2.06-.94-.94-2.06-.94 2.06-2.06.94z\"/><path d=\"M17.41 7.96l-1.37-1.37c-.4-.4-.92-.59-1.43-.59-.52 0-1.04.2-1.43.59L10.3 9.45l-7.72 7.72c-.78.78-.78 2.05 0 2.83L4 21.41c.39.39.9.59 1.41.59.51 0 1.02-.2 1.41-.59l7.78-7.78 2.81-2.81c.8-.78.8-2.07 0-2.86zM5.41 20L4 18.59l7.72-7.72 1.47 1.35L5.41 20z\"/>\n",
              "  </svg>\n",
              "      </button>\n",
              "      \n",
              "  <style>\n",
              "    .colab-df-container {\n",
              "      display:flex;\n",
              "      flex-wrap:wrap;\n",
              "      gap: 12px;\n",
              "    }\n",
              "\n",
              "    .colab-df-convert {\n",
              "      background-color: #E8F0FE;\n",
              "      border: none;\n",
              "      border-radius: 50%;\n",
              "      cursor: pointer;\n",
              "      display: none;\n",
              "      fill: #1967D2;\n",
              "      height: 32px;\n",
              "      padding: 0 0 0 0;\n",
              "      width: 32px;\n",
              "    }\n",
              "\n",
              "    .colab-df-convert:hover {\n",
              "      background-color: #E2EBFA;\n",
              "      box-shadow: 0px 1px 2px rgba(60, 64, 67, 0.3), 0px 1px 3px 1px rgba(60, 64, 67, 0.15);\n",
              "      fill: #174EA6;\n",
              "    }\n",
              "\n",
              "    [theme=dark] .colab-df-convert {\n",
              "      background-color: #3B4455;\n",
              "      fill: #D2E3FC;\n",
              "    }\n",
              "\n",
              "    [theme=dark] .colab-df-convert:hover {\n",
              "      background-color: #434B5C;\n",
              "      box-shadow: 0px 1px 3px 1px rgba(0, 0, 0, 0.15);\n",
              "      filter: drop-shadow(0px 1px 2px rgba(0, 0, 0, 0.3));\n",
              "      fill: #FFFFFF;\n",
              "    }\n",
              "  </style>\n",
              "\n",
              "      <script>\n",
              "        const buttonEl =\n",
              "          document.querySelector('#df-df4fed5a-9d36-4209-b1d2-ec390129c158 button.colab-df-convert');\n",
              "        buttonEl.style.display =\n",
              "          google.colab.kernel.accessAllowed ? 'block' : 'none';\n",
              "\n",
              "        async function convertToInteractive(key) {\n",
              "          const element = document.querySelector('#df-df4fed5a-9d36-4209-b1d2-ec390129c158');\n",
              "          const dataTable =\n",
              "            await google.colab.kernel.invokeFunction('convertToInteractive',\n",
              "                                                     [key], {});\n",
              "          if (!dataTable) return;\n",
              "\n",
              "          const docLinkHtml = 'Like what you see? Visit the ' +\n",
              "            '<a target=\"_blank\" href=https://colab.research.google.com/notebooks/data_table.ipynb>data table notebook</a>'\n",
              "            + ' to learn more about interactive tables.';\n",
              "          element.innerHTML = '';\n",
              "          dataTable['output_type'] = 'display_data';\n",
              "          await google.colab.output.renderOutput(dataTable, element);\n",
              "          const docLink = document.createElement('div');\n",
              "          docLink.innerHTML = docLinkHtml;\n",
              "          element.appendChild(docLink);\n",
              "        }\n",
              "      </script>\n",
              "    </div>\n",
              "  </div>\n",
              "  "
            ]
          },
          "metadata": {},
          "execution_count": 22
        }
      ]
    },
    {
      "cell_type": "code",
      "source": [
        "X_train, X_test, y_train, y_test = train_test_split(df['cleanedtext_list'], df['fake'], test_size=0.2,random_state=42)"
      ],
      "metadata": {
        "id": "7Q9lm0ZeefyV"
      },
      "execution_count": null,
      "outputs": []
    },
    {
      "cell_type": "code",
      "source": [
        "!pip install tensorflow"
      ],
      "metadata": {
        "colab": {
          "base_uri": "https://localhost:8080/"
        },
        "id": "oS9yZtTxhk_e",
        "outputId": "5667f0a1-7945-49d7-b20a-a82c16b23e2d"
      },
      "execution_count": null,
      "outputs": [
        {
          "output_type": "stream",
          "name": "stdout",
          "text": [
            "Looking in indexes: https://pypi.org/simple, https://us-python.pkg.dev/colab-wheels/public/simple/\n",
            "Requirement already satisfied: tensorflow in /usr/local/lib/python3.10/dist-packages (2.12.0)\n",
            "Requirement already satisfied: absl-py>=1.0.0 in /usr/local/lib/python3.10/dist-packages (from tensorflow) (1.4.0)\n",
            "Requirement already satisfied: astunparse>=1.6.0 in /usr/local/lib/python3.10/dist-packages (from tensorflow) (1.6.3)\n",
            "Requirement already satisfied: flatbuffers>=2.0 in /usr/local/lib/python3.10/dist-packages (from tensorflow) (23.3.3)\n",
            "Requirement already satisfied: gast<=0.4.0,>=0.2.1 in /usr/local/lib/python3.10/dist-packages (from tensorflow) (0.4.0)\n",
            "Requirement already satisfied: google-pasta>=0.1.1 in /usr/local/lib/python3.10/dist-packages (from tensorflow) (0.2.0)\n",
            "Requirement already satisfied: grpcio<2.0,>=1.24.3 in /usr/local/lib/python3.10/dist-packages (from tensorflow) (1.54.0)\n",
            "Requirement already satisfied: h5py>=2.9.0 in /usr/local/lib/python3.10/dist-packages (from tensorflow) (3.8.0)\n",
            "Requirement already satisfied: jax>=0.3.15 in /usr/local/lib/python3.10/dist-packages (from tensorflow) (0.4.8)\n",
            "Requirement already satisfied: keras<2.13,>=2.12.0 in /usr/local/lib/python3.10/dist-packages (from tensorflow) (2.12.0)\n",
            "Requirement already satisfied: libclang>=13.0.0 in /usr/local/lib/python3.10/dist-packages (from tensorflow) (16.0.0)\n",
            "Requirement already satisfied: numpy<1.24,>=1.22 in /usr/local/lib/python3.10/dist-packages (from tensorflow) (1.22.4)\n",
            "Requirement already satisfied: opt-einsum>=2.3.2 in /usr/local/lib/python3.10/dist-packages (from tensorflow) (3.3.0)\n",
            "Requirement already satisfied: packaging in /usr/local/lib/python3.10/dist-packages (from tensorflow) (23.1)\n",
            "Requirement already satisfied: protobuf!=4.21.0,!=4.21.1,!=4.21.2,!=4.21.3,!=4.21.4,!=4.21.5,<5.0.0dev,>=3.20.3 in /usr/local/lib/python3.10/dist-packages (from tensorflow) (3.20.3)\n",
            "Requirement already satisfied: setuptools in /usr/local/lib/python3.10/dist-packages (from tensorflow) (67.7.2)\n",
            "Requirement already satisfied: six>=1.12.0 in /usr/local/lib/python3.10/dist-packages (from tensorflow) (1.16.0)\n",
            "Requirement already satisfied: tensorboard<2.13,>=2.12 in /usr/local/lib/python3.10/dist-packages (from tensorflow) (2.12.2)\n",
            "Requirement already satisfied: tensorflow-estimator<2.13,>=2.12.0 in /usr/local/lib/python3.10/dist-packages (from tensorflow) (2.12.0)\n",
            "Requirement already satisfied: termcolor>=1.1.0 in /usr/local/lib/python3.10/dist-packages (from tensorflow) (2.3.0)\n",
            "Requirement already satisfied: typing-extensions>=3.6.6 in /usr/local/lib/python3.10/dist-packages (from tensorflow) (4.5.0)\n",
            "Requirement already satisfied: wrapt<1.15,>=1.11.0 in /usr/local/lib/python3.10/dist-packages (from tensorflow) (1.14.1)\n",
            "Requirement already satisfied: tensorflow-io-gcs-filesystem>=0.23.1 in /usr/local/lib/python3.10/dist-packages (from tensorflow) (0.32.0)\n",
            "Requirement already satisfied: wheel<1.0,>=0.23.0 in /usr/local/lib/python3.10/dist-packages (from astunparse>=1.6.0->tensorflow) (0.40.0)\n",
            "Requirement already satisfied: ml-dtypes>=0.0.3 in /usr/local/lib/python3.10/dist-packages (from jax>=0.3.15->tensorflow) (0.1.0)\n",
            "Requirement already satisfied: scipy>=1.7 in /usr/local/lib/python3.10/dist-packages (from jax>=0.3.15->tensorflow) (1.10.1)\n",
            "Requirement already satisfied: google-auth<3,>=1.6.3 in /usr/local/lib/python3.10/dist-packages (from tensorboard<2.13,>=2.12->tensorflow) (2.17.3)\n",
            "Requirement already satisfied: google-auth-oauthlib<1.1,>=0.5 in /usr/local/lib/python3.10/dist-packages (from tensorboard<2.13,>=2.12->tensorflow) (1.0.0)\n",
            "Requirement already satisfied: markdown>=2.6.8 in /usr/local/lib/python3.10/dist-packages (from tensorboard<2.13,>=2.12->tensorflow) (3.4.3)\n",
            "Requirement already satisfied: requests<3,>=2.21.0 in /usr/local/lib/python3.10/dist-packages (from tensorboard<2.13,>=2.12->tensorflow) (2.27.1)\n",
            "Requirement already satisfied: tensorboard-data-server<0.8.0,>=0.7.0 in /usr/local/lib/python3.10/dist-packages (from tensorboard<2.13,>=2.12->tensorflow) (0.7.0)\n",
            "Requirement already satisfied: tensorboard-plugin-wit>=1.6.0 in /usr/local/lib/python3.10/dist-packages (from tensorboard<2.13,>=2.12->tensorflow) (1.8.1)\n",
            "Requirement already satisfied: werkzeug>=1.0.1 in /usr/local/lib/python3.10/dist-packages (from tensorboard<2.13,>=2.12->tensorflow) (2.3.0)\n",
            "Requirement already satisfied: cachetools<6.0,>=2.0.0 in /usr/local/lib/python3.10/dist-packages (from google-auth<3,>=1.6.3->tensorboard<2.13,>=2.12->tensorflow) (5.3.0)\n",
            "Requirement already satisfied: pyasn1-modules>=0.2.1 in /usr/local/lib/python3.10/dist-packages (from google-auth<3,>=1.6.3->tensorboard<2.13,>=2.12->tensorflow) (0.3.0)\n",
            "Requirement already satisfied: rsa<5,>=3.1.4 in /usr/local/lib/python3.10/dist-packages (from google-auth<3,>=1.6.3->tensorboard<2.13,>=2.12->tensorflow) (4.9)\n",
            "Requirement already satisfied: requests-oauthlib>=0.7.0 in /usr/local/lib/python3.10/dist-packages (from google-auth-oauthlib<1.1,>=0.5->tensorboard<2.13,>=2.12->tensorflow) (1.3.1)\n",
            "Requirement already satisfied: urllib3<1.27,>=1.21.1 in /usr/local/lib/python3.10/dist-packages (from requests<3,>=2.21.0->tensorboard<2.13,>=2.12->tensorflow) (1.26.15)\n",
            "Requirement already satisfied: certifi>=2017.4.17 in /usr/local/lib/python3.10/dist-packages (from requests<3,>=2.21.0->tensorboard<2.13,>=2.12->tensorflow) (2022.12.7)\n",
            "Requirement already satisfied: charset-normalizer~=2.0.0 in /usr/local/lib/python3.10/dist-packages (from requests<3,>=2.21.0->tensorboard<2.13,>=2.12->tensorflow) (2.0.12)\n",
            "Requirement already satisfied: idna<4,>=2.5 in /usr/local/lib/python3.10/dist-packages (from requests<3,>=2.21.0->tensorboard<2.13,>=2.12->tensorflow) (3.4)\n",
            "Requirement already satisfied: MarkupSafe>=2.1.1 in /usr/local/lib/python3.10/dist-packages (from werkzeug>=1.0.1->tensorboard<2.13,>=2.12->tensorflow) (2.1.2)\n",
            "Requirement already satisfied: pyasn1<0.6.0,>=0.4.6 in /usr/local/lib/python3.10/dist-packages (from pyasn1-modules>=0.2.1->google-auth<3,>=1.6.3->tensorboard<2.13,>=2.12->tensorflow) (0.5.0)\n",
            "Requirement already satisfied: oauthlib>=3.0.0 in /usr/local/lib/python3.10/dist-packages (from requests-oauthlib>=0.7.0->google-auth-oauthlib<1.1,>=0.5->tensorboard<2.13,>=2.12->tensorflow) (3.2.2)\n"
          ]
        }
      ]
    },
    {
      "cell_type": "code",
      "source": [
        "import tensorflow as tf\n",
        "from tensorflow import keras\n",
        "from tensorflow.keras.preprocessing.sequence import pad_sequences\n"
      ],
      "metadata": {
        "id": "PcWozP50hw0S"
      },
      "execution_count": null,
      "outputs": []
    },
    {
      "cell_type": "code",
      "source": [
        "#Preparing data\n",
        "\n",
        "\n",
        "# Train the tokenizer and use that tokenizer to convert the sentences to sequences of numbers\n",
        "tokenizer = Tokenizer()\n",
        "tokenizer.fit_on_texts(X_train)\n",
        "X_train_seq = tokenizer.texts_to_sequences(X_train)\n",
        "X_test_seq = tokenizer.texts_to_sequences(X_test)\n",
        "\n",
        "\n",
        "# Pad the sequences so each sequence is the same length\n",
        "X_train_seq_padded = pad_sequences(X_train_seq, 50)\n",
        "X_test_seq_padded = pad_sequences(X_test_seq, 50)\n"
      ],
      "metadata": {
        "id": "7Rm8TAqoiSWt"
      },
      "execution_count": null,
      "outputs": []
    },
    {
      "cell_type": "code",
      "source": [
        "# Import the tools needed and use our previously defined functions to calculate precision and recall\n",
        "import keras.backend as K\n",
        "from keras.layers import Dense, Embedding, LSTM\n",
        "from keras.models import Sequential\n",
        "\n",
        "def recall_m(y_true, y_pred):\n",
        "        true_positives = K.sum(K.round(K.clip(y_true * y_pred, 0, 1)))\n",
        "        possible_positives = K.sum(K.round(K.clip(y_true, 0, 1)))\n",
        "        recall = true_positives / (possible_positives + K.epsilon())\n",
        "        return recall\n",
        "\n",
        "def precision_m(y_true, y_pred):\n",
        "        true_positives = K.sum(K.round(K.clip(y_true * y_pred, 0, 1)))\n",
        "        predicted_positives = K.sum(K.round(K.clip(y_pred, 0, 1)))\n",
        "        precision = true_positives / (predicted_positives + K.epsilon())\n",
        "        return precision"
      ],
      "metadata": {
        "id": "G1GpQ6FwkC7s"
      },
      "execution_count": null,
      "outputs": []
    },
    {
      "cell_type": "code",
      "source": [
        "# Construct our basic RNN model framework\n",
        "model = Sequential()\n",
        "\n",
        "model.add(Embedding(len(tokenizer.index_word)+1, 32))\n",
        "model.add(LSTM(32, dropout=0, recurrent_dropout=0))\n",
        "model.add(Dense(32, activation='relu'))\n",
        "model.add(Dense(1, activation='sigmoid'))\n",
        "model.summary()"
      ],
      "metadata": {
        "colab": {
          "base_uri": "https://localhost:8080/"
        },
        "id": "Zhkm1aydkRNg",
        "outputId": "8a243032-d762-4392-ee37-a4ebe7ee5b17"
      },
      "execution_count": null,
      "outputs": [
        {
          "output_type": "stream",
          "name": "stdout",
          "text": [
            "Model: \"sequential\"\n",
            "_________________________________________________________________\n",
            " Layer (type)                Output Shape              Param #   \n",
            "=================================================================\n",
            " embedding (Embedding)       (None, None, 32)          817056    \n",
            "                                                                 \n",
            " lstm (LSTM)                 (None, 32)                8320      \n",
            "                                                                 \n",
            " dense (Dense)               (None, 32)                1056      \n",
            "                                                                 \n",
            " dense_1 (Dense)             (None, 1)                 33        \n",
            "                                                                 \n",
            "=================================================================\n",
            "Total params: 826,465\n",
            "Trainable params: 826,465\n",
            "Non-trainable params: 0\n",
            "_________________________________________________________________\n"
          ]
        }
      ]
    },
    {
      "cell_type": "code",
      "source": [
        "# Compile the model\n",
        "model.compile(optimizer='adam',\n",
        "              loss='binary_crossentropy',\n",
        "              metrics=['accuracy', precision_m, recall_m])"
      ],
      "metadata": {
        "id": "fVS6i32akVFu"
      },
      "execution_count": null,
      "outputs": []
    },
    {
      "cell_type": "code",
      "source": [
        "# Fit the RNN\n",
        "history = model.fit(X_train_seq_padded, y_train,\n",
        "                    batch_size=32, epochs=10,\n",
        "                    validation_data=(X_test_seq_padded, y_test))"
      ],
      "metadata": {
        "colab": {
          "base_uri": "https://localhost:8080/"
        },
        "id": "nQUe59TCkc4t",
        "outputId": "7f6f2ea8-14b3-48a6-fa87-d50068963354"
      },
      "execution_count": null,
      "outputs": [
        {
          "output_type": "stream",
          "name": "stdout",
          "text": [
            "Epoch 1/10\n",
            "134/134 [==============================] - 9s 37ms/step - loss: 0.5500 - accuracy: 0.7224 - precision_m: 0.7330 - recall_m: 0.9625 - val_loss: 0.3993 - val_accuracy: 0.8196 - val_precision_m: 0.8755 - val_recall_m: 0.8619\n",
            "Epoch 2/10\n",
            "134/134 [==============================] - 6s 42ms/step - loss: 0.2577 - accuracy: 0.8963 - precision_m: 0.9203 - recall_m: 0.9296 - val_loss: 0.4231 - val_accuracy: 0.8121 - val_precision_m: 0.8199 - val_recall_m: 0.9312\n",
            "Epoch 3/10\n",
            "134/134 [==============================] - 5s 36ms/step - loss: 0.0925 - accuracy: 0.9671 - precision_m: 0.9735 - recall_m: 0.9785 - val_loss: 0.5035 - val_accuracy: 0.8140 - val_precision_m: 0.8296 - val_recall_m: 0.9154\n",
            "Epoch 4/10\n",
            "134/134 [==============================] - 5s 37ms/step - loss: 0.0252 - accuracy: 0.9937 - precision_m: 0.9955 - recall_m: 0.9950 - val_loss: 0.6419 - val_accuracy: 0.8084 - val_precision_m: 0.8532 - val_recall_m: 0.8669\n",
            "Epoch 5/10\n",
            "134/134 [==============================] - 5s 35ms/step - loss: 0.0078 - accuracy: 0.9979 - precision_m: 0.9987 - recall_m: 0.9983 - val_loss: 0.9194 - val_accuracy: 0.7972 - val_precision_m: 0.8111 - val_recall_m: 0.9181\n",
            "Epoch 6/10\n",
            "134/134 [==============================] - 8s 63ms/step - loss: 0.0085 - accuracy: 0.9979 - precision_m: 0.9983 - recall_m: 0.9987 - val_loss: 1.0575 - val_accuracy: 0.8093 - val_precision_m: 0.8350 - val_recall_m: 0.8972\n",
            "Epoch 7/10\n",
            "134/134 [==============================] - 5s 34ms/step - loss: 0.0022 - accuracy: 0.9995 - precision_m: 1.0000 - recall_m: 0.9993 - val_loss: 1.0871 - val_accuracy: 0.7935 - val_precision_m: 0.7937 - val_recall_m: 0.9434\n",
            "Epoch 8/10\n",
            "134/134 [==============================] - 4s 32ms/step - loss: 0.0057 - accuracy: 0.9988 - precision_m: 0.9982 - recall_m: 1.0000 - val_loss: 0.9912 - val_accuracy: 0.8150 - val_precision_m: 0.8362 - val_recall_m: 0.9073\n",
            "Epoch 9/10\n",
            "134/134 [==============================] - 4s 31ms/step - loss: 5.9934e-04 - accuracy: 1.0000 - precision_m: 1.0000 - recall_m: 1.0000 - val_loss: 1.2137 - val_accuracy: 0.8112 - val_precision_m: 0.8366 - val_recall_m: 0.8992\n",
            "Epoch 10/10\n",
            "134/134 [==============================] - 5s 34ms/step - loss: 1.2475e-04 - accuracy: 1.0000 - precision_m: 1.0000 - recall_m: 1.0000 - val_loss: 1.1824 - val_accuracy: 0.8121 - val_precision_m: 0.8428 - val_recall_m: 0.8908\n"
          ]
        }
      ]
    },
    {
      "cell_type": "code",
      "source": [
        "# Plot basic evaluation metrics across epochs\n",
        "import matplotlib.pyplot as plt\n",
        "%matplotlib inline\n",
        "\n",
        "for i in ['accuracy', 'precision_m', 'recall_m']:\n",
        "    acc = history.history[i]\n",
        "    val_acc = history.history['val_{}'.format(i)]\n",
        "    epochs = range(1, len(acc) + 1)\n",
        "\n",
        "    plt.figure()\n",
        "    plt.plot(epochs, acc, label='Training Accuracy')\n",
        "    plt.plot(epochs, val_acc, label='Validation Accuracy')\n",
        "    plt.title('Results for {}'.format(i))\n",
        "    plt.legend()\n",
        "    plt.show()"
      ],
      "metadata": {
        "colab": {
          "base_uri": "https://localhost:8080/",
          "height": 1000
        },
        "id": "XZnRNObPknf4",
        "outputId": "d40285e1-f807-4bd0-a115-ae1cfe25c52e"
      },
      "execution_count": null,
      "outputs": [
        {
          "output_type": "display_data",
          "data": {
            "text/plain": [
              "<Figure size 640x480 with 1 Axes>"
            ],
            "image/png": "[encoded data removed]"
          },
          "metadata": {}
        },
        {
          "output_type": "display_data",
          "data": {
            "text/plain": [
              "<Figure size 640x480 with 1 Axes>"
            ],
            "image/png": "[encoded data removed]"
          },
          "metadata": {}
        },
        {
          "output_type": "display_data",
          "data": {
            "text/plain": [
              "<Figure size 640x480 with 1 Axes>"
            ],
            "image/png": "[encoded data removed]"
          },
          "metadata": {}
        }
      ]
    }
  ],
  "metadata": {
    "colab": {
      "collapsed_sections": [
        "IbgH1bXSLuTV",
        "weZHHAIIVLM8",
        "7nYfwEbV-Awb",
        "bOVUM481L8i7",
        "yVgkdEy4SF-o",
        "3WvNwAH6QMGJ",
        "NjZD4VUaeQbi"
      ],
      "provenance": [],
      "gpuType": "T4",
      "toc_visible": true
    },
    "kernelspec": {
      "display_name": "Python 3",
      "name": "python3"
    },
    "language_info": {
      "name": "python"
    },
    "gpuClass": "standard",
    "accelerator": "GPU"
  },
  "nbformat": 4,
  "nbformat_minor": 0
}