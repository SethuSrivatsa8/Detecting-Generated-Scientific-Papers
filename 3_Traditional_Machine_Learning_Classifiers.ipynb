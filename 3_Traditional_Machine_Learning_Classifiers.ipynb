{
  "cells": [
    {
      "cell_type": "code",
      "source": [
        "import spacy\n",
        "\n",
        "nlp = spacy.load(\"en_core_web_sm\")\n",
        "\n",
        "def clean_text(text):\n",
        "    text = text.lower()\n",
        "    text = ''.join(c for c in text if c.isalpha() or c.isspace())\n",
        "    doc = nlp(text)\n",
        "    text = [token.lemma_ for token in doc]\n",
        "    return ' '.join(text)\n",
        "\n",
        "df['cleanedtext'] = df['text'].apply(lambda x: clean_text(x.lower()))\n",
        "df.head(5)"
      ],
      "metadata": {
        "id": "kTUFsEHoVpgQ"
      },
      "execution_count": null,
      "outputs": []
    },
    {
      "cell_type": "code",
      "source": [
        "%tensorflow_version 2.x\n",
        "import tensorflow as tf\n",
        "device_name = tf.test.gpu_device_name()\n",
        "if device_name != '/device:GPU:0':\n",
        "  raise SystemError('GPU device not found')\n",
        "print('Found GPU at: {}'.format(device_name))"
      ],
      "metadata": {
        "id": "kU_l4-s06s6F",
        "outputId": "ed7ea881-bb49-4b48-a1c1-7d9578d56858",
        "colab": {
          "base_uri": "https://localhost:8080/"
        }
      },
      "execution_count": null,
      "outputs": [
        {
          "output_type": "stream",
          "name": "stdout",
          "text": [
            "Colab only includes TensorFlow 2.x; %tensorflow_version has no effect.\n",
            "Found GPU at: /device:GPU:0\n"
          ]
        }
      ]
    },
    {
      "cell_type": "code",
      "metadata": {
        "colab": {
          "base_uri": "https://localhost:8080/"
        },
        "id": "rg-1GrNrXOA1",
        "outputId": "2db4b5e5-991c-46af-b879-3fcc60bdbd21"
      },
      "source": [
        "%tensorflow_version 2.x\n",
        "import tensorflow as tf\n",
        "import timeit\n",
        "\n",
        "device_name = tf.test.gpu_device_name()\n",
        "if device_name != '/device:GPU:0':\n",
        "  print(\n",
        "      '\\n\\nThis error most likely means that this notebook is not '\n",
        "      'configured to use a GPU.  Change this in Notebook Settings via the '\n",
        "      'command palette (cmd/ctrl-shift-P) or the Edit menu.\\n\\n')\n",
        "  raise SystemError('GPU device not found')\n",
        "\n",
        "def cpu():\n",
        "  with tf.device('/cpu:0'):\n",
        "    random_image_cpu = tf.random.normal((100, 100, 100, 3))\n",
        "    net_cpu = tf.keras.layers.Conv2D(32, 7)(random_image_cpu)\n",
        "    return tf.math.reduce_sum(net_cpu)\n",
        "\n",
        "def gpu():\n",
        "  with tf.device('/device:GPU:0'):\n",
        "    random_image_gpu = tf.random.normal((100, 100, 100, 3))\n",
        "    net_gpu = tf.keras.layers.Conv2D(32, 7)(random_image_gpu)\n",
        "    return tf.math.reduce_sum(net_gpu)\n",
        "\n",
        "# We run each op once to warm up; see: https://stackoverflow.com/a/45067900\n",
        "cpu()\n",
        "gpu()\n",
        "\n",
        "# Run the op several times.\n",
        "print('Time (s) to convolve 32x7x7x3 filter over random 100x100x100x3 images '\n",
        "      '(batch x height x width x channel). Sum of ten runs.')\n",
        "print('CPU (s):')\n",
        "cpu_time = timeit.timeit('cpu()', number=10, setup=\"from __main__ import cpu\")\n",
        "print(cpu_time)\n",
        "print('GPU (s):')\n",
        "gpu_time = timeit.timeit('gpu()', number=10, setup=\"from __main__ import gpu\")\n",
        "print(gpu_time)\n",
        "print('GPU speedup over CPU: {}x'.format(int(cpu_time/gpu_time)))"
      ],
      "execution_count": null,
      "outputs": [
        {
          "output_type": "stream",
          "name": "stdout",
          "text": [
            "Colab only includes TensorFlow 2.x; %tensorflow_version has no effect.\n",
            "Time (s) to convolve 32x7x7x3 filter over random 100x100x100x3 images (batch x height x width x channel). Sum of ten runs.\n",
            "CPU (s):\n",
            "4.6748169399999995\n",
            "GPU (s):\n",
            "0.0891024370000082\n",
            "GPU speedup over CPU: 52x\n"
          ]
        }
      ]
    },
    {
      "cell_type": "code",
      "execution_count": null,
      "metadata": {
        "id": "asv0Fnr0-Cmp"
      },
      "outputs": [],
      "source": [
        "import spacy\n",
        "import pandas as pd\n",
        "from collections import Counter\n",
        "from sklearn.feature_extraction.text import TfidfVectorizer"
      ]
    },
    {
      "cell_type": "code",
      "execution_count": null,
      "metadata": {
        "colab": {
          "base_uri": "https://localhost:8080/",
          "height": 223
        },
        "id": "RYOzsCJj_Cdq",
        "outputId": "1d83823f-1959-4938-f785-167ca1bc2b5b"
      },
      "outputs": [
        {
          "output_type": "stream",
          "name": "stdout",
          "text": [
            "(5350, 2)\n"
          ]
        },
        {
          "output_type": "execute_result",
          "data": {
            "text/plain": [
              "                                                text  fake\n",
              "0  Modern two-dimensional imaging is of such qual...     0\n",
              "1  Background: The optimal sequence of systemic p...     1\n",
              "2  This chapter opens with a discussion of the ef...     1\n",
              "3  The time scale of the ultra-short-term can str...     1\n",
              "4  Electronic nose or machine olfaction are syste...     1"
            ],
            "text/html": [
              "\n",
              "  <div id=\"df-e9fa417f-b71f-4cad-8141-a8770f9f1bfe\">\n",
              "    <div class=\"colab-df-container\">\n",
              "      <div>\n",
              "<style scoped>\n",
              "    .dataframe tbody tr th:only-of-type {\n",
              "        vertical-align: middle;\n",
              "    }\n",
              "\n",
              "    .dataframe tbody tr th {\n",
              "        vertical-align: top;\n",
              "    }\n",
              "\n",
              "    .dataframe thead th {\n",
              "        text-align: right;\n",
              "    }\n",
              "</style>\n",
              "<table border=\"1\" class=\"dataframe\">\n",
              "  <thead>\n",
              "    <tr style=\"text-align: right;\">\n",
              "      <th></th>\n",
              "      <th>text</th>\n",
              "      <th>fake</th>\n",
              "    </tr>\n",
              "  </thead>\n",
              "  <tbody>\n",
              "    <tr>\n",
              "      <th>0</th>\n",
              "      <td>Modern two-dimensional imaging is of such qual...</td>\n",
              "      <td>0</td>\n",
              "    </tr>\n",
              "    <tr>\n",
              "      <th>1</th>\n",
              "      <td>Background: The optimal sequence of systemic p...</td>\n",
              "      <td>1</td>\n",
              "    </tr>\n",
              "    <tr>\n",
              "      <th>2</th>\n",
              "      <td>This chapter opens with a discussion of the ef...</td>\n",
              "      <td>1</td>\n",
              "    </tr>\n",
              "    <tr>\n",
              "      <th>3</th>\n",
              "      <td>The time scale of the ultra-short-term can str...</td>\n",
              "      <td>1</td>\n",
              "    </tr>\n",
              "    <tr>\n",
              "      <th>4</th>\n",
              "      <td>Electronic nose or machine olfaction are syste...</td>\n",
              "      <td>1</td>\n",
              "    </tr>\n",
              "  </tbody>\n",
              "</table>\n",
              "</div>\n",
              "      <button class=\"colab-df-convert\" onclick=\"convertToInteractive('df-e9fa417f-b71f-4cad-8141-a8770f9f1bfe')\"\n",
              "              title=\"Convert this dataframe to an interactive table.\"\n",
              "              style=\"display:none;\">\n",
              "        \n",
              "  <svg xmlns=\"http://www.w3.org/2000/svg\" height=\"24px\"viewBox=\"0 0 24 24\"\n",
              "       width=\"24px\">\n",
              "    <path d=\"M0 0h24v24H0V0z\" fill=\"none\"/>\n",
              "    <path d=\"M18.56 5.44l.94 2.06.94-2.06 2.06-.94-2.06-.94-.94-2.06-.94 2.06-2.06.94zm-11 1L8.5 8.5l.94-2.06 2.06-.94-2.06-.94L8.5 2.5l-.94 2.06-2.06.94zm10 10l.94 2.06.94-2.06 2.06-.94-2.06-.94-.94-2.06-.94 2.06-2.06.94z\"/><path d=\"M17.41 7.96l-1.37-1.37c-.4-.4-.92-.59-1.43-.59-.52 0-1.04.2-1.43.59L10.3 9.45l-7.72 7.72c-.78.78-.78 2.05 0 2.83L4 21.41c.39.39.9.59 1.41.59.51 0 1.02-.2 1.41-.59l7.78-7.78 2.81-2.81c.8-.78.8-2.07 0-2.86zM5.41 20L4 18.59l7.72-7.72 1.47 1.35L5.41 20z\"/>\n",
              "  </svg>\n",
              "      </button>\n",
              "      \n",
              "  <style>\n",
              "    .colab-df-container {\n",
              "      display:flex;\n",
              "      flex-wrap:wrap;\n",
              "      gap: 12px;\n",
              "    }\n",
              "\n",
              "    .colab-df-convert {\n",
              "      background-color: #E8F0FE;\n",
              "      border: none;\n",
              "      border-radius: 50%;\n",
              "      cursor: pointer;\n",
              "      display: none;\n",
              "      fill: #1967D2;\n",
              "      height: 32px;\n",
              "      padding: 0 0 0 0;\n",
              "      width: 32px;\n",
              "    }\n",
              "\n",
              "    .colab-df-convert:hover {\n",
              "      background-color: #E2EBFA;\n",
              "      box-shadow: 0px 1px 2px rgba(60, 64, 67, 0.3), 0px 1px 3px 1px rgba(60, 64, 67, 0.15);\n",
              "      fill: #174EA6;\n",
              "    }\n",
              "\n",
              "    [theme=dark] .colab-df-convert {\n",
              "      background-color: #3B4455;\n",
              "      fill: #D2E3FC;\n",
              "    }\n",
              "\n",
              "    [theme=dark] .colab-df-convert:hover {\n",
              "      background-color: #434B5C;\n",
              "      box-shadow: 0px 1px 3px 1px rgba(0, 0, 0, 0.15);\n",
              "      filter: drop-shadow(0px 1px 2px rgba(0, 0, 0, 0.3));\n",
              "      fill: #FFFFFF;\n",
              "    }\n",
              "  </style>\n",
              "\n",
              "      <script>\n",
              "        const buttonEl =\n",
              "          document.querySelector('#df-e9fa417f-b71f-4cad-8141-a8770f9f1bfe button.colab-df-convert');\n",
              "        buttonEl.style.display =\n",
              "          google.colab.kernel.accessAllowed ? 'block' : 'none';\n",
              "\n",
              "        async function convertToInteractive(key) {\n",
              "          const element = document.querySelector('#df-e9fa417f-b71f-4cad-8141-a8770f9f1bfe');\n",
              "          const dataTable =\n",
              "            await google.colab.kernel.invokeFunction('convertToInteractive',\n",
              "                                                     [key], {});\n",
              "          if (!dataTable) return;\n",
              "\n",
              "          const docLinkHtml = 'Like what you see? Visit the ' +\n",
              "            '<a target=\"_blank\" href=https://colab.research.google.com/notebooks/data_table.ipynb>data table notebook</a>'\n",
              "            + ' to learn more about interactive tables.';\n",
              "          element.innerHTML = '';\n",
              "          dataTable['output_type'] = 'display_data';\n",
              "          await google.colab.output.renderOutput(dataTable, element);\n",
              "          const docLink = document.createElement('div');\n",
              "          docLink.innerHTML = docLinkHtml;\n",
              "          element.appendChild(docLink);\n",
              "        }\n",
              "      </script>\n",
              "    </div>\n",
              "  </div>\n",
              "  "
            ]
          },
          "metadata": {},
          "execution_count": 7
        }
      ],
      "source": [
        "df = pd.read_csv('/content/fake_papers_train_part_public.csv')\n",
        "df = df.drop(columns = ['id'], axis = 1)\n",
        "print(df.shape)\n",
        "df.head()"
      ]
    },
    {
      "cell_type": "markdown",
      "source": [
        "###Preprocessing and importing libraries"
      ],
      "metadata": {
        "id": "IbgH1bXSLuTV"
      }
    },
    {
      "cell_type": "code",
      "execution_count": null,
      "metadata": {
        "colab": {
          "base_uri": "https://localhost:8080/",
          "height": 363
        },
        "id": "QsjVANSeB7Tx",
        "outputId": "9a57031a-e51b-4b87-83a0-6d9bac1eb621"
      },
      "outputs": [
        {
          "output_type": "execute_result",
          "data": {
            "text/plain": [
              "                                                text  fake  \\\n",
              "0  Modern two-dimensional imaging is of such qual...     0   \n",
              "1  Background: The optimal sequence of systemic p...     1   \n",
              "2  This chapter opens with a discussion of the ef...     1   \n",
              "3  The time scale of the ultra-short-term can str...     1   \n",
              "4  Electronic nose or machine olfaction are syste...     1   \n",
              "5  In this paper, the aim of the study is to dete...     1   \n",
              "6  Basell has acquired German steam cracker Ruhr ...     0   \n",
              "7  In this paper, Shimerdas and his co-workers ex...     1   \n",
              "8  Metastatic malignant melanoma is an incurable ...     0   \n",
              "9  In this paper, the authors describe a new faul...     1   \n",
              "\n",
              "                                         cleanedtext  \n",
              "0  modern two - dimensional imaging be of such qu...  \n",
              "1  background : the optimal sequence of systemic ...  \n",
              "2  this chapter open with a discussion of the eff...  \n",
              "3  the time scale of the ultra - short - term can...  \n",
              "4  electronic nose or machine olfaction be system...  \n",
              "5  in this paper , the aim of the study be to det...  \n",
              "6  basell have acquire german steam cracker ruhr ...  \n",
              "7  in this paper , shimerda and his co - worker e...  \n",
              "8  metastatic malignant melanoma be an incurable ...  \n",
              "9  in this paper , the author describe a new faul...  "
            ],
            "text/html": [
              "\n",
              "  <div id=\"df-9707a235-d1a8-4d92-8c2d-b700bea88875\">\n",
              "    <div class=\"colab-df-container\">\n",
              "      <div>\n",
              "<style scoped>\n",
              "    .dataframe tbody tr th:only-of-type {\n",
              "        vertical-align: middle;\n",
              "    }\n",
              "\n",
              "    .dataframe tbody tr th {\n",
              "        vertical-align: top;\n",
              "    }\n",
              "\n",
              "    .dataframe thead th {\n",
              "        text-align: right;\n",
              "    }\n",
              "</style>\n",
              "<table border=\"1\" class=\"dataframe\">\n",
              "  <thead>\n",
              "    <tr style=\"text-align: right;\">\n",
              "      <th></th>\n",
              "      <th>text</th>\n",
              "      <th>fake</th>\n",
              "      <th>cleanedtext</th>\n",
              "    </tr>\n",
              "  </thead>\n",
              "  <tbody>\n",
              "    <tr>\n",
              "      <th>0</th>\n",
              "      <td>Modern two-dimensional imaging is of such qual...</td>\n",
              "      <td>0</td>\n",
              "      <td>modern two - dimensional imaging be of such qu...</td>\n",
              "    </tr>\n",
              "    <tr>\n",
              "      <th>1</th>\n",
              "      <td>Background: The optimal sequence of systemic p...</td>\n",
              "      <td>1</td>\n",
              "      <td>background : the optimal sequence of systemic ...</td>\n",
              "    </tr>\n",
              "    <tr>\n",
              "      <th>2</th>\n",
              "      <td>This chapter opens with a discussion of the ef...</td>\n",
              "      <td>1</td>\n",
              "      <td>this chapter open with a discussion of the eff...</td>\n",
              "    </tr>\n",
              "    <tr>\n",
              "      <th>3</th>\n",
              "      <td>The time scale of the ultra-short-term can str...</td>\n",
              "      <td>1</td>\n",
              "      <td>the time scale of the ultra - short - term can...</td>\n",
              "    </tr>\n",
              "    <tr>\n",
              "      <th>4</th>\n",
              "      <td>Electronic nose or machine olfaction are syste...</td>\n",
              "      <td>1</td>\n",
              "      <td>electronic nose or machine olfaction be system...</td>\n",
              "    </tr>\n",
              "    <tr>\n",
              "      <th>5</th>\n",
              "      <td>In this paper, the aim of the study is to dete...</td>\n",
              "      <td>1</td>\n",
              "      <td>in this paper , the aim of the study be to det...</td>\n",
              "    </tr>\n",
              "    <tr>\n",
              "      <th>6</th>\n",
              "      <td>Basell has acquired German steam cracker Ruhr ...</td>\n",
              "      <td>0</td>\n",
              "      <td>basell have acquire german steam cracker ruhr ...</td>\n",
              "    </tr>\n",
              "    <tr>\n",
              "      <th>7</th>\n",
              "      <td>In this paper, Shimerdas and his co-workers ex...</td>\n",
              "      <td>1</td>\n",
              "      <td>in this paper , shimerda and his co - worker e...</td>\n",
              "    </tr>\n",
              "    <tr>\n",
              "      <th>8</th>\n",
              "      <td>Metastatic malignant melanoma is an incurable ...</td>\n",
              "      <td>0</td>\n",
              "      <td>metastatic malignant melanoma be an incurable ...</td>\n",
              "    </tr>\n",
              "    <tr>\n",
              "      <th>9</th>\n",
              "      <td>In this paper, the authors describe a new faul...</td>\n",
              "      <td>1</td>\n",
              "      <td>in this paper , the author describe a new faul...</td>\n",
              "    </tr>\n",
              "  </tbody>\n",
              "</table>\n",
              "</div>\n",
              "      <button class=\"colab-df-convert\" onclick=\"convertToInteractive('df-9707a235-d1a8-4d92-8c2d-b700bea88875')\"\n",
              "              title=\"Convert this dataframe to an interactive table.\"\n",
              "              style=\"display:none;\">\n",
              "        \n",
              "  <svg xmlns=\"http://www.w3.org/2000/svg\" height=\"24px\"viewBox=\"0 0 24 24\"\n",
              "       width=\"24px\">\n",
              "    <path d=\"M0 0h24v24H0V0z\" fill=\"none\"/>\n",
              "    <path d=\"M18.56 5.44l.94 2.06.94-2.06 2.06-.94-2.06-.94-.94-2.06-.94 2.06-2.06.94zm-11 1L8.5 8.5l.94-2.06 2.06-.94-2.06-.94L8.5 2.5l-.94 2.06-2.06.94zm10 10l.94 2.06.94-2.06 2.06-.94-2.06-.94-.94-2.06-.94 2.06-2.06.94z\"/><path d=\"M17.41 7.96l-1.37-1.37c-.4-.4-.92-.59-1.43-.59-.52 0-1.04.2-1.43.59L10.3 9.45l-7.72 7.72c-.78.78-.78 2.05 0 2.83L4 21.41c.39.39.9.59 1.41.59.51 0 1.02-.2 1.41-.59l7.78-7.78 2.81-2.81c.8-.78.8-2.07 0-2.86zM5.41 20L4 18.59l7.72-7.72 1.47 1.35L5.41 20z\"/>\n",
              "  </svg>\n",
              "      </button>\n",
              "      \n",
              "  <style>\n",
              "    .colab-df-container {\n",
              "      display:flex;\n",
              "      flex-wrap:wrap;\n",
              "      gap: 12px;\n",
              "    }\n",
              "\n",
              "    .colab-df-convert {\n",
              "      background-color: #E8F0FE;\n",
              "      border: none;\n",
              "      border-radius: 50%;\n",
              "      cursor: pointer;\n",
              "      display: none;\n",
              "      fill: #1967D2;\n",
              "      height: 32px;\n",
              "      padding: 0 0 0 0;\n",
              "      width: 32px;\n",
              "    }\n",
              "\n",
              "    .colab-df-convert:hover {\n",
              "      background-color: #E2EBFA;\n",
              "      box-shadow: 0px 1px 2px rgba(60, 64, 67, 0.3), 0px 1px 3px 1px rgba(60, 64, 67, 0.15);\n",
              "      fill: #174EA6;\n",
              "    }\n",
              "\n",
              "    [theme=dark] .colab-df-convert {\n",
              "      background-color: #3B4455;\n",
              "      fill: #D2E3FC;\n",
              "    }\n",
              "\n",
              "    [theme=dark] .colab-df-convert:hover {\n",
              "      background-color: #434B5C;\n",
              "      box-shadow: 0px 1px 3px 1px rgba(0, 0, 0, 0.15);\n",
              "      filter: drop-shadow(0px 1px 2px rgba(0, 0, 0, 0.3));\n",
              "      fill: #FFFFFF;\n",
              "    }\n",
              "  </style>\n",
              "\n",
              "      <script>\n",
              "        const buttonEl =\n",
              "          document.querySelector('#df-9707a235-d1a8-4d92-8c2d-b700bea88875 button.colab-df-convert');\n",
              "        buttonEl.style.display =\n",
              "          google.colab.kernel.accessAllowed ? 'block' : 'none';\n",
              "\n",
              "        async function convertToInteractive(key) {\n",
              "          const element = document.querySelector('#df-9707a235-d1a8-4d92-8c2d-b700bea88875');\n",
              "          const dataTable =\n",
              "            await google.colab.kernel.invokeFunction('convertToInteractive',\n",
              "                                                     [key], {});\n",
              "          if (!dataTable) return;\n",
              "\n",
              "          const docLinkHtml = 'Like what you see? Visit the ' +\n",
              "            '<a target=\"_blank\" href=https://colab.research.google.com/notebooks/data_table.ipynb>data table notebook</a>'\n",
              "            + ' to learn more about interactive tables.';\n",
              "          element.innerHTML = '';\n",
              "          dataTable['output_type'] = 'display_data';\n",
              "          await google.colab.output.renderOutput(dataTable, element);\n",
              "          const docLink = document.createElement('div');\n",
              "          docLink.innerHTML = docLinkHtml;\n",
              "          element.appendChild(docLink);\n",
              "        }\n",
              "      </script>\n",
              "    </div>\n",
              "  </div>\n",
              "  "
            ]
          },
          "metadata": {},
          "execution_count": 8
        }
      ],
      "source": [
        "nlp = spacy.load('en_core_web_sm')\n",
        "\n",
        "def clean_text(text):\n",
        "    # Convert to lowercase\n",
        "    text = text.lower()\n",
        "\n",
        "    # Tokenize using spacy\n",
        "    doc = nlp(text)\n",
        "\n",
        "    # Lemmatize\n",
        "    text = [token.lemma_ for token in doc ]\n",
        "\n",
        "    return ' '.join(text)\n",
        "\n",
        "df['cleanedtext'] = df['text'].apply(lambda x: clean_text(x.lower()))\n",
        "df.head(10)"
      ]
    },
    {
      "cell_type": "markdown",
      "metadata": {
        "id": "VsB7dn9ieqZ0"
      },
      "source": [
        "1 stands for the generated content and 0 stands for human-written content."
      ]
    },
    {
      "cell_type": "code",
      "execution_count": null,
      "metadata": {
        "id": "H7BFxv87e6PZ"
      },
      "outputs": [],
      "source": [
        "import numpy as np\n",
        "np.random.seed(42)"
      ]
    },
    {
      "cell_type": "code",
      "execution_count": null,
      "metadata": {
        "id": "bmxPORq0c5oZ"
      },
      "outputs": [],
      "source": [
        "X = list(df['cleanedtext'])\n",
        "y = list(df['fake'])"
      ]
    },
    {
      "cell_type": "code",
      "execution_count": null,
      "metadata": {
        "id": "bvPKF7aEc4p8"
      },
      "outputs": [],
      "source": [
        "from sklearn.model_selection import train_test_split\n",
        "from sklearn.metrics import accuracy_score, confusion_matrix\n",
        "from sklearn.metrics import ConfusionMatrixDisplay\n",
        "CMD = ConfusionMatrixDisplay\n",
        "from sklearn.metrics import classification_report\n",
        "CR = classification_report\n",
        "from sklearn.pipeline import Pipeline\n",
        "from sklearn.model_selection import GridSearchCV"
      ]
    },
    {
      "cell_type": "markdown",
      "source": [
        "params consists of different set of hyperparameters for every model"
      ],
      "metadata": {
        "id": "eJdnyb1wNCYP"
      }
    },
    {
      "cell_type": "markdown",
      "metadata": {
        "id": "6Z6g2t11wPRf"
      },
      "source": [
        "##Decision Trees"
      ]
    },
    {
      "cell_type": "markdown",
      "source": [
        "Validation Performance with every set of hyperparameters using Grid Search CV"
      ],
      "metadata": {
        "id": "l36Fgb2lMOE0"
      }
    },
    {
      "cell_type": "markdown",
      "source": [
        "Then, test set performance for best parameters"
      ],
      "metadata": {
        "id": "GWhkdKSSMX0f"
      }
    },
    {
      "cell_type": "markdown",
      "source": [
        "Lastly Confusion Matrix"
      ],
      "metadata": {
        "id": "0aHrYpjVMjL7"
      }
    },
    {
      "cell_type": "code",
      "execution_count": null,
      "metadata": {
        "colab": {
          "base_uri": "https://localhost:8080/",
          "height": 1000
        },
        "id": "kX67UCO-dRsI",
        "outputId": "4cd9dd5d-c463-4ed6-d0b4-32e4ab8bc62b"
      },
      "outputs": [
        {
          "name": "stdout",
          "output_type": "stream",
          "text": [
            "Parameters:  {'clf__max_depth': 1, 'clf__min_samples_leaf': 1, 'clf__min_samples_split': 2}\n",
            "Mean accuracy on validation set:  0.705373831775701\n",
            "Parameters:  {'clf__max_depth': 1, 'clf__min_samples_leaf': 1, 'clf__min_samples_split': 5}\n",
            "Mean accuracy on validation set:  0.705373831775701\n",
            "Parameters:  {'clf__max_depth': 1, 'clf__min_samples_leaf': 1, 'clf__min_samples_split': 10}\n",
            "Mean accuracy on validation set:  0.705373831775701\n",
            "Parameters:  {'clf__max_depth': 1, 'clf__min_samples_leaf': 1, 'clf__min_samples_split': 15}\n",
            "Mean accuracy on validation set:  0.705373831775701\n",
            "Parameters:  {'clf__max_depth': 1, 'clf__min_samples_leaf': 1, 'clf__min_samples_split': 20}\n",
            "Mean accuracy on validation set:  0.705373831775701\n",
            "Parameters:  {'clf__max_depth': 1, 'clf__min_samples_leaf': 3, 'clf__min_samples_split': 2}\n",
            "Mean accuracy on validation set:  0.705373831775701\n",
            "Parameters:  {'clf__max_depth': 1, 'clf__min_samples_leaf': 3, 'clf__min_samples_split': 5}\n",
            "Mean accuracy on validation set:  0.705373831775701\n",
            "Parameters:  {'clf__max_depth': 1, 'clf__min_samples_leaf': 3, 'clf__min_samples_split': 10}\n",
            "Mean accuracy on validation set:  0.705373831775701\n",
            "Parameters:  {'clf__max_depth': 1, 'clf__min_samples_leaf': 3, 'clf__min_samples_split': 15}\n",
            "Mean accuracy on validation set:  0.705373831775701\n",
            "Parameters:  {'clf__max_depth': 1, 'clf__min_samples_leaf': 3, 'clf__min_samples_split': 20}\n",
            "Mean accuracy on validation set:  0.705373831775701\n",
            "Parameters:  {'clf__max_depth': 1, 'clf__min_samples_leaf': 7, 'clf__min_samples_split': 2}\n",
            "Mean accuracy on validation set:  0.705373831775701\n",
            "Parameters:  {'clf__max_depth': 1, 'clf__min_samples_leaf': 7, 'clf__min_samples_split': 5}\n",
            "Mean accuracy on validation set:  0.705373831775701\n",
            "Parameters:  {'clf__max_depth': 1, 'clf__min_samples_leaf': 7, 'clf__min_samples_split': 10}\n",
            "Mean accuracy on validation set:  0.705373831775701\n",
            "Parameters:  {'clf__max_depth': 1, 'clf__min_samples_leaf': 7, 'clf__min_samples_split': 15}\n",
            "Mean accuracy on validation set:  0.705373831775701\n",
            "Parameters:  {'clf__max_depth': 1, 'clf__min_samples_leaf': 7, 'clf__min_samples_split': 20}\n",
            "Mean accuracy on validation set:  0.705373831775701\n",
            "Parameters:  {'clf__max_depth': 1, 'clf__min_samples_leaf': 10, 'clf__min_samples_split': 2}\n",
            "Mean accuracy on validation set:  0.705373831775701\n",
            "Parameters:  {'clf__max_depth': 1, 'clf__min_samples_leaf': 10, 'clf__min_samples_split': 5}\n",
            "Mean accuracy on validation set:  0.705373831775701\n",
            "Parameters:  {'clf__max_depth': 1, 'clf__min_samples_leaf': 10, 'clf__min_samples_split': 10}\n",
            "Mean accuracy on validation set:  0.705373831775701\n",
            "Parameters:  {'clf__max_depth': 1, 'clf__min_samples_leaf': 10, 'clf__min_samples_split': 15}\n",
            "Mean accuracy on validation set:  0.705373831775701\n",
            "Parameters:  {'clf__max_depth': 1, 'clf__min_samples_leaf': 10, 'clf__min_samples_split': 20}\n",
            "Mean accuracy on validation set:  0.705373831775701\n",
            "Parameters:  {'clf__max_depth': 3, 'clf__min_samples_leaf': 1, 'clf__min_samples_split': 2}\n",
            "Mean accuracy on validation set:  0.7572429906542056\n",
            "Parameters:  {'clf__max_depth': 3, 'clf__min_samples_leaf': 1, 'clf__min_samples_split': 5}\n",
            "Mean accuracy on validation set:  0.7572429906542056\n",
            "Parameters:  {'clf__max_depth': 3, 'clf__min_samples_leaf': 1, 'clf__min_samples_split': 10}\n",
            "Mean accuracy on validation set:  0.7572429906542056\n",
            "Parameters:  {'clf__max_depth': 3, 'clf__min_samples_leaf': 1, 'clf__min_samples_split': 15}\n",
            "Mean accuracy on validation set:  0.7574766355140187\n",
            "Parameters:  {'clf__max_depth': 3, 'clf__min_samples_leaf': 1, 'clf__min_samples_split': 20}\n",
            "Mean accuracy on validation set:  0.7574766355140187\n",
            "Parameters:  {'clf__max_depth': 3, 'clf__min_samples_leaf': 3, 'clf__min_samples_split': 2}\n",
            "Mean accuracy on validation set:  0.7574766355140187\n",
            "Parameters:  {'clf__max_depth': 3, 'clf__min_samples_leaf': 3, 'clf__min_samples_split': 5}\n",
            "Mean accuracy on validation set:  0.7574766355140187\n",
            "Parameters:  {'clf__max_depth': 3, 'clf__min_samples_leaf': 3, 'clf__min_samples_split': 10}\n",
            "Mean accuracy on validation set:  0.7574766355140187\n",
            "Parameters:  {'clf__max_depth': 3, 'clf__min_samples_leaf': 3, 'clf__min_samples_split': 15}\n",
            "Mean accuracy on validation set:  0.7577102803738317\n",
            "Parameters:  {'clf__max_depth': 3, 'clf__min_samples_leaf': 3, 'clf__min_samples_split': 20}\n",
            "Mean accuracy on validation set:  0.7577102803738317\n",
            "Parameters:  {'clf__max_depth': 3, 'clf__min_samples_leaf': 7, 'clf__min_samples_split': 2}\n",
            "Mean accuracy on validation set:  0.7579439252336448\n",
            "Parameters:  {'clf__max_depth': 3, 'clf__min_samples_leaf': 7, 'clf__min_samples_split': 5}\n",
            "Mean accuracy on validation set:  0.7579439252336448\n",
            "Parameters:  {'clf__max_depth': 3, 'clf__min_samples_leaf': 7, 'clf__min_samples_split': 10}\n",
            "Mean accuracy on validation set:  0.7579439252336448\n",
            "Parameters:  {'clf__max_depth': 3, 'clf__min_samples_leaf': 7, 'clf__min_samples_split': 15}\n",
            "Mean accuracy on validation set:  0.7579439252336448\n",
            "Parameters:  {'clf__max_depth': 3, 'clf__min_samples_leaf': 7, 'clf__min_samples_split': 20}\n",
            "Mean accuracy on validation set:  0.7579439252336448\n",
            "Parameters:  {'clf__max_depth': 3, 'clf__min_samples_leaf': 10, 'clf__min_samples_split': 2}\n",
            "Mean accuracy on validation set:  0.7579439252336448\n",
            "Parameters:  {'clf__max_depth': 3, 'clf__min_samples_leaf': 10, 'clf__min_samples_split': 5}\n",
            "Mean accuracy on validation set:  0.7579439252336448\n",
            "Parameters:  {'clf__max_depth': 3, 'clf__min_samples_leaf': 10, 'clf__min_samples_split': 10}\n",
            "Mean accuracy on validation set:  0.7579439252336448\n",
            "Parameters:  {'clf__max_depth': 3, 'clf__min_samples_leaf': 10, 'clf__min_samples_split': 15}\n",
            "Mean accuracy on validation set:  0.7579439252336448\n",
            "Parameters:  {'clf__max_depth': 3, 'clf__min_samples_leaf': 10, 'clf__min_samples_split': 20}\n",
            "Mean accuracy on validation set:  0.7579439252336448\n",
            "Parameters:  {'clf__max_depth': 5, 'clf__min_samples_leaf': 1, 'clf__min_samples_split': 2}\n",
            "Mean accuracy on validation set:  0.7700934579439251\n",
            "Parameters:  {'clf__max_depth': 5, 'clf__min_samples_leaf': 1, 'clf__min_samples_split': 5}\n",
            "Mean accuracy on validation set:  0.7703271028037383\n",
            "Parameters:  {'clf__max_depth': 5, 'clf__min_samples_leaf': 1, 'clf__min_samples_split': 10}\n",
            "Mean accuracy on validation set:  0.7703271028037383\n",
            "Parameters:  {'clf__max_depth': 5, 'clf__min_samples_leaf': 1, 'clf__min_samples_split': 15}\n",
            "Mean accuracy on validation set:  0.7705607476635514\n",
            "Parameters:  {'clf__max_depth': 5, 'clf__min_samples_leaf': 1, 'clf__min_samples_split': 20}\n",
            "Mean accuracy on validation set:  0.7705607476635514\n",
            "Parameters:  {'clf__max_depth': 5, 'clf__min_samples_leaf': 3, 'clf__min_samples_split': 2}\n",
            "Mean accuracy on validation set:  0.7707943925233645\n",
            "Parameters:  {'clf__max_depth': 5, 'clf__min_samples_leaf': 3, 'clf__min_samples_split': 5}\n",
            "Mean accuracy on validation set:  0.7707943925233645\n",
            "Parameters:  {'clf__max_depth': 5, 'clf__min_samples_leaf': 3, 'clf__min_samples_split': 10}\n",
            "Mean accuracy on validation set:  0.7707943925233645\n",
            "Parameters:  {'clf__max_depth': 5, 'clf__min_samples_leaf': 3, 'clf__min_samples_split': 15}\n",
            "Mean accuracy on validation set:  0.7714953271028037\n",
            "Parameters:  {'clf__max_depth': 5, 'clf__min_samples_leaf': 3, 'clf__min_samples_split': 20}\n",
            "Mean accuracy on validation set:  0.7714953271028037\n",
            "Parameters:  {'clf__max_depth': 5, 'clf__min_samples_leaf': 7, 'clf__min_samples_split': 2}\n",
            "Mean accuracy on validation set:  0.7712616822429906\n",
            "Parameters:  {'clf__max_depth': 5, 'clf__min_samples_leaf': 7, 'clf__min_samples_split': 5}\n",
            "Mean accuracy on validation set:  0.7712616822429906\n",
            "Parameters:  {'clf__max_depth': 5, 'clf__min_samples_leaf': 7, 'clf__min_samples_split': 10}\n",
            "Mean accuracy on validation set:  0.7712616822429906\n",
            "Parameters:  {'clf__max_depth': 5, 'clf__min_samples_leaf': 7, 'clf__min_samples_split': 15}\n",
            "Mean accuracy on validation set:  0.7714953271028037\n",
            "Parameters:  {'clf__max_depth': 5, 'clf__min_samples_leaf': 7, 'clf__min_samples_split': 20}\n",
            "Mean accuracy on validation set:  0.7714953271028037\n",
            "Parameters:  {'clf__max_depth': 5, 'clf__min_samples_leaf': 10, 'clf__min_samples_split': 2}\n",
            "Mean accuracy on validation set:  0.7698598130841122\n",
            "Parameters:  {'clf__max_depth': 5, 'clf__min_samples_leaf': 10, 'clf__min_samples_split': 5}\n",
            "Mean accuracy on validation set:  0.7698598130841122\n",
            "Parameters:  {'clf__max_depth': 5, 'clf__min_samples_leaf': 10, 'clf__min_samples_split': 10}\n",
            "Mean accuracy on validation set:  0.7698598130841122\n",
            "Parameters:  {'clf__max_depth': 5, 'clf__min_samples_leaf': 10, 'clf__min_samples_split': 15}\n",
            "Mean accuracy on validation set:  0.7698598130841122\n",
            "Parameters:  {'clf__max_depth': 5, 'clf__min_samples_leaf': 10, 'clf__min_samples_split': 20}\n",
            "Mean accuracy on validation set:  0.7698598130841122\n",
            "Parameters:  {'clf__max_depth': 7, 'clf__min_samples_leaf': 1, 'clf__min_samples_split': 2}\n",
            "Mean accuracy on validation set:  0.7609813084112149\n",
            "Parameters:  {'clf__max_depth': 7, 'clf__min_samples_leaf': 1, 'clf__min_samples_split': 5}\n",
            "Mean accuracy on validation set:  0.7621495327102803\n",
            "Parameters:  {'clf__max_depth': 7, 'clf__min_samples_leaf': 1, 'clf__min_samples_split': 10}\n",
            "Mean accuracy on validation set:  0.7605140186915887\n",
            "Parameters:  {'clf__max_depth': 7, 'clf__min_samples_leaf': 1, 'clf__min_samples_split': 15}\n",
            "Mean accuracy on validation set:  0.7614485981308411\n",
            "Parameters:  {'clf__max_depth': 7, 'clf__min_samples_leaf': 1, 'clf__min_samples_split': 20}\n",
            "Mean accuracy on validation set:  0.7621495327102804\n",
            "Parameters:  {'clf__max_depth': 7, 'clf__min_samples_leaf': 3, 'clf__min_samples_split': 2}\n",
            "Mean accuracy on validation set:  0.7619158878504673\n",
            "Parameters:  {'clf__max_depth': 7, 'clf__min_samples_leaf': 3, 'clf__min_samples_split': 5}\n",
            "Mean accuracy on validation set:  0.7619158878504673\n",
            "Parameters:  {'clf__max_depth': 7, 'clf__min_samples_leaf': 3, 'clf__min_samples_split': 10}\n",
            "Mean accuracy on validation set:  0.7626168224299066\n",
            "Parameters:  {'clf__max_depth': 7, 'clf__min_samples_leaf': 3, 'clf__min_samples_split': 15}\n",
            "Mean accuracy on validation set:  0.7630841121495326\n",
            "Parameters:  {'clf__max_depth': 7, 'clf__min_samples_leaf': 3, 'clf__min_samples_split': 20}\n",
            "Mean accuracy on validation set:  0.7602803738317756\n",
            "Parameters:  {'clf__max_depth': 7, 'clf__min_samples_leaf': 7, 'clf__min_samples_split': 2}\n",
            "Mean accuracy on validation set:  0.7630841121495328\n",
            "Parameters:  {'clf__max_depth': 7, 'clf__min_samples_leaf': 7, 'clf__min_samples_split': 5}\n",
            "Mean accuracy on validation set:  0.7630841121495328\n",
            "Parameters:  {'clf__max_depth': 7, 'clf__min_samples_leaf': 7, 'clf__min_samples_split': 10}\n",
            "Mean accuracy on validation set:  0.7630841121495328\n",
            "Parameters:  {'clf__max_depth': 7, 'clf__min_samples_leaf': 7, 'clf__min_samples_split': 15}\n",
            "Mean accuracy on validation set:  0.7635514018691588\n",
            "Parameters:  {'clf__max_depth': 7, 'clf__min_samples_leaf': 7, 'clf__min_samples_split': 20}\n",
            "Mean accuracy on validation set:  0.7633177570093457\n",
            "Parameters:  {'clf__max_depth': 7, 'clf__min_samples_leaf': 10, 'clf__min_samples_split': 2}\n",
            "Mean accuracy on validation set:  0.7675233644859814\n",
            "Parameters:  {'clf__max_depth': 7, 'clf__min_samples_leaf': 10, 'clf__min_samples_split': 5}\n",
            "Mean accuracy on validation set:  0.7675233644859814\n",
            "Parameters:  {'clf__max_depth': 7, 'clf__min_samples_leaf': 10, 'clf__min_samples_split': 10}\n",
            "Mean accuracy on validation set:  0.7675233644859814\n",
            "Parameters:  {'clf__max_depth': 7, 'clf__min_samples_leaf': 10, 'clf__min_samples_split': 15}\n",
            "Mean accuracy on validation set:  0.7675233644859814\n",
            "Parameters:  {'clf__max_depth': 7, 'clf__min_samples_leaf': 10, 'clf__min_samples_split': 20}\n",
            "Mean accuracy on validation set:  0.7675233644859814\n",
            "Best Parameters: {'clf__max_depth': 5, 'clf__min_samples_leaf': 3, 'clf__min_samples_split': 15}\n",
            "Test Accuracy: 0.7720\n",
            "              precision    recall  f1-score   support\n",
            "\n",
            "           0       0.64      0.64      0.64       341\n",
            "           1       0.83      0.83      0.83       729\n",
            "\n",
            "    accuracy                           0.77      1070\n",
            "   macro avg       0.74      0.74      0.74      1070\n",
            "weighted avg       0.77      0.77      0.77      1070\n",
            "\n"
          ]
        },
        {
          "data": {
            "image/png": "[encoded data removed]",
            "text/plain": [
              "<Figure size 640x480 with 2 Axes>"
            ]
          },
          "metadata": {},
          "output_type": "display_data"
        }
      ],
      "source": [
        "from sklearn.tree import DecisionTreeClassifier\n",
        "from sklearn.feature_extraction.text import TfidfVectorizer\n",
        "from sklearn.metrics import accuracy_score, classification_report\n",
        "\n",
        "#pipeline for feature extraction using Tfidf and decision tree model\n",
        "pipeline = Pipeline([\n",
        "    ('tfidf', TfidfVectorizer()),\n",
        "    ('clf', DecisionTreeClassifier(random_state=42))\n",
        "])\n",
        "\n",
        "#important hyperparameters\n",
        "params = {\n",
        "    'clf__max_depth': [1,3,5,7],\n",
        "    'clf__min_samples_split': [2,5,10,15,20],\n",
        "    'clf__min_samples_leaf': [1,3,7,10]\n",
        "}\n",
        "\n",
        "# Split the data into training and test sets\n",
        "X_val_train, X_test, y_val_train, y_test = train_test_split(X, y, test_size=0.2)\n",
        "\n",
        "# Usng GridSearchCV to tune hyperparameters and select the best model\n",
        "grid_search = GridSearchCV(pipeline, params, cv=4)\n",
        "grid_search.fit(X_val_train, y_val_train)\n",
        "\n",
        "#results of the grid search\n",
        "results = grid_search.cv_results_\n",
        "\n",
        "#performance for each set of hyperparameters\n",
        "for i in range(len(results['params'])):\n",
        "    print(\"Parameters: \", results['params'][i])\n",
        "    print(\"Mean accuracy on validation set: \", results['mean_test_score'][i])\n",
        "\n",
        "best_model = grid_search.best_estimator_\n",
        "best_params = grid_search.best_params_\n",
        "\n",
        "# Evaluate the final model on the test set\n",
        "y_pred = best_model.predict(X_test)\n",
        "accuracy = accuracy_score(y_test, y_pred)\n",
        "\n",
        "print(f'Best Parameters: {best_params}')\n",
        "print(f'Test Accuracy: {accuracy:.4f}')\n",
        "CMD.from_predictions(y_test,y_pred)\n",
        "print(CR(y_test,y_pred))"
      ]
    },
    {
      "cell_type": "code",
      "execution_count": null,
      "metadata": {
        "colab": {
          "base_uri": "https://localhost:8080/"
        },
        "id": "5u4-s_g7tahd",
        "outputId": "547fc0a4-cfbb-4f46-a740-5f61c3db9e33"
      },
      "outputs": [
        {
          "data": {
            "text/plain": [
              "0.7871495327102803"
            ]
          },
          "execution_count": 76,
          "metadata": {},
          "output_type": "execute_result"
        }
      ],
      "source": [
        "grid_search.score(X_val_train,y_val_train)"
      ]
    },
    {
      "cell_type": "code",
      "execution_count": null,
      "metadata": {
        "colab": {
          "base_uri": "https://localhost:8080/"
        },
        "id": "Wvbe88OTvqaD",
        "outputId": "b86af843-e02a-4326-9015-e21235d04dee"
      },
      "outputs": [
        {
          "data": {
            "text/plain": [
              "0.77196261682243"
            ]
          },
          "execution_count": 78,
          "metadata": {},
          "output_type": "execute_result"
        }
      ],
      "source": [
        "grid_search.score(X_test,y_test)"
      ]
    },
    {
      "cell_type": "code",
      "execution_count": null,
      "metadata": {
        "colab": {
          "base_uri": "https://localhost:8080/",
          "height": 188
        },
        "id": "NiAyF7vLEQti",
        "outputId": "6de5be1f-9e4d-4fd3-fb61-2e3d05f8e4c1"
      },
      "outputs": [
        {
          "data": {
            "text/html": [
              "<style>#sk-container-id-4 {color: black;background-color: white;}#sk-container-id-4 pre{padding: 0;}#sk-container-id-4 div.sk-toggleable {background-color: white;}#sk-container-id-4 label.sk-toggleable__label {cursor: pointer;display: block;width: 100%;margin-bottom: 0;padding: 0.3em;box-sizing: border-box;text-align: center;}#sk-container-id-4 label.sk-toggleable__label-arrow:before {content: \"▸\";float: left;margin-right: 0.25em;color: #696969;}#sk-container-id-4 label.sk-toggleable__label-arrow:hover:before {color: black;}#sk-container-id-4 div.sk-estimator:hover label.sk-toggleable__label-arrow:before {color: black;}#sk-container-id-4 div.sk-toggleable__content {max-height: 0;max-width: 0;overflow: hidden;text-align: left;background-color: #f0f8ff;}#sk-container-id-4 div.sk-toggleable__content pre {margin: 0.2em;color: black;border-radius: 0.25em;background-color: #f0f8ff;}#sk-container-id-4 input.sk-toggleable__control:checked~div.sk-toggleable__content {max-height: 200px;max-width: 100%;overflow: auto;}#sk-container-id-4 input.sk-toggleable__control:checked~label.sk-toggleable__label-arrow:before {content: \"▾\";}#sk-container-id-4 div.sk-estimator input.sk-toggleable__control:checked~label.sk-toggleable__label {background-color: #d4ebff;}#sk-container-id-4 div.sk-label input.sk-toggleable__control:checked~label.sk-toggleable__label {background-color: #d4ebff;}#sk-container-id-4 input.sk-hidden--visually {border: 0;clip: rect(1px 1px 1px 1px);clip: rect(1px, 1px, 1px, 1px);height: 1px;margin: -1px;overflow: hidden;padding: 0;position: absolute;width: 1px;}#sk-container-id-4 div.sk-estimator {font-family: monospace;background-color: #f0f8ff;border: 1px dotted black;border-radius: 0.25em;box-sizing: border-box;margin-bottom: 0.5em;}#sk-container-id-4 div.sk-estimator:hover {background-color: #d4ebff;}#sk-container-id-4 div.sk-parallel-item::after {content: \"\";width: 100%;border-bottom: 1px solid gray;flex-grow: 1;}#sk-container-id-4 div.sk-label:hover label.sk-toggleable__label {background-color: #d4ebff;}#sk-container-id-4 div.sk-serial::before {content: \"\";position: absolute;border-left: 1px solid gray;box-sizing: border-box;top: 0;bottom: 0;left: 50%;z-index: 0;}#sk-container-id-4 div.sk-serial {display: flex;flex-direction: column;align-items: center;background-color: white;padding-right: 0.2em;padding-left: 0.2em;position: relative;}#sk-container-id-4 div.sk-item {position: relative;z-index: 1;}#sk-container-id-4 div.sk-parallel {display: flex;align-items: stretch;justify-content: center;background-color: white;position: relative;}#sk-container-id-4 div.sk-item::before, #sk-container-id-4 div.sk-parallel-item::before {content: \"\";position: absolute;border-left: 1px solid gray;box-sizing: border-box;top: 0;bottom: 0;left: 50%;z-index: -1;}#sk-container-id-4 div.sk-parallel-item {display: flex;flex-direction: column;z-index: 1;position: relative;background-color: white;}#sk-container-id-4 div.sk-parallel-item:first-child::after {align-self: flex-end;width: 50%;}#sk-container-id-4 div.sk-parallel-item:last-child::after {align-self: flex-start;width: 50%;}#sk-container-id-4 div.sk-parallel-item:only-child::after {width: 0;}#sk-container-id-4 div.sk-dashed-wrapped {border: 1px dashed gray;margin: 0 0.4em 0.5em 0.4em;box-sizing: border-box;padding-bottom: 0.4em;background-color: white;}#sk-container-id-4 div.sk-label label {font-family: monospace;font-weight: bold;display: inline-block;line-height: 1.2em;}#sk-container-id-4 div.sk-label-container {text-align: center;}#sk-container-id-4 div.sk-container {/* jupyter's `normalize.less` sets `[hidden] { display: none; }` but bootstrap.min.css set `[hidden] { display: none !important; }` so we also need the `!important` here to be able to override the default hidden behavior on the sphinx rendered scikit-learn.org. See: https://github.com/scikit-learn/scikit-learn/issues/21755 */display: inline-block !important;position: relative;}#sk-container-id-4 div.sk-text-repr-fallback {display: none;}</style><div id=\"sk-container-id-4\" class=\"sk-top-container\"><div class=\"sk-text-repr-fallback\"><pre>Pipeline(steps=[(&#x27;tfidf&#x27;, TfidfVectorizer()),\n",
              "                (&#x27;clf&#x27;,\n",
              "                 DecisionTreeClassifier(max_depth=5, min_samples_leaf=3,\n",
              "                                        min_samples_split=15,\n",
              "                                        random_state=42))])</pre><b>In a Jupyter environment, please rerun this cell to show the HTML representation or trust the notebook. <br />On GitHub, the HTML representation is unable to render, please try loading this page with nbviewer.org.</b></div><div class=\"sk-container\" hidden><div class=\"sk-item sk-dashed-wrapped\"><div class=\"sk-label-container\"><div class=\"sk-label sk-toggleable\"><input class=\"sk-toggleable__control sk-hidden--visually\" id=\"sk-estimator-id-6\" type=\"checkbox\" ><label for=\"sk-estimator-id-6\" class=\"sk-toggleable__label sk-toggleable__label-arrow\">Pipeline</label><div class=\"sk-toggleable__content\"><pre>Pipeline(steps=[(&#x27;tfidf&#x27;, TfidfVectorizer()),\n",
              "                (&#x27;clf&#x27;,\n",
              "                 DecisionTreeClassifier(max_depth=5, min_samples_leaf=3,\n",
              "                                        min_samples_split=15,\n",
              "                                        random_state=42))])</pre></div></div></div><div class=\"sk-serial\"><div class=\"sk-item\"><div class=\"sk-estimator sk-toggleable\"><input class=\"sk-toggleable__control sk-hidden--visually\" id=\"sk-estimator-id-7\" type=\"checkbox\" ><label for=\"sk-estimator-id-7\" class=\"sk-toggleable__label sk-toggleable__label-arrow\">TfidfVectorizer</label><div class=\"sk-toggleable__content\"><pre>TfidfVectorizer()</pre></div></div></div><div class=\"sk-item\"><div class=\"sk-estimator sk-toggleable\"><input class=\"sk-toggleable__control sk-hidden--visually\" id=\"sk-estimator-id-8\" type=\"checkbox\" ><label for=\"sk-estimator-id-8\" class=\"sk-toggleable__label sk-toggleable__label-arrow\">DecisionTreeClassifier</label><div class=\"sk-toggleable__content\"><pre>DecisionTreeClassifier(max_depth=5, min_samples_leaf=3, min_samples_split=15,\n",
              "                       random_state=42)</pre></div></div></div></div></div></div></div>"
            ],
            "text/plain": [
              "Pipeline(steps=[('tfidf', TfidfVectorizer()),\n",
              "                ('clf',\n",
              "                 DecisionTreeClassifier(max_depth=5, min_samples_leaf=3,\n",
              "                                        min_samples_split=15,\n",
              "                                        random_state=42))])"
            ]
          },
          "execution_count": 79,
          "metadata": {},
          "output_type": "execute_result"
        }
      ],
      "source": [
        "grid_search.best_estimator_"
      ]
    },
    {
      "cell_type": "markdown",
      "source": [
        "Best values of Decision Trees Hyperparameters"
      ],
      "metadata": {
        "id": "eFOS2WltMCcu"
      }
    },
    {
      "cell_type": "code",
      "execution_count": null,
      "metadata": {
        "colab": {
          "base_uri": "https://localhost:8080/"
        },
        "id": "3nfDrhAPEpc2",
        "outputId": "37e01f2a-50f4-4b4a-a744-1a37a05077b2"
      },
      "outputs": [
        {
          "data": {
            "text/plain": [
              "{'clf__max_depth': 5, 'clf__min_samples_leaf': 3, 'clf__min_samples_split': 15}"
            ]
          },
          "execution_count": 81,
          "metadata": {},
          "output_type": "execute_result"
        }
      ],
      "source": [
        "grid_search.best_params_"
      ]
    },
    {
      "cell_type": "markdown",
      "metadata": {
        "id": "88K16OSG_Hu3"
      },
      "source": [
        "##Random Forest"
      ]
    },
    {
      "cell_type": "code",
      "execution_count": null,
      "metadata": {
        "colab": {
          "base_uri": "https://localhost:8080/",
          "height": 1000
        },
        "id": "tsgNOBeIwa1H",
        "outputId": "7cc927a2-9e90-43ed-cda2-f2360a35d160"
      },
      "outputs": [
        {
          "name": "stdout",
          "output_type": "stream",
          "text": [
            "Parameters:  {'clf__max_depth': 2, 'clf__min_samples_leaf': 1, 'clf__min_samples_split': 2}\n",
            "Mean accuracy on validation set:  0.6822429906542056\n",
            "Parameters:  {'clf__max_depth': 2, 'clf__min_samples_leaf': 1, 'clf__min_samples_split': 4}\n",
            "Mean accuracy on validation set:  0.6822429906542056\n",
            "Parameters:  {'clf__max_depth': 2, 'clf__min_samples_leaf': 1, 'clf__min_samples_split': 6}\n",
            "Mean accuracy on validation set:  0.6822429906542056\n",
            "Parameters:  {'clf__max_depth': 2, 'clf__min_samples_leaf': 1, 'clf__min_samples_split': 8}\n",
            "Mean accuracy on validation set:  0.6822429906542056\n",
            "Parameters:  {'clf__max_depth': 2, 'clf__min_samples_leaf': 1, 'clf__min_samples_split': 10}\n",
            "Mean accuracy on validation set:  0.6822429906542056\n",
            "Parameters:  {'clf__max_depth': 2, 'clf__min_samples_leaf': 1, 'clf__min_samples_split': 20}\n",
            "Mean accuracy on validation set:  0.6822429906542056\n",
            "Parameters:  {'clf__max_depth': 2, 'clf__min_samples_leaf': 2, 'clf__min_samples_split': 2}\n",
            "Mean accuracy on validation set:  0.6822429906542056\n",
            "Parameters:  {'clf__max_depth': 2, 'clf__min_samples_leaf': 2, 'clf__min_samples_split': 4}\n",
            "Mean accuracy on validation set:  0.6822429906542056\n",
            "Parameters:  {'clf__max_depth': 2, 'clf__min_samples_leaf': 2, 'clf__min_samples_split': 6}\n",
            "Mean accuracy on validation set:  0.6822429906542056\n",
            "Parameters:  {'clf__max_depth': 2, 'clf__min_samples_leaf': 2, 'clf__min_samples_split': 8}\n",
            "Mean accuracy on validation set:  0.6822429906542056\n",
            "Parameters:  {'clf__max_depth': 2, 'clf__min_samples_leaf': 2, 'clf__min_samples_split': 10}\n",
            "Mean accuracy on validation set:  0.6822429906542056\n",
            "Parameters:  {'clf__max_depth': 2, 'clf__min_samples_leaf': 2, 'clf__min_samples_split': 20}\n",
            "Mean accuracy on validation set:  0.6822429906542056\n",
            "Parameters:  {'clf__max_depth': 2, 'clf__min_samples_leaf': 4, 'clf__min_samples_split': 2}\n",
            "Mean accuracy on validation set:  0.6822429906542056\n",
            "Parameters:  {'clf__max_depth': 2, 'clf__min_samples_leaf': 4, 'clf__min_samples_split': 4}\n",
            "Mean accuracy on validation set:  0.6822429906542056\n",
            "Parameters:  {'clf__max_depth': 2, 'clf__min_samples_leaf': 4, 'clf__min_samples_split': 6}\n",
            "Mean accuracy on validation set:  0.6822429906542056\n",
            "Parameters:  {'clf__max_depth': 2, 'clf__min_samples_leaf': 4, 'clf__min_samples_split': 8}\n",
            "Mean accuracy on validation set:  0.6822429906542056\n",
            "Parameters:  {'clf__max_depth': 2, 'clf__min_samples_leaf': 4, 'clf__min_samples_split': 10}\n",
            "Mean accuracy on validation set:  0.6822429906542056\n",
            "Parameters:  {'clf__max_depth': 2, 'clf__min_samples_leaf': 4, 'clf__min_samples_split': 20}\n",
            "Mean accuracy on validation set:  0.6822429906542056\n",
            "Parameters:  {'clf__max_depth': 2, 'clf__min_samples_leaf': 6, 'clf__min_samples_split': 2}\n",
            "Mean accuracy on validation set:  0.6822429906542056\n",
            "Parameters:  {'clf__max_depth': 2, 'clf__min_samples_leaf': 6, 'clf__min_samples_split': 4}\n",
            "Mean accuracy on validation set:  0.6822429906542056\n",
            "Parameters:  {'clf__max_depth': 2, 'clf__min_samples_leaf': 6, 'clf__min_samples_split': 6}\n",
            "Mean accuracy on validation set:  0.6822429906542056\n",
            "Parameters:  {'clf__max_depth': 2, 'clf__min_samples_leaf': 6, 'clf__min_samples_split': 8}\n",
            "Mean accuracy on validation set:  0.6822429906542056\n",
            "Parameters:  {'clf__max_depth': 2, 'clf__min_samples_leaf': 6, 'clf__min_samples_split': 10}\n",
            "Mean accuracy on validation set:  0.6822429906542056\n",
            "Parameters:  {'clf__max_depth': 2, 'clf__min_samples_leaf': 6, 'clf__min_samples_split': 20}\n",
            "Mean accuracy on validation set:  0.6822429906542056\n",
            "Parameters:  {'clf__max_depth': 2, 'clf__min_samples_leaf': 8, 'clf__min_samples_split': 2}\n",
            "Mean accuracy on validation set:  0.6822429906542056\n",
            "Parameters:  {'clf__max_depth': 2, 'clf__min_samples_leaf': 8, 'clf__min_samples_split': 4}\n",
            "Mean accuracy on validation set:  0.6822429906542056\n",
            "Parameters:  {'clf__max_depth': 2, 'clf__min_samples_leaf': 8, 'clf__min_samples_split': 6}\n",
            "Mean accuracy on validation set:  0.6822429906542056\n",
            "Parameters:  {'clf__max_depth': 2, 'clf__min_samples_leaf': 8, 'clf__min_samples_split': 8}\n",
            "Mean accuracy on validation set:  0.6822429906542056\n",
            "Parameters:  {'clf__max_depth': 2, 'clf__min_samples_leaf': 8, 'clf__min_samples_split': 10}\n",
            "Mean accuracy on validation set:  0.6822429906542056\n",
            "Parameters:  {'clf__max_depth': 2, 'clf__min_samples_leaf': 8, 'clf__min_samples_split': 20}\n",
            "Mean accuracy on validation set:  0.6822429906542056\n",
            "Parameters:  {'clf__max_depth': 4, 'clf__min_samples_leaf': 1, 'clf__min_samples_split': 2}\n",
            "Mean accuracy on validation set:  0.6822429906542056\n",
            "Parameters:  {'clf__max_depth': 4, 'clf__min_samples_leaf': 1, 'clf__min_samples_split': 4}\n",
            "Mean accuracy on validation set:  0.6822429906542056\n",
            "Parameters:  {'clf__max_depth': 4, 'clf__min_samples_leaf': 1, 'clf__min_samples_split': 6}\n",
            "Mean accuracy on validation set:  0.6822429906542056\n",
            "Parameters:  {'clf__max_depth': 4, 'clf__min_samples_leaf': 1, 'clf__min_samples_split': 8}\n",
            "Mean accuracy on validation set:  0.6822429906542056\n",
            "Parameters:  {'clf__max_depth': 4, 'clf__min_samples_leaf': 1, 'clf__min_samples_split': 10}\n",
            "Mean accuracy on validation set:  0.6822429906542056\n",
            "Parameters:  {'clf__max_depth': 4, 'clf__min_samples_leaf': 1, 'clf__min_samples_split': 20}\n",
            "Mean accuracy on validation set:  0.6822429906542056\n",
            "Parameters:  {'clf__max_depth': 4, 'clf__min_samples_leaf': 2, 'clf__min_samples_split': 2}\n",
            "Mean accuracy on validation set:  0.6822429906542056\n",
            "Parameters:  {'clf__max_depth': 4, 'clf__min_samples_leaf': 2, 'clf__min_samples_split': 4}\n",
            "Mean accuracy on validation set:  0.6822429906542056\n",
            "Parameters:  {'clf__max_depth': 4, 'clf__min_samples_leaf': 2, 'clf__min_samples_split': 6}\n",
            "Mean accuracy on validation set:  0.6822429906542056\n",
            "Parameters:  {'clf__max_depth': 4, 'clf__min_samples_leaf': 2, 'clf__min_samples_split': 8}\n",
            "Mean accuracy on validation set:  0.6822429906542056\n",
            "Parameters:  {'clf__max_depth': 4, 'clf__min_samples_leaf': 2, 'clf__min_samples_split': 10}\n",
            "Mean accuracy on validation set:  0.6822429906542056\n",
            "Parameters:  {'clf__max_depth': 4, 'clf__min_samples_leaf': 2, 'clf__min_samples_split': 20}\n",
            "Mean accuracy on validation set:  0.6822429906542056\n",
            "Parameters:  {'clf__max_depth': 4, 'clf__min_samples_leaf': 4, 'clf__min_samples_split': 2}\n",
            "Mean accuracy on validation set:  0.6822429906542056\n",
            "Parameters:  {'clf__max_depth': 4, 'clf__min_samples_leaf': 4, 'clf__min_samples_split': 4}\n",
            "Mean accuracy on validation set:  0.6822429906542056\n",
            "Parameters:  {'clf__max_depth': 4, 'clf__min_samples_leaf': 4, 'clf__min_samples_split': 6}\n",
            "Mean accuracy on validation set:  0.6822429906542056\n",
            "Parameters:  {'clf__max_depth': 4, 'clf__min_samples_leaf': 4, 'clf__min_samples_split': 8}\n",
            "Mean accuracy on validation set:  0.6822429906542056\n",
            "Parameters:  {'clf__max_depth': 4, 'clf__min_samples_leaf': 4, 'clf__min_samples_split': 10}\n",
            "Mean accuracy on validation set:  0.6822429906542056\n",
            "Parameters:  {'clf__max_depth': 4, 'clf__min_samples_leaf': 4, 'clf__min_samples_split': 20}\n",
            "Mean accuracy on validation set:  0.6822429906542056\n",
            "Parameters:  {'clf__max_depth': 4, 'clf__min_samples_leaf': 6, 'clf__min_samples_split': 2}\n",
            "Mean accuracy on validation set:  0.6822429906542056\n",
            "Parameters:  {'clf__max_depth': 4, 'clf__min_samples_leaf': 6, 'clf__min_samples_split': 4}\n",
            "Mean accuracy on validation set:  0.6822429906542056\n",
            "Parameters:  {'clf__max_depth': 4, 'clf__min_samples_leaf': 6, 'clf__min_samples_split': 6}\n",
            "Mean accuracy on validation set:  0.6822429906542056\n",
            "Parameters:  {'clf__max_depth': 4, 'clf__min_samples_leaf': 6, 'clf__min_samples_split': 8}\n",
            "Mean accuracy on validation set:  0.6822429906542056\n",
            "Parameters:  {'clf__max_depth': 4, 'clf__min_samples_leaf': 6, 'clf__min_samples_split': 10}\n",
            "Mean accuracy on validation set:  0.6822429906542056\n",
            "Parameters:  {'clf__max_depth': 4, 'clf__min_samples_leaf': 6, 'clf__min_samples_split': 20}\n",
            "Mean accuracy on validation set:  0.6822429906542056\n",
            "Parameters:  {'clf__max_depth': 4, 'clf__min_samples_leaf': 8, 'clf__min_samples_split': 2}\n",
            "Mean accuracy on validation set:  0.6822429906542056\n",
            "Parameters:  {'clf__max_depth': 4, 'clf__min_samples_leaf': 8, 'clf__min_samples_split': 4}\n",
            "Mean accuracy on validation set:  0.6822429906542056\n",
            "Parameters:  {'clf__max_depth': 4, 'clf__min_samples_leaf': 8, 'clf__min_samples_split': 6}\n",
            "Mean accuracy on validation set:  0.6822429906542056\n",
            "Parameters:  {'clf__max_depth': 4, 'clf__min_samples_leaf': 8, 'clf__min_samples_split': 8}\n",
            "Mean accuracy on validation set:  0.6822429906542056\n",
            "Parameters:  {'clf__max_depth': 4, 'clf__min_samples_leaf': 8, 'clf__min_samples_split': 10}\n",
            "Mean accuracy on validation set:  0.6822429906542056\n",
            "Parameters:  {'clf__max_depth': 4, 'clf__min_samples_leaf': 8, 'clf__min_samples_split': 20}\n",
            "Mean accuracy on validation set:  0.6822429906542056\n",
            "Parameters:  {'clf__max_depth': 6, 'clf__min_samples_leaf': 1, 'clf__min_samples_split': 2}\n",
            "Mean accuracy on validation set:  0.6857476635514019\n",
            "Parameters:  {'clf__max_depth': 6, 'clf__min_samples_leaf': 1, 'clf__min_samples_split': 4}\n",
            "Mean accuracy on validation set:  0.685981308411215\n",
            "Parameters:  {'clf__max_depth': 6, 'clf__min_samples_leaf': 1, 'clf__min_samples_split': 6}\n",
            "Mean accuracy on validation set:  0.685981308411215\n",
            "Parameters:  {'clf__max_depth': 6, 'clf__min_samples_leaf': 1, 'clf__min_samples_split': 8}\n",
            "Mean accuracy on validation set:  0.686214953271028\n",
            "Parameters:  {'clf__max_depth': 6, 'clf__min_samples_leaf': 1, 'clf__min_samples_split': 10}\n",
            "Mean accuracy on validation set:  0.6855140186915888\n",
            "Parameters:  {'clf__max_depth': 6, 'clf__min_samples_leaf': 1, 'clf__min_samples_split': 20}\n",
            "Mean accuracy on validation set:  0.6857476635514019\n",
            "Parameters:  {'clf__max_depth': 6, 'clf__min_samples_leaf': 2, 'clf__min_samples_split': 2}\n",
            "Mean accuracy on validation set:  0.6850467289719626\n",
            "Parameters:  {'clf__max_depth': 6, 'clf__min_samples_leaf': 2, 'clf__min_samples_split': 4}\n",
            "Mean accuracy on validation set:  0.6850467289719626\n",
            "Parameters:  {'clf__max_depth': 6, 'clf__min_samples_leaf': 2, 'clf__min_samples_split': 6}\n",
            "Mean accuracy on validation set:  0.6850467289719626\n",
            "Parameters:  {'clf__max_depth': 6, 'clf__min_samples_leaf': 2, 'clf__min_samples_split': 8}\n",
            "Mean accuracy on validation set:  0.6850467289719626\n",
            "Parameters:  {'clf__max_depth': 6, 'clf__min_samples_leaf': 2, 'clf__min_samples_split': 10}\n",
            "Mean accuracy on validation set:  0.6857476635514018\n",
            "Parameters:  {'clf__max_depth': 6, 'clf__min_samples_leaf': 2, 'clf__min_samples_split': 20}\n",
            "Mean accuracy on validation set:  0.6855140186915888\n",
            "Parameters:  {'clf__max_depth': 6, 'clf__min_samples_leaf': 4, 'clf__min_samples_split': 2}\n",
            "Mean accuracy on validation set:  0.6843457943925233\n",
            "Parameters:  {'clf__max_depth': 6, 'clf__min_samples_leaf': 4, 'clf__min_samples_split': 4}\n",
            "Mean accuracy on validation set:  0.6843457943925233\n",
            "Parameters:  {'clf__max_depth': 6, 'clf__min_samples_leaf': 4, 'clf__min_samples_split': 6}\n",
            "Mean accuracy on validation set:  0.6843457943925233\n",
            "Parameters:  {'clf__max_depth': 6, 'clf__min_samples_leaf': 4, 'clf__min_samples_split': 8}\n",
            "Mean accuracy on validation set:  0.6843457943925233\n",
            "Parameters:  {'clf__max_depth': 6, 'clf__min_samples_leaf': 4, 'clf__min_samples_split': 10}\n",
            "Mean accuracy on validation set:  0.6845794392523363\n",
            "Parameters:  {'clf__max_depth': 6, 'clf__min_samples_leaf': 4, 'clf__min_samples_split': 20}\n",
            "Mean accuracy on validation set:  0.6852803738317756\n",
            "Parameters:  {'clf__max_depth': 6, 'clf__min_samples_leaf': 6, 'clf__min_samples_split': 2}\n",
            "Mean accuracy on validation set:  0.6843457943925233\n",
            "Parameters:  {'clf__max_depth': 6, 'clf__min_samples_leaf': 6, 'clf__min_samples_split': 4}\n",
            "Mean accuracy on validation set:  0.6843457943925233\n",
            "Parameters:  {'clf__max_depth': 6, 'clf__min_samples_leaf': 6, 'clf__min_samples_split': 6}\n",
            "Mean accuracy on validation set:  0.6843457943925233\n",
            "Parameters:  {'clf__max_depth': 6, 'clf__min_samples_leaf': 6, 'clf__min_samples_split': 8}\n",
            "Mean accuracy on validation set:  0.6843457943925233\n",
            "Parameters:  {'clf__max_depth': 6, 'clf__min_samples_leaf': 6, 'clf__min_samples_split': 10}\n",
            "Mean accuracy on validation set:  0.6843457943925233\n",
            "Parameters:  {'clf__max_depth': 6, 'clf__min_samples_leaf': 6, 'clf__min_samples_split': 20}\n",
            "Mean accuracy on validation set:  0.6855140186915887\n",
            "Parameters:  {'clf__max_depth': 6, 'clf__min_samples_leaf': 8, 'clf__min_samples_split': 2}\n",
            "Mean accuracy on validation set:  0.6843457943925233\n",
            "Parameters:  {'clf__max_depth': 6, 'clf__min_samples_leaf': 8, 'clf__min_samples_split': 4}\n",
            "Mean accuracy on validation set:  0.6843457943925233\n",
            "Parameters:  {'clf__max_depth': 6, 'clf__min_samples_leaf': 8, 'clf__min_samples_split': 6}\n",
            "Mean accuracy on validation set:  0.6843457943925233\n",
            "Parameters:  {'clf__max_depth': 6, 'clf__min_samples_leaf': 8, 'clf__min_samples_split': 8}\n",
            "Mean accuracy on validation set:  0.6843457943925233\n",
            "Parameters:  {'clf__max_depth': 6, 'clf__min_samples_leaf': 8, 'clf__min_samples_split': 10}\n",
            "Mean accuracy on validation set:  0.6843457943925233\n",
            "Parameters:  {'clf__max_depth': 6, 'clf__min_samples_leaf': 8, 'clf__min_samples_split': 20}\n",
            "Mean accuracy on validation set:  0.6841121495327103\n",
            "Parameters:  {'clf__max_depth': 8, 'clf__min_samples_leaf': 1, 'clf__min_samples_split': 2}\n",
            "Mean accuracy on validation set:  0.6985981308411214\n",
            "Parameters:  {'clf__max_depth': 8, 'clf__min_samples_leaf': 1, 'clf__min_samples_split': 4}\n",
            "Mean accuracy on validation set:  0.7007009345794393\n",
            "Parameters:  {'clf__max_depth': 8, 'clf__min_samples_leaf': 1, 'clf__min_samples_split': 6}\n",
            "Mean accuracy on validation set:  0.7023364485981308\n",
            "Parameters:  {'clf__max_depth': 8, 'clf__min_samples_leaf': 1, 'clf__min_samples_split': 8}\n",
            "Mean accuracy on validation set:  0.7009345794392523\n",
            "Parameters:  {'clf__max_depth': 8, 'clf__min_samples_leaf': 1, 'clf__min_samples_split': 10}\n",
            "Mean accuracy on validation set:  0.6992990654205608\n",
            "Parameters:  {'clf__max_depth': 8, 'clf__min_samples_leaf': 1, 'clf__min_samples_split': 20}\n",
            "Mean accuracy on validation set:  0.6995327102803739\n",
            "Parameters:  {'clf__max_depth': 8, 'clf__min_samples_leaf': 2, 'clf__min_samples_split': 2}\n",
            "Mean accuracy on validation set:  0.6964953271028037\n",
            "Parameters:  {'clf__max_depth': 8, 'clf__min_samples_leaf': 2, 'clf__min_samples_split': 4}\n",
            "Mean accuracy on validation set:  0.6964953271028037\n",
            "Parameters:  {'clf__max_depth': 8, 'clf__min_samples_leaf': 2, 'clf__min_samples_split': 6}\n",
            "Mean accuracy on validation set:  0.6957943925233645\n",
            "Parameters:  {'clf__max_depth': 8, 'clf__min_samples_leaf': 2, 'clf__min_samples_split': 8}\n",
            "Mean accuracy on validation set:  0.6969626168224299\n",
            "Parameters:  {'clf__max_depth': 8, 'clf__min_samples_leaf': 2, 'clf__min_samples_split': 10}\n",
            "Mean accuracy on validation set:  0.6985981308411215\n",
            "Parameters:  {'clf__max_depth': 8, 'clf__min_samples_leaf': 2, 'clf__min_samples_split': 20}\n",
            "Mean accuracy on validation set:  0.6967289719626168\n",
            "Parameters:  {'clf__max_depth': 8, 'clf__min_samples_leaf': 4, 'clf__min_samples_split': 2}\n",
            "Mean accuracy on validation set:  0.6964953271028037\n",
            "Parameters:  {'clf__max_depth': 8, 'clf__min_samples_leaf': 4, 'clf__min_samples_split': 4}\n",
            "Mean accuracy on validation set:  0.6964953271028037\n",
            "Parameters:  {'clf__max_depth': 8, 'clf__min_samples_leaf': 4, 'clf__min_samples_split': 6}\n",
            "Mean accuracy on validation set:  0.6964953271028037\n",
            "Parameters:  {'clf__max_depth': 8, 'clf__min_samples_leaf': 4, 'clf__min_samples_split': 8}\n",
            "Mean accuracy on validation set:  0.6964953271028037\n",
            "Parameters:  {'clf__max_depth': 8, 'clf__min_samples_leaf': 4, 'clf__min_samples_split': 10}\n",
            "Mean accuracy on validation set:  0.6957943925233644\n",
            "Parameters:  {'clf__max_depth': 8, 'clf__min_samples_leaf': 4, 'clf__min_samples_split': 20}\n",
            "Mean accuracy on validation set:  0.6955607476635514\n",
            "Parameters:  {'clf__max_depth': 8, 'clf__min_samples_leaf': 6, 'clf__min_samples_split': 2}\n",
            "Mean accuracy on validation set:  0.6953271028037383\n",
            "Parameters:  {'clf__max_depth': 8, 'clf__min_samples_leaf': 6, 'clf__min_samples_split': 4}\n",
            "Mean accuracy on validation set:  0.6953271028037383\n",
            "Parameters:  {'clf__max_depth': 8, 'clf__min_samples_leaf': 6, 'clf__min_samples_split': 6}\n",
            "Mean accuracy on validation set:  0.6953271028037383\n",
            "Parameters:  {'clf__max_depth': 8, 'clf__min_samples_leaf': 6, 'clf__min_samples_split': 8}\n",
            "Mean accuracy on validation set:  0.6953271028037383\n",
            "Parameters:  {'clf__max_depth': 8, 'clf__min_samples_leaf': 6, 'clf__min_samples_split': 10}\n",
            "Mean accuracy on validation set:  0.6953271028037383\n",
            "Parameters:  {'clf__max_depth': 8, 'clf__min_samples_leaf': 6, 'clf__min_samples_split': 20}\n",
            "Mean accuracy on validation set:  0.6932242990654206\n",
            "Parameters:  {'clf__max_depth': 8, 'clf__min_samples_leaf': 8, 'clf__min_samples_split': 2}\n",
            "Mean accuracy on validation set:  0.6929906542056075\n",
            "Parameters:  {'clf__max_depth': 8, 'clf__min_samples_leaf': 8, 'clf__min_samples_split': 4}\n",
            "Mean accuracy on validation set:  0.6929906542056075\n",
            "Parameters:  {'clf__max_depth': 8, 'clf__min_samples_leaf': 8, 'clf__min_samples_split': 6}\n",
            "Mean accuracy on validation set:  0.6929906542056075\n",
            "Parameters:  {'clf__max_depth': 8, 'clf__min_samples_leaf': 8, 'clf__min_samples_split': 8}\n",
            "Mean accuracy on validation set:  0.6929906542056075\n",
            "Parameters:  {'clf__max_depth': 8, 'clf__min_samples_leaf': 8, 'clf__min_samples_split': 10}\n",
            "Mean accuracy on validation set:  0.6929906542056075\n",
            "Parameters:  {'clf__max_depth': 8, 'clf__min_samples_leaf': 8, 'clf__min_samples_split': 20}\n",
            "Mean accuracy on validation set:  0.6922897196261683\n",
            "Parameters:  {'clf__max_depth': 10, 'clf__min_samples_leaf': 1, 'clf__min_samples_split': 2}\n",
            "Mean accuracy on validation set:  0.7203271028037384\n",
            "Parameters:  {'clf__max_depth': 10, 'clf__min_samples_leaf': 1, 'clf__min_samples_split': 4}\n",
            "Mean accuracy on validation set:  0.7172897196261683\n",
            "Parameters:  {'clf__max_depth': 10, 'clf__min_samples_leaf': 1, 'clf__min_samples_split': 6}\n",
            "Mean accuracy on validation set:  0.7182242990654206\n",
            "Parameters:  {'clf__max_depth': 10, 'clf__min_samples_leaf': 1, 'clf__min_samples_split': 8}\n",
            "Mean accuracy on validation set:  0.7212616822429907\n",
            "Parameters:  {'clf__max_depth': 10, 'clf__min_samples_leaf': 1, 'clf__min_samples_split': 10}\n",
            "Mean accuracy on validation set:  0.7200934579439251\n",
            "Parameters:  {'clf__max_depth': 10, 'clf__min_samples_leaf': 1, 'clf__min_samples_split': 20}\n",
            "Mean accuracy on validation set:  0.719158878504673\n",
            "Parameters:  {'clf__max_depth': 10, 'clf__min_samples_leaf': 2, 'clf__min_samples_split': 2}\n",
            "Mean accuracy on validation set:  0.7140186915887851\n",
            "Parameters:  {'clf__max_depth': 10, 'clf__min_samples_leaf': 2, 'clf__min_samples_split': 4}\n",
            "Mean accuracy on validation set:  0.7140186915887851\n",
            "Parameters:  {'clf__max_depth': 10, 'clf__min_samples_leaf': 2, 'clf__min_samples_split': 6}\n",
            "Mean accuracy on validation set:  0.7154205607476636\n",
            "Parameters:  {'clf__max_depth': 10, 'clf__min_samples_leaf': 2, 'clf__min_samples_split': 8}\n",
            "Mean accuracy on validation set:  0.7135514018691589\n",
            "Parameters:  {'clf__max_depth': 10, 'clf__min_samples_leaf': 2, 'clf__min_samples_split': 10}\n",
            "Mean accuracy on validation set:  0.7133177570093457\n",
            "Parameters:  {'clf__max_depth': 10, 'clf__min_samples_leaf': 2, 'clf__min_samples_split': 20}\n",
            "Mean accuracy on validation set:  0.7130841121495326\n",
            "Parameters:  {'clf__max_depth': 10, 'clf__min_samples_leaf': 4, 'clf__min_samples_split': 2}\n",
            "Mean accuracy on validation set:  0.7102803738317758\n",
            "Parameters:  {'clf__max_depth': 10, 'clf__min_samples_leaf': 4, 'clf__min_samples_split': 4}\n",
            "Mean accuracy on validation set:  0.7102803738317758\n",
            "Parameters:  {'clf__max_depth': 10, 'clf__min_samples_leaf': 4, 'clf__min_samples_split': 6}\n",
            "Mean accuracy on validation set:  0.7102803738317758\n",
            "Parameters:  {'clf__max_depth': 10, 'clf__min_samples_leaf': 4, 'clf__min_samples_split': 8}\n",
            "Mean accuracy on validation set:  0.7102803738317758\n",
            "Parameters:  {'clf__max_depth': 10, 'clf__min_samples_leaf': 4, 'clf__min_samples_split': 10}\n",
            "Mean accuracy on validation set:  0.7109813084112149\n",
            "Parameters:  {'clf__max_depth': 10, 'clf__min_samples_leaf': 4, 'clf__min_samples_split': 20}\n",
            "Mean accuracy on validation set:  0.7126168224299065\n",
            "Parameters:  {'clf__max_depth': 10, 'clf__min_samples_leaf': 6, 'clf__min_samples_split': 2}\n",
            "Mean accuracy on validation set:  0.7088785046728971\n",
            "Parameters:  {'clf__max_depth': 10, 'clf__min_samples_leaf': 6, 'clf__min_samples_split': 4}\n",
            "Mean accuracy on validation set:  0.7088785046728971\n",
            "Parameters:  {'clf__max_depth': 10, 'clf__min_samples_leaf': 6, 'clf__min_samples_split': 6}\n",
            "Mean accuracy on validation set:  0.7088785046728971\n",
            "Parameters:  {'clf__max_depth': 10, 'clf__min_samples_leaf': 6, 'clf__min_samples_split': 8}\n",
            "Mean accuracy on validation set:  0.7088785046728971\n",
            "Parameters:  {'clf__max_depth': 10, 'clf__min_samples_leaf': 6, 'clf__min_samples_split': 10}\n",
            "Mean accuracy on validation set:  0.7088785046728971\n",
            "Parameters:  {'clf__max_depth': 10, 'clf__min_samples_leaf': 6, 'clf__min_samples_split': 20}\n",
            "Mean accuracy on validation set:  0.7077102803738318\n",
            "Parameters:  {'clf__max_depth': 10, 'clf__min_samples_leaf': 8, 'clf__min_samples_split': 2}\n",
            "Mean accuracy on validation set:  0.7077102803738318\n",
            "Parameters:  {'clf__max_depth': 10, 'clf__min_samples_leaf': 8, 'clf__min_samples_split': 4}\n",
            "Mean accuracy on validation set:  0.7077102803738318\n",
            "Parameters:  {'clf__max_depth': 10, 'clf__min_samples_leaf': 8, 'clf__min_samples_split': 6}\n",
            "Mean accuracy on validation set:  0.7077102803738318\n",
            "Parameters:  {'clf__max_depth': 10, 'clf__min_samples_leaf': 8, 'clf__min_samples_split': 8}\n",
            "Mean accuracy on validation set:  0.7077102803738318\n",
            "Parameters:  {'clf__max_depth': 10, 'clf__min_samples_leaf': 8, 'clf__min_samples_split': 10}\n",
            "Mean accuracy on validation set:  0.7077102803738318\n",
            "Parameters:  {'clf__max_depth': 10, 'clf__min_samples_leaf': 8, 'clf__min_samples_split': 20}\n",
            "Mean accuracy on validation set:  0.7049065420560748\n",
            "Best Parameters: {'clf__max_depth': 10, 'clf__min_samples_leaf': 1, 'clf__min_samples_split': 8}\n",
            "Test Accuracy: 0.7355\n",
            "              precision    recall  f1-score   support\n",
            "\n",
            "           0       0.94      0.14      0.25       326\n",
            "           1       0.73      1.00      0.84       744\n",
            "\n",
            "    accuracy                           0.74      1070\n",
            "   macro avg       0.83      0.57      0.54      1070\n",
            "weighted avg       0.79      0.74      0.66      1070\n",
            "\n"
          ]
        },
        {
          "data": {
            "image/png": "[encoded data removed]",
            "text/plain": [
              "<Figure size 640x480 with 2 Axes>"
            ]
          },
          "metadata": {},
          "output_type": "display_data"
        }
      ],
      "source": [
        "from sklearn.ensemble import RandomForestClassifier\n",
        "\n",
        "#pipeline for feature extraction using Tfidf and random forest model\n",
        "pipeline = Pipeline([\n",
        "    ('tfidf', TfidfVectorizer()),\n",
        "    ('clf', RandomForestClassifier(random_state=42))\n",
        "])\n",
        "\n",
        "#hyperparameters to tune\n",
        "params = {\n",
        "    'clf__max_depth': [2, 4, 6, 8, 10],\n",
        "    'clf__min_samples_split': [2, 4, 6, 8, 10,20],\n",
        "    'clf__min_samples_leaf': [1, 2, 4, 6, 8]\n",
        "}\n",
        "\n",
        "# Split the data into training and test sets\n",
        "X_val_train, X_test, y_val_train, y_test = train_test_split(X, y, test_size=0.2)\n",
        "\n",
        "# Use GridSearchCV to tune hyperparameters and select the best model\n",
        "grid_search = GridSearchCV(pipeline, params, cv=4)\n",
        "grid_search.fit(X_val_train, y_val_train)\n",
        "\n",
        "#results of the grid search\n",
        "results = grid_search.cv_results_\n",
        "\n",
        "# Print the performance for each set of hyperparameters\n",
        "for i in range(len(results['params'])):\n",
        "    print(\"Parameters: \", results['params'][i])\n",
        "    print(\"Mean accuracy on validation set: \", results['mean_test_score'][i])\n",
        "\n",
        "best_model = grid_search.best_estimator_\n",
        "best_params = grid_search.best_params_\n",
        "\n",
        "# Evaluate the final model on the test set\n",
        "y_pred = best_model.predict(X_test)\n",
        "accuracy = accuracy_score(y_test, y_pred)\n",
        "\n",
        "print(f'Best Parameters: {best_params}')\n",
        "print(f'Test Accuracy: {accuracy:.4f}')\n",
        "CMD.from_predictions(y_test,y_pred)\n",
        "print(CR(y_test,y_pred))"
      ]
    },
    {
      "cell_type": "code",
      "execution_count": null,
      "metadata": {
        "colab": {
          "base_uri": "https://localhost:8080/"
        },
        "id": "agUHq4hR0QLU",
        "outputId": "a5c0b821-81e0-40ba-b11d-df3e8f76236b"
      },
      "outputs": [
        {
          "name": "stdout",
          "output_type": "stream",
          "text": [
            "0.7691588785046729\n",
            "0.7355140186915888\n",
            "{'clf__max_depth': 10, 'clf__min_samples_leaf': 1, 'clf__min_samples_split': 8}\n"
          ]
        }
      ],
      "source": [
        "print(grid_search.score(X_val_train,y_val_train))\n",
        "print(grid_search.score(X_test,y_test))\n",
        "print(grid_search.best_params_)"
      ]
    },
    {
      "cell_type": "code",
      "execution_count": null,
      "metadata": {
        "colab": {
          "base_uri": "https://localhost:8080/",
          "height": 148
        },
        "id": "40W9AFsu0ghk",
        "outputId": "46328177-2af2-4c53-8b13-797e36cabb7b"
      },
      "outputs": [
        {
          "data": {
            "text/html": [
              "<style>#sk-container-id-5 {color: black;background-color: white;}#sk-container-id-5 pre{padding: 0;}#sk-container-id-5 div.sk-toggleable {background-color: white;}#sk-container-id-5 label.sk-toggleable__label {cursor: pointer;display: block;width: 100%;margin-bottom: 0;padding: 0.3em;box-sizing: border-box;text-align: center;}#sk-container-id-5 label.sk-toggleable__label-arrow:before {content: \"▸\";float: left;margin-right: 0.25em;color: #696969;}#sk-container-id-5 label.sk-toggleable__label-arrow:hover:before {color: black;}#sk-container-id-5 div.sk-estimator:hover label.sk-toggleable__label-arrow:before {color: black;}#sk-container-id-5 div.sk-toggleable__content {max-height: 0;max-width: 0;overflow: hidden;text-align: left;background-color: #f0f8ff;}#sk-container-id-5 div.sk-toggleable__content pre {margin: 0.2em;color: black;border-radius: 0.25em;background-color: #f0f8ff;}#sk-container-id-5 input.sk-toggleable__control:checked~div.sk-toggleable__content {max-height: 200px;max-width: 100%;overflow: auto;}#sk-container-id-5 input.sk-toggleable__control:checked~label.sk-toggleable__label-arrow:before {content: \"▾\";}#sk-container-id-5 div.sk-estimator input.sk-toggleable__control:checked~label.sk-toggleable__label {background-color: #d4ebff;}#sk-container-id-5 div.sk-label input.sk-toggleable__control:checked~label.sk-toggleable__label {background-color: #d4ebff;}#sk-container-id-5 input.sk-hidden--visually {border: 0;clip: rect(1px 1px 1px 1px);clip: rect(1px, 1px, 1px, 1px);height: 1px;margin: -1px;overflow: hidden;padding: 0;position: absolute;width: 1px;}#sk-container-id-5 div.sk-estimator {font-family: monospace;background-color: #f0f8ff;border: 1px dotted black;border-radius: 0.25em;box-sizing: border-box;margin-bottom: 0.5em;}#sk-container-id-5 div.sk-estimator:hover {background-color: #d4ebff;}#sk-container-id-5 div.sk-parallel-item::after {content: \"\";width: 100%;border-bottom: 1px solid gray;flex-grow: 1;}#sk-container-id-5 div.sk-label:hover label.sk-toggleable__label {background-color: #d4ebff;}#sk-container-id-5 div.sk-serial::before {content: \"\";position: absolute;border-left: 1px solid gray;box-sizing: border-box;top: 0;bottom: 0;left: 50%;z-index: 0;}#sk-container-id-5 div.sk-serial {display: flex;flex-direction: column;align-items: center;background-color: white;padding-right: 0.2em;padding-left: 0.2em;position: relative;}#sk-container-id-5 div.sk-item {position: relative;z-index: 1;}#sk-container-id-5 div.sk-parallel {display: flex;align-items: stretch;justify-content: center;background-color: white;position: relative;}#sk-container-id-5 div.sk-item::before, #sk-container-id-5 div.sk-parallel-item::before {content: \"\";position: absolute;border-left: 1px solid gray;box-sizing: border-box;top: 0;bottom: 0;left: 50%;z-index: -1;}#sk-container-id-5 div.sk-parallel-item {display: flex;flex-direction: column;z-index: 1;position: relative;background-color: white;}#sk-container-id-5 div.sk-parallel-item:first-child::after {align-self: flex-end;width: 50%;}#sk-container-id-5 div.sk-parallel-item:last-child::after {align-self: flex-start;width: 50%;}#sk-container-id-5 div.sk-parallel-item:only-child::after {width: 0;}#sk-container-id-5 div.sk-dashed-wrapped {border: 1px dashed gray;margin: 0 0.4em 0.5em 0.4em;box-sizing: border-box;padding-bottom: 0.4em;background-color: white;}#sk-container-id-5 div.sk-label label {font-family: monospace;font-weight: bold;display: inline-block;line-height: 1.2em;}#sk-container-id-5 div.sk-label-container {text-align: center;}#sk-container-id-5 div.sk-container {/* jupyter's `normalize.less` sets `[hidden] { display: none; }` but bootstrap.min.css set `[hidden] { display: none !important; }` so we also need the `!important` here to be able to override the default hidden behavior on the sphinx rendered scikit-learn.org. See: https://github.com/scikit-learn/scikit-learn/issues/21755 */display: inline-block !important;position: relative;}#sk-container-id-5 div.sk-text-repr-fallback {display: none;}</style><div id=\"sk-container-id-5\" class=\"sk-top-container\"><div class=\"sk-text-repr-fallback\"><pre>Pipeline(steps=[(&#x27;tfidf&#x27;, TfidfVectorizer()),\n",
              "                (&#x27;clf&#x27;,\n",
              "                 RandomForestClassifier(max_depth=10, min_samples_split=8,\n",
              "                                        random_state=42))])</pre><b>In a Jupyter environment, please rerun this cell to show the HTML representation or trust the notebook. <br />On GitHub, the HTML representation is unable to render, please try loading this page with nbviewer.org.</b></div><div class=\"sk-container\" hidden><div class=\"sk-item sk-dashed-wrapped\"><div class=\"sk-label-container\"><div class=\"sk-label sk-toggleable\"><input class=\"sk-toggleable__control sk-hidden--visually\" id=\"sk-estimator-id-9\" type=\"checkbox\" ><label for=\"sk-estimator-id-9\" class=\"sk-toggleable__label sk-toggleable__label-arrow\">Pipeline</label><div class=\"sk-toggleable__content\"><pre>Pipeline(steps=[(&#x27;tfidf&#x27;, TfidfVectorizer()),\n",
              "                (&#x27;clf&#x27;,\n",
              "                 RandomForestClassifier(max_depth=10, min_samples_split=8,\n",
              "                                        random_state=42))])</pre></div></div></div><div class=\"sk-serial\"><div class=\"sk-item\"><div class=\"sk-estimator sk-toggleable\"><input class=\"sk-toggleable__control sk-hidden--visually\" id=\"sk-estimator-id-10\" type=\"checkbox\" ><label for=\"sk-estimator-id-10\" class=\"sk-toggleable__label sk-toggleable__label-arrow\">TfidfVectorizer</label><div class=\"sk-toggleable__content\"><pre>TfidfVectorizer()</pre></div></div></div><div class=\"sk-item\"><div class=\"sk-estimator sk-toggleable\"><input class=\"sk-toggleable__control sk-hidden--visually\" id=\"sk-estimator-id-11\" type=\"checkbox\" ><label for=\"sk-estimator-id-11\" class=\"sk-toggleable__label sk-toggleable__label-arrow\">RandomForestClassifier</label><div class=\"sk-toggleable__content\"><pre>RandomForestClassifier(max_depth=10, min_samples_split=8, random_state=42)</pre></div></div></div></div></div></div></div>"
            ],
            "text/plain": [
              "Pipeline(steps=[('tfidf', TfidfVectorizer()),\n",
              "                ('clf',\n",
              "                 RandomForestClassifier(max_depth=10, min_samples_split=8,\n",
              "                                        random_state=42))])"
            ]
          },
          "execution_count": 87,
          "metadata": {},
          "output_type": "execute_result"
        }
      ],
      "source": [
        "grid_search.best_estimator_"
      ]
    },
    {
      "cell_type": "markdown",
      "metadata": {
        "id": "IdvBGAuwCDRs"
      },
      "source": [
        "##Logistic Regression"
      ]
    },
    {
      "cell_type": "markdown",
      "source": [
        "Training with different set of hyperparameters"
      ],
      "metadata": {
        "id": "QiMmPkAXM4LT"
      }
    },
    {
      "cell_type": "code",
      "execution_count": null,
      "metadata": {
        "id": "-UEmLocZKvuq"
      },
      "outputs": [],
      "source": [
        "from sklearn.linear_model import LogisticRegression\n",
        "\n",
        "#pipeline for feature extraction using Tfidf and logistic regression model\n",
        "pipeline = Pipeline([\n",
        "    ('tfidf', TfidfVectorizer()),\n",
        "    ('clf', LogisticRegression(random_state=42))\n",
        "])\n",
        "\n",
        "#hyperparameters to tune\n",
        "params = {\n",
        "    'clf__C': [ 0.01, 0.1, 1, 5, 8, 10],\n",
        "    'clf__penalty': ['l1', 'l2'],\n",
        "    'clf__solver': ['liblinear', 'saga']\n",
        "}\n",
        "\n",
        "# Split the data into training and test sets\n",
        "X_val_train, X_test, y_val_train, y_test = train_test_split(X, y, test_size=0.2)\n",
        "\n",
        "# Use GridSearchCV to tune hyperparameters and select the best model\n",
        "grid_search = GridSearchCV(pipeline, params, cv=4,error_score=0)\n",
        "grid_search.fit(X_val_train, y_val_train)"
      ]
    },
    {
      "cell_type": "markdown",
      "source": [
        "Validation performance comparison for hyperparameters"
      ],
      "metadata": {
        "id": "5fCVL3LzM9OI"
      }
    },
    {
      "cell_type": "code",
      "execution_count": null,
      "metadata": {
        "colab": {
          "base_uri": "https://localhost:8080/"
        },
        "id": "W_O3UdvcNU_Q",
        "outputId": "cec0bde6-a55a-43e5-ab6f-d29751883c4f"
      },
      "outputs": [
        {
          "name": "stdout",
          "output_type": "stream",
          "text": [
            "Parameters:  {'clf__C': 0.01, 'clf__penalty': 'l1', 'clf__solver': 'liblinear'}\n",
            "Mean accuracy on validation set:  0.6855140186915887\n",
            "Parameters:  {'clf__C': 0.01, 'clf__penalty': 'l1', 'clf__solver': 'saga'}\n",
            "Mean accuracy on validation set:  0.6855140186915887\n",
            "Parameters:  {'clf__C': 0.01, 'clf__penalty': 'l2', 'clf__solver': 'liblinear'}\n",
            "Mean accuracy on validation set:  0.6855140186915887\n",
            "Parameters:  {'clf__C': 0.01, 'clf__penalty': 'l2', 'clf__solver': 'saga'}\n",
            "Mean accuracy on validation set:  0.6855140186915887\n",
            "Parameters:  {'clf__C': 0.1, 'clf__penalty': 'l1', 'clf__solver': 'liblinear'}\n",
            "Mean accuracy on validation set:  0.6855140186915887\n",
            "Parameters:  {'clf__C': 0.1, 'clf__penalty': 'l1', 'clf__solver': 'saga'}\n",
            "Mean accuracy on validation set:  0.6855140186915887\n",
            "Parameters:  {'clf__C': 0.1, 'clf__penalty': 'l2', 'clf__solver': 'liblinear'}\n",
            "Mean accuracy on validation set:  0.6855140186915887\n",
            "Parameters:  {'clf__C': 0.1, 'clf__penalty': 'l2', 'clf__solver': 'saga'}\n",
            "Mean accuracy on validation set:  0.6855140186915887\n",
            "Parameters:  {'clf__C': 1, 'clf__penalty': 'l1', 'clf__solver': 'liblinear'}\n",
            "Mean accuracy on validation set:  0.7892523364485982\n",
            "Parameters:  {'clf__C': 1, 'clf__penalty': 'l1', 'clf__solver': 'saga'}\n",
            "Mean accuracy on validation set:  0.7904205607476635\n",
            "Parameters:  {'clf__C': 1, 'clf__penalty': 'l2', 'clf__solver': 'liblinear'}\n",
            "Mean accuracy on validation set:  0.8077102803738317\n",
            "Parameters:  {'clf__C': 1, 'clf__penalty': 'l2', 'clf__solver': 'saga'}\n",
            "Mean accuracy on validation set:  0.8077102803738317\n",
            "Parameters:  {'clf__C': 5, 'clf__penalty': 'l1', 'clf__solver': 'liblinear'}\n",
            "Mean accuracy on validation set:  0.830607476635514\n",
            "Parameters:  {'clf__C': 5, 'clf__penalty': 'l1', 'clf__solver': 'saga'}\n",
            "Mean accuracy on validation set:  0.8317757009345794\n",
            "Parameters:  {'clf__C': 5, 'clf__penalty': 'l2', 'clf__solver': 'liblinear'}\n",
            "Mean accuracy on validation set:  0.8313084112149534\n",
            "Parameters:  {'clf__C': 5, 'clf__penalty': 'l2', 'clf__solver': 'saga'}\n",
            "Mean accuracy on validation set:  0.830607476635514\n",
            "Parameters:  {'clf__C': 8, 'clf__penalty': 'l1', 'clf__solver': 'liblinear'}\n",
            "Mean accuracy on validation set:  0.8282710280373832\n",
            "Parameters:  {'clf__C': 8, 'clf__penalty': 'l1', 'clf__solver': 'saga'}\n",
            "Mean accuracy on validation set:  0.830373831775701\n",
            "Parameters:  {'clf__C': 8, 'clf__penalty': 'l2', 'clf__solver': 'liblinear'}\n",
            "Mean accuracy on validation set:  0.8343457943925234\n",
            "Parameters:  {'clf__C': 8, 'clf__penalty': 'l2', 'clf__solver': 'saga'}\n",
            "Mean accuracy on validation set:  0.833177570093458\n",
            "Parameters:  {'clf__C': 10, 'clf__penalty': 'l1', 'clf__solver': 'liblinear'}\n",
            "Mean accuracy on validation set:  0.8287383177570093\n",
            "Parameters:  {'clf__C': 10, 'clf__penalty': 'l1', 'clf__solver': 'saga'}\n",
            "Mean accuracy on validation set:  0.8296728971962617\n",
            "Parameters:  {'clf__C': 10, 'clf__penalty': 'l2', 'clf__solver': 'liblinear'}\n",
            "Mean accuracy on validation set:  0.8348130841121495\n",
            "Parameters:  {'clf__C': 10, 'clf__penalty': 'l2', 'clf__solver': 'saga'}\n",
            "Mean accuracy on validation set:  0.8341121495327103\n"
          ]
        }
      ],
      "source": [
        "# Get the results of the grid search\n",
        "results = grid_search.cv_results_\n",
        "\n",
        "# Print the performance metrics for each set of hyperparameters on validation set\n",
        "for i in range(len(results['params'])):\n",
        "    print(\"Parameters: \", results['params'][i])\n",
        "    print(\"Mean accuracy on validation set: \", results['mean_test_score'][i])"
      ]
    },
    {
      "cell_type": "markdown",
      "source": [
        "Best hyperparameters with Test Accuracy and Confusion Matrix"
      ],
      "metadata": {
        "id": "rnaF7ECMNY8F"
      }
    },
    {
      "cell_type": "code",
      "execution_count": null,
      "metadata": {
        "colab": {
          "base_uri": "https://localhost:8080/",
          "height": 648
        },
        "id": "bbN7YlhTNUYc",
        "outputId": "a1c890f2-210b-4f0c-d8ed-f0d6530accf0"
      },
      "outputs": [
        {
          "name": "stdout",
          "output_type": "stream",
          "text": [
            "Best Parameters: {'clf__C': 10, 'clf__penalty': 'l2', 'clf__solver': 'liblinear'}\n",
            "Test Accuracy: 0.8542\n",
            "              precision    recall  f1-score   support\n",
            "\n",
            "           0       0.78      0.75      0.77       340\n",
            "           1       0.89      0.90      0.89       730\n",
            "\n",
            "    accuracy                           0.85      1070\n",
            "   macro avg       0.83      0.83      0.83      1070\n",
            "weighted avg       0.85      0.85      0.85      1070\n",
            "\n"
          ]
        },
        {
          "data": {
            "image/png": "[encoded data removed]",
            "text/plain": [
              "<Figure size 640x480 with 2 Axes>"
            ]
          },
          "metadata": {},
          "output_type": "display_data"
        }
      ],
      "source": [
        "best_model = grid_search.best_estimator_\n",
        "best_params = grid_search.best_params_\n",
        "\n",
        "# Evaluate the final model on the test set\n",
        "y_pred = best_model.predict(X_test)\n",
        "accuracy = accuracy_score(y_test, y_pred)\n",
        "\n",
        "print(f'Best Parameters: {best_params}')\n",
        "print(f'Test Accuracy: {accuracy:.4f}')\n",
        "CMD.from_predictions(y_test,y_pred)\n",
        "print(CR(y_test,y_pred))"
      ]
    },
    {
      "cell_type": "code",
      "execution_count": null,
      "metadata": {
        "colab": {
          "base_uri": "https://localhost:8080/"
        },
        "id": "sdIvSyeHTFMa",
        "outputId": "77764b9b-e911-449e-a1e6-3ddbfffb0e77"
      },
      "outputs": [
        {
          "data": {
            "text/plain": [
              "0.8542056074766355"
            ]
          },
          "execution_count": 19,
          "metadata": {},
          "output_type": "execute_result"
        }
      ],
      "source": [
        "grid_search.score(X_test,y_test)"
      ]
    },
    {
      "cell_type": "markdown",
      "metadata": {
        "id": "dAvsUZWDEMt0"
      },
      "source": [
        "##KNN classifier"
      ]
    },
    {
      "cell_type": "markdown",
      "source": [
        "Training with different set of hyperparameters"
      ],
      "metadata": {
        "id": "77QE9UaYNlwm"
      }
    },
    {
      "cell_type": "code",
      "execution_count": null,
      "metadata": {
        "colab": {
          "base_uri": "https://localhost:8080/",
          "height": 151
        },
        "id": "F6KwHDD-UXWC",
        "outputId": "5532cf92-5c86-47f6-8b43-89f1d1e50d93"
      },
      "outputs": [
        {
          "data": {
            "text/html": [
              "<style>#sk-container-id-5 {color: black;background-color: white;}#sk-container-id-5 pre{padding: 0;}#sk-container-id-5 div.sk-toggleable {background-color: white;}#sk-container-id-5 label.sk-toggleable__label {cursor: pointer;display: block;width: 100%;margin-bottom: 0;padding: 0.3em;box-sizing: border-box;text-align: center;}#sk-container-id-5 label.sk-toggleable__label-arrow:before {content: \"▸\";float: left;margin-right: 0.25em;color: #696969;}#sk-container-id-5 label.sk-toggleable__label-arrow:hover:before {color: black;}#sk-container-id-5 div.sk-estimator:hover label.sk-toggleable__label-arrow:before {color: black;}#sk-container-id-5 div.sk-toggleable__content {max-height: 0;max-width: 0;overflow: hidden;text-align: left;background-color: #f0f8ff;}#sk-container-id-5 div.sk-toggleable__content pre {margin: 0.2em;color: black;border-radius: 0.25em;background-color: #f0f8ff;}#sk-container-id-5 input.sk-toggleable__control:checked~div.sk-toggleable__content {max-height: 200px;max-width: 100%;overflow: auto;}#sk-container-id-5 input.sk-toggleable__control:checked~label.sk-toggleable__label-arrow:before {content: \"▾\";}#sk-container-id-5 div.sk-estimator input.sk-toggleable__control:checked~label.sk-toggleable__label {background-color: #d4ebff;}#sk-container-id-5 div.sk-label input.sk-toggleable__control:checked~label.sk-toggleable__label {background-color: #d4ebff;}#sk-container-id-5 input.sk-hidden--visually {border: 0;clip: rect(1px 1px 1px 1px);clip: rect(1px, 1px, 1px, 1px);height: 1px;margin: -1px;overflow: hidden;padding: 0;position: absolute;width: 1px;}#sk-container-id-5 div.sk-estimator {font-family: monospace;background-color: #f0f8ff;border: 1px dotted black;border-radius: 0.25em;box-sizing: border-box;margin-bottom: 0.5em;}#sk-container-id-5 div.sk-estimator:hover {background-color: #d4ebff;}#sk-container-id-5 div.sk-parallel-item::after {content: \"\";width: 100%;border-bottom: 1px solid gray;flex-grow: 1;}#sk-container-id-5 div.sk-label:hover label.sk-toggleable__label {background-color: #d4ebff;}#sk-container-id-5 div.sk-serial::before {content: \"\";position: absolute;border-left: 1px solid gray;box-sizing: border-box;top: 0;bottom: 0;left: 50%;z-index: 0;}#sk-container-id-5 div.sk-serial {display: flex;flex-direction: column;align-items: center;background-color: white;padding-right: 0.2em;padding-left: 0.2em;position: relative;}#sk-container-id-5 div.sk-item {position: relative;z-index: 1;}#sk-container-id-5 div.sk-parallel {display: flex;align-items: stretch;justify-content: center;background-color: white;position: relative;}#sk-container-id-5 div.sk-item::before, #sk-container-id-5 div.sk-parallel-item::before {content: \"\";position: absolute;border-left: 1px solid gray;box-sizing: border-box;top: 0;bottom: 0;left: 50%;z-index: -1;}#sk-container-id-5 div.sk-parallel-item {display: flex;flex-direction: column;z-index: 1;position: relative;background-color: white;}#sk-container-id-5 div.sk-parallel-item:first-child::after {align-self: flex-end;width: 50%;}#sk-container-id-5 div.sk-parallel-item:last-child::after {align-self: flex-start;width: 50%;}#sk-container-id-5 div.sk-parallel-item:only-child::after {width: 0;}#sk-container-id-5 div.sk-dashed-wrapped {border: 1px dashed gray;margin: 0 0.4em 0.5em 0.4em;box-sizing: border-box;padding-bottom: 0.4em;background-color: white;}#sk-container-id-5 div.sk-label label {font-family: monospace;font-weight: bold;display: inline-block;line-height: 1.2em;}#sk-container-id-5 div.sk-label-container {text-align: center;}#sk-container-id-5 div.sk-container {/* jupyter's `normalize.less` sets `[hidden] { display: none; }` but bootstrap.min.css set `[hidden] { display: none !important; }` so we also need the `!important` here to be able to override the default hidden behavior on the sphinx rendered scikit-learn.org. See: https://github.com/scikit-learn/scikit-learn/issues/21755 */display: inline-block !important;position: relative;}#sk-container-id-5 div.sk-text-repr-fallback {display: none;}</style><div id=\"sk-container-id-5\" class=\"sk-top-container\"><div class=\"sk-text-repr-fallback\"><pre>GridSearchCV(cv=4, error_score=0,\n",
              "             estimator=Pipeline(steps=[(&#x27;tfidf&#x27;, TfidfVectorizer()),\n",
              "                                       (&#x27;clf&#x27;, KNeighborsClassifier())]),\n",
              "             param_grid={&#x27;clf__metric&#x27;: [&#x27;euclidean&#x27;, &#x27;manhattan&#x27;],\n",
              "                         &#x27;clf__n_neighbors&#x27;: [3, 5, 7],\n",
              "                         &#x27;clf__weights&#x27;: [&#x27;uniform&#x27;, &#x27;distance&#x27;]})</pre><b>In a Jupyter environment, please rerun this cell to show the HTML representation or trust the notebook. <br />On GitHub, the HTML representation is unable to render, please try loading this page with nbviewer.org.</b></div><div class=\"sk-container\" hidden><div class=\"sk-item sk-dashed-wrapped\"><div class=\"sk-label-container\"><div class=\"sk-label sk-toggleable\"><input class=\"sk-toggleable__control sk-hidden--visually\" id=\"sk-estimator-id-17\" type=\"checkbox\" ><label for=\"sk-estimator-id-17\" class=\"sk-toggleable__label sk-toggleable__label-arrow\">GridSearchCV</label><div class=\"sk-toggleable__content\"><pre>GridSearchCV(cv=4, error_score=0,\n",
              "             estimator=Pipeline(steps=[(&#x27;tfidf&#x27;, TfidfVectorizer()),\n",
              "                                       (&#x27;clf&#x27;, KNeighborsClassifier())]),\n",
              "             param_grid={&#x27;clf__metric&#x27;: [&#x27;euclidean&#x27;, &#x27;manhattan&#x27;],\n",
              "                         &#x27;clf__n_neighbors&#x27;: [3, 5, 7],\n",
              "                         &#x27;clf__weights&#x27;: [&#x27;uniform&#x27;, &#x27;distance&#x27;]})</pre></div></div></div><div class=\"sk-parallel\"><div class=\"sk-parallel-item\"><div class=\"sk-item\"><div class=\"sk-label-container\"><div class=\"sk-label sk-toggleable\"><input class=\"sk-toggleable__control sk-hidden--visually\" id=\"sk-estimator-id-18\" type=\"checkbox\" ><label for=\"sk-estimator-id-18\" class=\"sk-toggleable__label sk-toggleable__label-arrow\">estimator: Pipeline</label><div class=\"sk-toggleable__content\"><pre>Pipeline(steps=[(&#x27;tfidf&#x27;, TfidfVectorizer()), (&#x27;clf&#x27;, KNeighborsClassifier())])</pre></div></div></div><div class=\"sk-serial\"><div class=\"sk-item\"><div class=\"sk-serial\"><div class=\"sk-item\"><div class=\"sk-estimator sk-toggleable\"><input class=\"sk-toggleable__control sk-hidden--visually\" id=\"sk-estimator-id-19\" type=\"checkbox\" ><label for=\"sk-estimator-id-19\" class=\"sk-toggleable__label sk-toggleable__label-arrow\">TfidfVectorizer</label><div class=\"sk-toggleable__content\"><pre>TfidfVectorizer()</pre></div></div></div><div class=\"sk-item\"><div class=\"sk-estimator sk-toggleable\"><input class=\"sk-toggleable__control sk-hidden--visually\" id=\"sk-estimator-id-20\" type=\"checkbox\" ><label for=\"sk-estimator-id-20\" class=\"sk-toggleable__label sk-toggleable__label-arrow\">KNeighborsClassifier</label><div class=\"sk-toggleable__content\"><pre>KNeighborsClassifier()</pre></div></div></div></div></div></div></div></div></div></div></div></div>"
            ],
            "text/plain": [
              "GridSearchCV(cv=4, error_score=0,\n",
              "             estimator=Pipeline(steps=[('tfidf', TfidfVectorizer()),\n",
              "                                       ('clf', KNeighborsClassifier())]),\n",
              "             param_grid={'clf__metric': ['euclidean', 'manhattan'],\n",
              "                         'clf__n_neighbors': [3, 5, 7],\n",
              "                         'clf__weights': ['uniform', 'distance']})"
            ]
          },
          "execution_count": 27,
          "metadata": {},
          "output_type": "execute_result"
        }
      ],
      "source": [
        "from sklearn.neighbors import KNeighborsClassifier\n",
        "\n",
        "# Define the pipeline for feature extraction and knn classifier model\n",
        "pipeline = Pipeline([\n",
        "    ('tfidf', TfidfVectorizer()),\n",
        "    ('clf', KNeighborsClassifier())\n",
        "])\n",
        "\n",
        "# Define the hyperparameters to tune\n",
        "params = {\n",
        "    'clf__n_neighbors': [3, 5, 7],\n",
        "    'clf__weights': ['uniform', 'distance'],\n",
        "    'clf__metric': ['euclidean', 'manhattan']\n",
        "}\n",
        "\n",
        "# Split the data into training and test sets\n",
        "X_val_train, X_test, y_val_train, y_test = train_test_split(X, y, test_size=0.2)\n",
        "\n",
        "# Use GridSearchCV to tune hyperparameters and select the best model\n",
        "grid_search = GridSearchCV(pipeline, params, cv=4,error_score=0)\n",
        "grid_search.fit(X_val_train, y_val_train)"
      ]
    },
    {
      "cell_type": "markdown",
      "source": [
        "Validation Performance"
      ],
      "metadata": {
        "id": "q4ICIS37Nutk"
      }
    },
    {
      "cell_type": "code",
      "execution_count": null,
      "metadata": {
        "colab": {
          "base_uri": "https://localhost:8080/"
        },
        "id": "yLOPHlvdU9yW",
        "outputId": "5e604dcf-f4af-4be3-d383-9b5ac8c88a83"
      },
      "outputs": [
        {
          "name": "stdout",
          "output_type": "stream",
          "text": [
            "Best parameters:  {'clf__metric': 'euclidean', 'clf__n_neighbors': 7, 'clf__weights': 'uniform'}\n",
            "Best accuracy score:  0.7182242990654206\n",
            "Parameters:  {'clf__metric': 'euclidean', 'clf__n_neighbors': 3, 'clf__weights': 'uniform'}\n",
            "Mean accuracy on validation set:  0.7046728971962616\n",
            "Parameters:  {'clf__metric': 'euclidean', 'clf__n_neighbors': 3, 'clf__weights': 'distance'}\n",
            "Mean accuracy on validation set:  0.7039719626168224\n",
            "Parameters:  {'clf__metric': 'euclidean', 'clf__n_neighbors': 5, 'clf__weights': 'uniform'}\n",
            "Mean accuracy on validation set:  0.7130841121495327\n",
            "Parameters:  {'clf__metric': 'euclidean', 'clf__n_neighbors': 5, 'clf__weights': 'distance'}\n",
            "Mean accuracy on validation set:  0.7130841121495327\n",
            "Parameters:  {'clf__metric': 'euclidean', 'clf__n_neighbors': 7, 'clf__weights': 'uniform'}\n",
            "Mean accuracy on validation set:  0.7182242990654206\n",
            "Parameters:  {'clf__metric': 'euclidean', 'clf__n_neighbors': 7, 'clf__weights': 'distance'}\n",
            "Mean accuracy on validation set:  0.7179906542056075\n",
            "Parameters:  {'clf__metric': 'manhattan', 'clf__n_neighbors': 3, 'clf__weights': 'uniform'}\n",
            "Mean accuracy on validation set:  0.6852803738317756\n",
            "Parameters:  {'clf__metric': 'manhattan', 'clf__n_neighbors': 3, 'clf__weights': 'distance'}\n",
            "Mean accuracy on validation set:  0.6852803738317756\n",
            "Parameters:  {'clf__metric': 'manhattan', 'clf__n_neighbors': 5, 'clf__weights': 'uniform'}\n",
            "Mean accuracy on validation set:  0.6852803738317756\n",
            "Parameters:  {'clf__metric': 'manhattan', 'clf__n_neighbors': 5, 'clf__weights': 'distance'}\n",
            "Mean accuracy on validation set:  0.6852803738317756\n",
            "Parameters:  {'clf__metric': 'manhattan', 'clf__n_neighbors': 7, 'clf__weights': 'uniform'}\n",
            "Mean accuracy on validation set:  0.6852803738317756\n",
            "Parameters:  {'clf__metric': 'manhattan', 'clf__n_neighbors': 7, 'clf__weights': 'distance'}\n",
            "Mean accuracy on validation set:  0.6852803738317756\n"
          ]
        }
      ],
      "source": [
        "# Get the results of the grid search\n",
        "results = grid_search.cv_results_\n",
        "\n",
        "# Print best parameters and best accuracy score\n",
        "print(\"Best parameters: \", grid_search.best_params_)\n",
        "print(\"Best accuracy score: \", grid_search.best_score_)\n",
        "\n",
        "# Print the performance metrics for each set of hyperparameters on validation set\n",
        "for i in range(len(results['params'])):\n",
        "    print(\"Parameters: \", results['params'][i])\n",
        "    print(\"Mean accuracy on validation set: \", results['mean_test_score'][i])"
      ]
    },
    {
      "cell_type": "markdown",
      "source": [
        "Best hyperparameters and Confusion matrix"
      ],
      "metadata": {
        "id": "RZUrnNgqNyDq"
      }
    },
    {
      "cell_type": "code",
      "execution_count": null,
      "metadata": {
        "colab": {
          "base_uri": "https://localhost:8080/",
          "height": 648
        },
        "id": "lAN4Lk9dU-XY",
        "outputId": "585dccad-5567-45d2-e7c1-2a1bbc623cac"
      },
      "outputs": [
        {
          "name": "stdout",
          "output_type": "stream",
          "text": [
            "Best Parameters: {'clf__metric': 'euclidean', 'clf__n_neighbors': 7, 'clf__weights': 'uniform'}\n",
            "Test Accuracy: 0.7159\n",
            "              precision    recall  f1-score   support\n",
            "\n",
            "           0       0.66      0.21      0.32       339\n",
            "           1       0.72      0.95      0.82       731\n",
            "\n",
            "    accuracy                           0.72      1070\n",
            "   macro avg       0.69      0.58      0.57      1070\n",
            "weighted avg       0.70      0.72      0.66      1070\n",
            "\n"
          ]
        },
        {
          "data": {
            "image/png": "[encoded data removed]",
            "text/plain": [
              "<Figure size 640x480 with 2 Axes>"
            ]
          },
          "metadata": {},
          "output_type": "display_data"
        }
      ],
      "source": [
        "best_model = grid_search.best_estimator_\n",
        "best_params = grid_search.best_params_\n",
        "\n",
        "# Evaluate the final model on the test set\n",
        "y_pred = best_model.predict(X_test)\n",
        "accuracy = accuracy_score(y_test, y_pred)\n",
        "\n",
        "print(f'Best Parameters: {best_params}')\n",
        "print(f'Test Accuracy: {accuracy:.4f}')\n",
        "CMD.from_predictions(y_test,y_pred)\n",
        "print(CR(y_test,y_pred))"
      ]
    },
    {
      "cell_type": "markdown",
      "metadata": {
        "id": "6IaoNSzRL0U-"
      },
      "source": [
        "##1-Layer MLP\n"
      ]
    },
    {
      "cell_type": "markdown",
      "source": [
        "Training MLP classifier on different set of hyperparameters"
      ],
      "metadata": {
        "id": "r-aH1KAIN9Zw"
      }
    },
    {
      "cell_type": "code",
      "execution_count": null,
      "metadata": {
        "id": "jvp5enctaVf3",
        "colab": {
          "base_uri": "https://localhost:8080/",
          "height": 150
        },
        "outputId": "54497d18-71aa-4705-e57f-e25d0d263d10"
      },
      "outputs": [
        {
          "output_type": "execute_result",
          "data": {
            "text/plain": [
              "GridSearchCV(cv=4, error_score=0,\n",
              "             estimator=Pipeline(steps=[('tfidf', TfidfVectorizer()),\n",
              "                                       ('clf',\n",
              "                                        MLPClassifier(early_stopping=True,\n",
              "                                                      warm_start=True))]),\n",
              "             param_grid={'clf__activation': ['tanh', 'relu'],\n",
              "                         'clf__alpha': [0.001, 0.01, 0.1],\n",
              "                         'clf__hidden_layer_sizes': [(16,), (128,), (256,)],\n",
              "                         'clf__learning_rate': ['invscaling']})"
            ],
            "text/html": [
              "<style>#sk-container-id-1 {color: black;background-color: white;}#sk-container-id-1 pre{padding: 0;}#sk-container-id-1 div.sk-toggleable {background-color: white;}#sk-container-id-1 label.sk-toggleable__label {cursor: pointer;display: block;width: 100%;margin-bottom: 0;padding: 0.3em;box-sizing: border-box;text-align: center;}#sk-container-id-1 label.sk-toggleable__label-arrow:before {content: \"▸\";float: left;margin-right: 0.25em;color: #696969;}#sk-container-id-1 label.sk-toggleable__label-arrow:hover:before {color: black;}#sk-container-id-1 div.sk-estimator:hover label.sk-toggleable__label-arrow:before {color: black;}#sk-container-id-1 div.sk-toggleable__content {max-height: 0;max-width: 0;overflow: hidden;text-align: left;background-color: #f0f8ff;}#sk-container-id-1 div.sk-toggleable__content pre {margin: 0.2em;color: black;border-radius: 0.25em;background-color: #f0f8ff;}#sk-container-id-1 input.sk-toggleable__control:checked~div.sk-toggleable__content {max-height: 200px;max-width: 100%;overflow: auto;}#sk-container-id-1 input.sk-toggleable__control:checked~label.sk-toggleable__label-arrow:before {content: \"▾\";}#sk-container-id-1 div.sk-estimator input.sk-toggleable__control:checked~label.sk-toggleable__label {background-color: #d4ebff;}#sk-container-id-1 div.sk-label input.sk-toggleable__control:checked~label.sk-toggleable__label {background-color: #d4ebff;}#sk-container-id-1 input.sk-hidden--visually {border: 0;clip: rect(1px 1px 1px 1px);clip: rect(1px, 1px, 1px, 1px);height: 1px;margin: -1px;overflow: hidden;padding: 0;position: absolute;width: 1px;}#sk-container-id-1 div.sk-estimator {font-family: monospace;background-color: #f0f8ff;border: 1px dotted black;border-radius: 0.25em;box-sizing: border-box;margin-bottom: 0.5em;}#sk-container-id-1 div.sk-estimator:hover {background-color: #d4ebff;}#sk-container-id-1 div.sk-parallel-item::after {content: \"\";width: 100%;border-bottom: 1px solid gray;flex-grow: 1;}#sk-container-id-1 div.sk-label:hover label.sk-toggleable__label {background-color: #d4ebff;}#sk-container-id-1 div.sk-serial::before {content: \"\";position: absolute;border-left: 1px solid gray;box-sizing: border-box;top: 0;bottom: 0;left: 50%;z-index: 0;}#sk-container-id-1 div.sk-serial {display: flex;flex-direction: column;align-items: center;background-color: white;padding-right: 0.2em;padding-left: 0.2em;position: relative;}#sk-container-id-1 div.sk-item {position: relative;z-index: 1;}#sk-container-id-1 div.sk-parallel {display: flex;align-items: stretch;justify-content: center;background-color: white;position: relative;}#sk-container-id-1 div.sk-item::before, #sk-container-id-1 div.sk-parallel-item::before {content: \"\";position: absolute;border-left: 1px solid gray;box-sizing: border-box;top: 0;bottom: 0;left: 50%;z-index: -1;}#sk-container-id-1 div.sk-parallel-item {display: flex;flex-direction: column;z-index: 1;position: relative;background-color: white;}#sk-container-id-1 div.sk-parallel-item:first-child::after {align-self: flex-end;width: 50%;}#sk-container-id-1 div.sk-parallel-item:last-child::after {align-self: flex-start;width: 50%;}#sk-container-id-1 div.sk-parallel-item:only-child::after {width: 0;}#sk-container-id-1 div.sk-dashed-wrapped {border: 1px dashed gray;margin: 0 0.4em 0.5em 0.4em;box-sizing: border-box;padding-bottom: 0.4em;background-color: white;}#sk-container-id-1 div.sk-label label {font-family: monospace;font-weight: bold;display: inline-block;line-height: 1.2em;}#sk-container-id-1 div.sk-label-container {text-align: center;}#sk-container-id-1 div.sk-container {/* jupyter's `normalize.less` sets `[hidden] { display: none; }` but bootstrap.min.css set `[hidden] { display: none !important; }` so we also need the `!important` here to be able to override the default hidden behavior on the sphinx rendered scikit-learn.org. See: https://github.com/scikit-learn/scikit-learn/issues/21755 */display: inline-block !important;position: relative;}#sk-container-id-1 div.sk-text-repr-fallback {display: none;}</style><div id=\"sk-container-id-1\" class=\"sk-top-container\"><div class=\"sk-text-repr-fallback\"><pre>GridSearchCV(cv=4, error_score=0,\n",
              "             estimator=Pipeline(steps=[(&#x27;tfidf&#x27;, TfidfVectorizer()),\n",
              "                                       (&#x27;clf&#x27;,\n",
              "                                        MLPClassifier(early_stopping=True,\n",
              "                                                      warm_start=True))]),\n",
              "             param_grid={&#x27;clf__activation&#x27;: [&#x27;tanh&#x27;, &#x27;relu&#x27;],\n",
              "                         &#x27;clf__alpha&#x27;: [0.001, 0.01, 0.1],\n",
              "                         &#x27;clf__hidden_layer_sizes&#x27;: [(16,), (128,), (256,)],\n",
              "                         &#x27;clf__learning_rate&#x27;: [&#x27;invscaling&#x27;]})</pre><b>In a Jupyter environment, please rerun this cell to show the HTML representation or trust the notebook. <br />On GitHub, the HTML representation is unable to render, please try loading this page with nbviewer.org.</b></div><div class=\"sk-container\" hidden><div class=\"sk-item sk-dashed-wrapped\"><div class=\"sk-label-container\"><div class=\"sk-label sk-toggleable\"><input class=\"sk-toggleable__control sk-hidden--visually\" id=\"sk-estimator-id-1\" type=\"checkbox\" ><label for=\"sk-estimator-id-1\" class=\"sk-toggleable__label sk-toggleable__label-arrow\">GridSearchCV</label><div class=\"sk-toggleable__content\"><pre>GridSearchCV(cv=4, error_score=0,\n",
              "             estimator=Pipeline(steps=[(&#x27;tfidf&#x27;, TfidfVectorizer()),\n",
              "                                       (&#x27;clf&#x27;,\n",
              "                                        MLPClassifier(early_stopping=True,\n",
              "                                                      warm_start=True))]),\n",
              "             param_grid={&#x27;clf__activation&#x27;: [&#x27;tanh&#x27;, &#x27;relu&#x27;],\n",
              "                         &#x27;clf__alpha&#x27;: [0.001, 0.01, 0.1],\n",
              "                         &#x27;clf__hidden_layer_sizes&#x27;: [(16,), (128,), (256,)],\n",
              "                         &#x27;clf__learning_rate&#x27;: [&#x27;invscaling&#x27;]})</pre></div></div></div><div class=\"sk-parallel\"><div class=\"sk-parallel-item\"><div class=\"sk-item\"><div class=\"sk-label-container\"><div class=\"sk-label sk-toggleable\"><input class=\"sk-toggleable__control sk-hidden--visually\" id=\"sk-estimator-id-2\" type=\"checkbox\" ><label for=\"sk-estimator-id-2\" class=\"sk-toggleable__label sk-toggleable__label-arrow\">estimator: Pipeline</label><div class=\"sk-toggleable__content\"><pre>Pipeline(steps=[(&#x27;tfidf&#x27;, TfidfVectorizer()),\n",
              "                (&#x27;clf&#x27;, MLPClassifier(early_stopping=True, warm_start=True))])</pre></div></div></div><div class=\"sk-serial\"><div class=\"sk-item\"><div class=\"sk-serial\"><div class=\"sk-item\"><div class=\"sk-estimator sk-toggleable\"><input class=\"sk-toggleable__control sk-hidden--visually\" id=\"sk-estimator-id-3\" type=\"checkbox\" ><label for=\"sk-estimator-id-3\" class=\"sk-toggleable__label sk-toggleable__label-arrow\">TfidfVectorizer</label><div class=\"sk-toggleable__content\"><pre>TfidfVectorizer()</pre></div></div></div><div class=\"sk-item\"><div class=\"sk-estimator sk-toggleable\"><input class=\"sk-toggleable__control sk-hidden--visually\" id=\"sk-estimator-id-4\" type=\"checkbox\" ><label for=\"sk-estimator-id-4\" class=\"sk-toggleable__label sk-toggleable__label-arrow\">MLPClassifier</label><div class=\"sk-toggleable__content\"><pre>MLPClassifier(early_stopping=True, warm_start=True)</pre></div></div></div></div></div></div></div></div></div></div></div></div>"
            ]
          },
          "metadata": {},
          "execution_count": 12
        }
      ],
      "source": [
        "from sklearn.neural_network import MLPClassifier\n",
        "\n",
        "# Define the pipeline for feature extraction and 1-layer MLP classifier model\n",
        "pipeline = Pipeline([\n",
        "    ('tfidf', TfidfVectorizer()),\n",
        "    ('clf', MLPClassifier(warm_start = True,early_stopping=True))\n",
        "])\n",
        "\n",
        "# Define the hyperparameters to tune\n",
        "params = {\n",
        "    'clf__hidden_layer_sizes': [(16,), (128,), (256,)],\n",
        "    'clf__activation': ['tanh', 'relu'],\n",
        "    'clf__alpha': [0.001, 0.01, 0.1],\n",
        "    'clf__learning_rate': ['invscaling']\n",
        "}\n",
        "\n",
        "# Split the data into training+validation and test sets\n",
        "X_val_train, X_test, y_val_train, y_test = train_test_split(X, y, test_size=0.2)\n",
        "\n",
        "# Use GridSearchCV to tune hyperparameters and select the best model\n",
        "grid_search = GridSearchCV(pipeline, params, cv=4,error_score=0)\n",
        "grid_search.fit(X_val_train, y_val_train)"
      ]
    },
    {
      "cell_type": "markdown",
      "source": [
        "Validation Performance comparison"
      ],
      "metadata": {
        "id": "p-JmUuBOODEM"
      }
    },
    {
      "cell_type": "code",
      "execution_count": null,
      "metadata": {
        "id": "NpSalXXnaZnW",
        "colab": {
          "base_uri": "https://localhost:8080/"
        },
        "outputId": "d4ce4db6-1461-4438-f13b-bb3f415906bf"
      },
      "outputs": [
        {
          "output_type": "stream",
          "name": "stdout",
          "text": [
            "Parameters:  {'clf__activation': 'tanh', 'clf__alpha': 0.001, 'clf__hidden_layer_sizes': (16,), 'clf__learning_rate': 'invscaling'}\n",
            "Mean accuracy on validation set:  0.8128504672897197\n",
            "Parameters:  {'clf__activation': 'tanh', 'clf__alpha': 0.001, 'clf__hidden_layer_sizes': (128,), 'clf__learning_rate': 'invscaling'}\n",
            "Mean accuracy on validation set:  0.822196261682243\n",
            "Parameters:  {'clf__activation': 'tanh', 'clf__alpha': 0.001, 'clf__hidden_layer_sizes': (256,), 'clf__learning_rate': 'invscaling'}\n",
            "Mean accuracy on validation set:  0.8154205607476636\n",
            "Parameters:  {'clf__activation': 'tanh', 'clf__alpha': 0.01, 'clf__hidden_layer_sizes': (16,), 'clf__learning_rate': 'invscaling'}\n",
            "Mean accuracy on validation set:  0.8196261682242991\n",
            "Parameters:  {'clf__activation': 'tanh', 'clf__alpha': 0.01, 'clf__hidden_layer_sizes': (128,), 'clf__learning_rate': 'invscaling'}\n",
            "Mean accuracy on validation set:  0.825233644859813\n",
            "Parameters:  {'clf__activation': 'tanh', 'clf__alpha': 0.01, 'clf__hidden_layer_sizes': (256,), 'clf__learning_rate': 'invscaling'}\n",
            "Mean accuracy on validation set:  0.8242990654205609\n",
            "Parameters:  {'clf__activation': 'tanh', 'clf__alpha': 0.1, 'clf__hidden_layer_sizes': (16,), 'clf__learning_rate': 'invscaling'}\n",
            "Mean accuracy on validation set:  0.8240654205607477\n",
            "Parameters:  {'clf__activation': 'tanh', 'clf__alpha': 0.1, 'clf__hidden_layer_sizes': (128,), 'clf__learning_rate': 'invscaling'}\n",
            "Mean accuracy on validation set:  0.8242990654205608\n",
            "Parameters:  {'clf__activation': 'tanh', 'clf__alpha': 0.1, 'clf__hidden_layer_sizes': (256,), 'clf__learning_rate': 'invscaling'}\n",
            "Mean accuracy on validation set:  0.8264018691588786\n",
            "Parameters:  {'clf__activation': 'relu', 'clf__alpha': 0.001, 'clf__hidden_layer_sizes': (16,), 'clf__learning_rate': 'invscaling'}\n",
            "Mean accuracy on validation set:  0.8123831775700935\n",
            "Parameters:  {'clf__activation': 'relu', 'clf__alpha': 0.001, 'clf__hidden_layer_sizes': (128,), 'clf__learning_rate': 'invscaling'}\n",
            "Mean accuracy on validation set:  0.8231308411214953\n",
            "Parameters:  {'clf__activation': 'relu', 'clf__alpha': 0.001, 'clf__hidden_layer_sizes': (256,), 'clf__learning_rate': 'invscaling'}\n",
            "Mean accuracy on validation set:  0.8156542056074767\n",
            "Parameters:  {'clf__activation': 'relu', 'clf__alpha': 0.01, 'clf__hidden_layer_sizes': (16,), 'clf__learning_rate': 'invscaling'}\n",
            "Mean accuracy on validation set:  0.8154205607476637\n",
            "Parameters:  {'clf__activation': 'relu', 'clf__alpha': 0.01, 'clf__hidden_layer_sizes': (128,), 'clf__learning_rate': 'invscaling'}\n",
            "Mean accuracy on validation set:  0.8261682242990653\n",
            "Parameters:  {'clf__activation': 'relu', 'clf__alpha': 0.01, 'clf__hidden_layer_sizes': (256,), 'clf__learning_rate': 'invscaling'}\n",
            "Mean accuracy on validation set:  0.8228971962616822\n",
            "Parameters:  {'clf__activation': 'relu', 'clf__alpha': 0.1, 'clf__hidden_layer_sizes': (16,), 'clf__learning_rate': 'invscaling'}\n",
            "Mean accuracy on validation set:  0.8261682242990654\n",
            "Parameters:  {'clf__activation': 'relu', 'clf__alpha': 0.1, 'clf__hidden_layer_sizes': (128,), 'clf__learning_rate': 'invscaling'}\n",
            "Mean accuracy on validation set:  0.8268691588785047\n",
            "Parameters:  {'clf__activation': 'relu', 'clf__alpha': 0.1, 'clf__hidden_layer_sizes': (256,), 'clf__learning_rate': 'invscaling'}\n",
            "Mean accuracy on validation set:  0.8261682242990654\n"
          ]
        }
      ],
      "source": [
        "# Get the results of the grid search\n",
        "results = grid_search.cv_results_\n",
        "\n",
        "# Print the performance metrics for each set of hyperparameters on validation set\n",
        "for i in range(len(results['params'])):\n",
        "    print(\"Parameters: \", results['params'][i])\n",
        "    print(\"Mean accuracy on validation set: \", results['mean_test_score'][i])"
      ]
    },
    {
      "cell_type": "markdown",
      "source": [
        "best hyperparameters"
      ],
      "metadata": {
        "id": "q_knjQ_rOHPz"
      }
    },
    {
      "cell_type": "code",
      "execution_count": null,
      "metadata": {
        "id": "Y5eZnqvBbIut",
        "colab": {
          "base_uri": "https://localhost:8080/"
        },
        "outputId": "7e8e9e7f-c212-48e4-81d2-c6b60314fc33"
      },
      "outputs": [
        {
          "output_type": "stream",
          "name": "stdout",
          "text": [
            "Best Model:  Pipeline(steps=[('tfidf', TfidfVectorizer()),\n",
            "                ('clf',\n",
            "                 MLPClassifier(alpha=0.1, early_stopping=True,\n",
            "                               hidden_layer_sizes=(128,),\n",
            "                               learning_rate='invscaling', warm_start=True))])\n",
            "Best Parameters:  {'clf__activation': 'relu', 'clf__alpha': 0.1, 'clf__hidden_layer_sizes': (128,), 'clf__learning_rate': 'invscaling'}\n"
          ]
        }
      ],
      "source": [
        "best_model = grid_search.best_estimator_ #obtain the best estimator\n",
        "best_params = grid_search.best_params_\n",
        "print(\"Best Model: \",best_model)\n",
        "print(\"Best Parameters: \", best_params)"
      ]
    },
    {
      "cell_type": "markdown",
      "source": [
        "Test set performance for best hyperparameters and confusion matrix"
      ],
      "metadata": {
        "id": "K3nAPdHaOSNZ"
      }
    },
    {
      "cell_type": "code",
      "execution_count": null,
      "metadata": {
        "id": "F5C84FlHaeTL",
        "colab": {
          "base_uri": "https://localhost:8080/",
          "height": 640
        },
        "outputId": "2c7b7033-f2d5-45f4-e97e-a42af7e7e236"
      },
      "outputs": [
        {
          "output_type": "stream",
          "name": "stdout",
          "text": [
            "Best Parameters: {'clf__activation': 'relu', 'clf__alpha': 0.1, 'clf__hidden_layer_sizes': (128,), 'clf__learning_rate': 'invscaling'}\n",
            "Test Accuracy: 0.8411\n",
            "              precision    recall  f1-score   support\n",
            "\n",
            "           0       0.77      0.72      0.74       342\n",
            "           1       0.87      0.90      0.89       728\n",
            "\n",
            "    accuracy                           0.84      1070\n",
            "   macro avg       0.82      0.81      0.81      1070\n",
            "weighted avg       0.84      0.84      0.84      1070\n",
            "\n"
          ]
        },
        {
          "output_type": "display_data",
          "data": {
            "text/plain": [
              "<Figure size 640x480 with 2 Axes>"
            ],
            "image/png": "[encoded data removed]"
          },
          "metadata": {}
        }
      ],
      "source": [
        "# Evaluate the final model on the test set\n",
        "y_pred = best_model.predict(X_test)\n",
        "accuracy = accuracy_score(y_test, y_pred)\n",
        "\n",
        "print(f'Best Parameters: {best_params}')\n",
        "print(f'Test Accuracy: {accuracy:.4f}')\n",
        "CMD.from_predictions(y_test,y_pred)\n",
        "print(CR(y_test,y_pred))"
      ]
    },
    {
      "cell_type": "markdown",
      "source": [
        "Accuracy :\n",
        "\n",
        "Decision Trees = 77%\n",
        "\n",
        "Random Forest = 73%\n",
        "\n",
        "Logistic Regression = 85%\n",
        "\n",
        "KNN = 71%\n",
        "\n",
        "1-layer MLP = 84%\n",
        "\n"
      ],
      "metadata": {
        "id": "ZDed2QskPIt_"
      }
    },
    {
      "cell_type": "markdown",
      "source": [
        "After looking at above results, Logistic Regression and 1-layer MLP are giving good results with their corresponding hyperparameters. But 1-layer MLP has a lot of computational time."
      ],
      "metadata": {
        "id": "UTsDw2UbP8zV"
      }
    }
  ],
  "metadata": {
    "colab": {
      "collapsed_sections": [
        "88K16OSG_Hu3",
        "IdvBGAuwCDRs",
        "dAvsUZWDEMt0"
      ],
      "provenance": []
    },
    "kernelspec": {
      "display_name": "Python 3",
      "name": "python3"
    },
    "language_info": {
      "name": "python"
    },
    "accelerator": "GPU",
    "gpuClass": "standard"
  },
  "nbformat": 4,
  "nbformat_minor": 0
}